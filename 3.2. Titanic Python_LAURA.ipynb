{
 "cells": [
  {
   "cell_type": "markdown",
   "metadata": {
    "toc": true
   },
   "source": [
    "<h1>Table of Contents<span class=\"tocSkip\"></span></h1>\n",
    "<div class=\"toc\"><ul class=\"toc-item\"><li><span><a href=\"#Titanic---Supervised-Classification\" data-toc-modified-id=\"Titanic---Supervised-Classification-1\"><span class=\"toc-item-num\">1&nbsp;&nbsp;</span>Titanic - Supervised Classification</a></span><ul class=\"toc-item\"><li><ul class=\"toc-item\"><li><span><a href=\"#Ejercicio-3.2\" data-toc-modified-id=\"Ejercicio-3.2-1.0.1\"><span class=\"toc-item-num\">1.0.1&nbsp;&nbsp;</span>Ejercicio 3.2</a></span></li></ul></li><li><span><a href=\"#1.--Conocimiento-de-los-datos\" data-toc-modified-id=\"1.--Conocimiento-de-los-datos-1.1\"><span class=\"toc-item-num\">1.1&nbsp;&nbsp;</span>1.- Conocimiento de los datos</a></span></li><li><span><a href=\"#2.--Librerías-y-parámetros\" data-toc-modified-id=\"2.--Librerías-y-parámetros-1.2\"><span class=\"toc-item-num\">1.2&nbsp;&nbsp;</span>2.- Librerías y parámetros</a></span></li><li><span><a href=\"#3.--Carga-de-datos\" data-toc-modified-id=\"3.--Carga-de-datos-1.3\"><span class=\"toc-item-num\">1.3&nbsp;&nbsp;</span>3.- Carga de datos</a></span></li><li><span><a href=\"#4.--Información-y-Limpieza\" data-toc-modified-id=\"4.--Información-y-Limpieza-1.4\"><span class=\"toc-item-num\">1.4&nbsp;&nbsp;</span>4.- Información y Limpieza</a></span></li><li><span><a href=\"#5.--Análisis\" data-toc-modified-id=\"5.--Análisis-1.5\"><span class=\"toc-item-num\">1.5&nbsp;&nbsp;</span>5.- Análisis</a></span></li><li><span><a href=\"#6.--Datos-entrenamiento-y-testeo\" data-toc-modified-id=\"6.--Datos-entrenamiento-y-testeo-1.6\"><span class=\"toc-item-num\">1.6&nbsp;&nbsp;</span>6.- Datos entrenamiento y testeo</a></span></li><li><span><a href=\"#Multicolinealidad\" data-toc-modified-id=\"Multicolinealidad-1.7\"><span class=\"toc-item-num\">1.7&nbsp;&nbsp;</span>Multicolinealidad</a></span></li><li><span><a href=\"#7.--Entrenamiento\" data-toc-modified-id=\"7.--Entrenamiento-1.8\"><span class=\"toc-item-num\">1.8&nbsp;&nbsp;</span>7.- Entrenamiento</a></span></li><li><span><a href=\"#8.--Evaluación\" data-toc-modified-id=\"8.--Evaluación-1.9\"><span class=\"toc-item-num\">1.9&nbsp;&nbsp;</span>8.- Evaluación</a></span></li><li><span><a href=\"#9.--Conclusiones\" data-toc-modified-id=\"9.--Conclusiones-1.10\"><span class=\"toc-item-num\">1.10&nbsp;&nbsp;</span>9.- Conclusiones</a></span></li></ul></li></ul></div>"
   ]
  },
  {
   "cell_type": "markdown",
   "metadata": {},
   "source": [
    "# Titanic - Supervised Classification\n",
    "### Ejercicio 3.2\n",
    "\n",
    "Pondremos en práctica los conocimientos aprendidos hasta ahora desarrollando un modelo predictivo a través de sus diferentes fases. Tomaremos el dataset del Titanic pero, en este caso, los datos a trabajar se encuentran en formato json."
   ]
  },
  {
   "cell_type": "markdown",
   "metadata": {},
   "source": [
    "## 1.- Conocimiento de los datos\n",
    "El dataset está formado por los siguientes campos:\n",
    "* **Passenger Class**: Clase de billete comprado: primera, segunda o tercera clase  \n",
    "* **Name**: Nombre del pasajero  \n",
    "* **Sex**: Sexo del pasajero  \n",
    "* **Age**: Edad del pasajero  \n",
    "* **No of Siblings or Spouses on Board**: Número de hermanos o cónyugues a bordo  \n",
    "* **No of Parents or Children on Board**: Número de padres o hijos a bordo  \n",
    "* **Ticket Number**: Número de ticket  \n",
    "* **Passanger Fare**: Tarifa pagada  \n",
    "* **Cabin**: Cabina  \n",
    "* **Port of Embarkation**: Puerto de embarque  \n",
    "* **Life Boat**: Bote salvavidas  \n",
    "* **Survived**: Yes=Sobrevivió | No=No sobrevivió  \n",
    "\n",
    "[**Objetivo**] Hay algún patrón en la supervivencia? Se podría haber predecido?\n"
   ]
  },
  {
   "cell_type": "markdown",
   "metadata": {},
   "source": [
    "## 2.- Librerías y parámetros\n",
    "Importar librerías necesarias"
   ]
  },
  {
   "cell_type": "code",
   "execution_count": 1,
   "metadata": {},
   "outputs": [],
   "source": [
    "import pandas as pd\n",
    "\n",
    "import seaborn as sns\n",
    "\n",
    "import pickle\n",
    "\n",
    "from sklearn.model_selection import train_test_split\n",
    "\n",
    "from sklearn.preprocessing import StandardScaler\n",
    "\n",
    "from sklearn.linear_model import LogisticRegression"
   ]
  },
  {
   "cell_type": "code",
   "execution_count": 2,
   "metadata": {},
   "outputs": [],
   "source": [
    "SEED = 62"
   ]
  },
  {
   "cell_type": "markdown",
   "metadata": {},
   "source": [
    "## 3.- Carga de datos\n",
    "Cargar los datos del fichero en un dataframe"
   ]
  },
  {
   "cell_type": "code",
   "execution_count": 3,
   "metadata": {},
   "outputs": [],
   "source": [
    "# Le tienes que indicar la ruta DESDE la carpeta en que está el notebook en el trabajas\n",
    "# Así hemos creado un objeto pandas que contiene los datos\n",
    "\n",
    "df = pd.read_json('data/3_2_titanic.json')"
   ]
  },
  {
   "cell_type": "code",
   "execution_count": 4,
   "metadata": {},
   "outputs": [
    {
     "data": {
      "text/html": [
       "<div>\n",
       "<style scoped>\n",
       "    .dataframe tbody tr th:only-of-type {\n",
       "        vertical-align: middle;\n",
       "    }\n",
       "\n",
       "    .dataframe tbody tr th {\n",
       "        vertical-align: top;\n",
       "    }\n",
       "\n",
       "    .dataframe thead th {\n",
       "        text-align: right;\n",
       "    }\n",
       "</style>\n",
       "<table border=\"1\" class=\"dataframe\">\n",
       "  <thead>\n",
       "    <tr style=\"text-align: right;\">\n",
       "      <th></th>\n",
       "      <th>Passenger Class</th>\n",
       "      <th>Name</th>\n",
       "      <th>Sex</th>\n",
       "      <th>Age</th>\n",
       "      <th>No of Siblings or Spouses on Board</th>\n",
       "      <th>No of Parents or Children on Board</th>\n",
       "      <th>Ticket Number</th>\n",
       "      <th>Passenger Fare</th>\n",
       "      <th>Cabin</th>\n",
       "      <th>Port of Embarkation</th>\n",
       "      <th>Life Boat</th>\n",
       "      <th>Survived</th>\n",
       "    </tr>\n",
       "  </thead>\n",
       "  <tbody>\n",
       "    <tr>\n",
       "      <th>0</th>\n",
       "      <td>First</td>\n",
       "      <td>Allen, Miss. Elisabeth Walton</td>\n",
       "      <td>Female</td>\n",
       "      <td>29.0</td>\n",
       "      <td>0</td>\n",
       "      <td>0</td>\n",
       "      <td>24160</td>\n",
       "      <td>211.3</td>\n",
       "      <td>B5</td>\n",
       "      <td>Southampton</td>\n",
       "      <td>2</td>\n",
       "      <td>Yes</td>\n",
       "    </tr>\n",
       "    <tr>\n",
       "      <th>1</th>\n",
       "      <td>First</td>\n",
       "      <td>Allison, Master. Hudson Trevor</td>\n",
       "      <td>Male</td>\n",
       "      <td>0.9</td>\n",
       "      <td>1</td>\n",
       "      <td>2</td>\n",
       "      <td>113781</td>\n",
       "      <td>151.6</td>\n",
       "      <td>C22 C26</td>\n",
       "      <td>Southampton</td>\n",
       "      <td>11</td>\n",
       "      <td>Yes</td>\n",
       "    </tr>\n",
       "    <tr>\n",
       "      <th>2</th>\n",
       "      <td>First</td>\n",
       "      <td>Allison, Miss. Helen Loraine</td>\n",
       "      <td>Female</td>\n",
       "      <td>2.0</td>\n",
       "      <td>1</td>\n",
       "      <td>2</td>\n",
       "      <td>113781</td>\n",
       "      <td>151.6</td>\n",
       "      <td>C22 C26</td>\n",
       "      <td>Southampton</td>\n",
       "      <td>None</td>\n",
       "      <td>No</td>\n",
       "    </tr>\n",
       "    <tr>\n",
       "      <th>3</th>\n",
       "      <td>First</td>\n",
       "      <td>Allison, Mr. Hudson Joshua Creighton</td>\n",
       "      <td>Male</td>\n",
       "      <td>30.0</td>\n",
       "      <td>1</td>\n",
       "      <td>2</td>\n",
       "      <td>113781</td>\n",
       "      <td>151.6</td>\n",
       "      <td>C22 C26</td>\n",
       "      <td>Southampton</td>\n",
       "      <td>None</td>\n",
       "      <td>No</td>\n",
       "    </tr>\n",
       "    <tr>\n",
       "      <th>4</th>\n",
       "      <td>First</td>\n",
       "      <td>Allison, Mrs. Hudson J C (Bessie Waldo Daniels)</td>\n",
       "      <td>Female</td>\n",
       "      <td>25.0</td>\n",
       "      <td>1</td>\n",
       "      <td>2</td>\n",
       "      <td>113781</td>\n",
       "      <td>151.6</td>\n",
       "      <td>C22 C26</td>\n",
       "      <td>Southampton</td>\n",
       "      <td>None</td>\n",
       "      <td>No</td>\n",
       "    </tr>\n",
       "  </tbody>\n",
       "</table>\n",
       "</div>"
      ],
      "text/plain": [
       "  Passenger Class                                             Name     Sex  \\\n",
       "0           First                    Allen, Miss. Elisabeth Walton  Female   \n",
       "1           First                   Allison, Master. Hudson Trevor    Male   \n",
       "2           First                     Allison, Miss. Helen Loraine  Female   \n",
       "3           First             Allison, Mr. Hudson Joshua Creighton    Male   \n",
       "4           First  Allison, Mrs. Hudson J C (Bessie Waldo Daniels)  Female   \n",
       "\n",
       "    Age  No of Siblings or Spouses on Board  \\\n",
       "0  29.0                                   0   \n",
       "1   0.9                                   1   \n",
       "2   2.0                                   1   \n",
       "3  30.0                                   1   \n",
       "4  25.0                                   1   \n",
       "\n",
       "   No of Parents or Children on Board Ticket Number  Passenger Fare    Cabin  \\\n",
       "0                                   0         24160           211.3       B5   \n",
       "1                                   2        113781           151.6  C22 C26   \n",
       "2                                   2        113781           151.6  C22 C26   \n",
       "3                                   2        113781           151.6  C22 C26   \n",
       "4                                   2        113781           151.6  C22 C26   \n",
       "\n",
       "  Port of Embarkation Life Boat Survived  \n",
       "0         Southampton         2      Yes  \n",
       "1         Southampton        11      Yes  \n",
       "2         Southampton      None       No  \n",
       "3         Southampton      None       No  \n",
       "4         Southampton      None       No  "
      ]
     },
     "execution_count": 4,
     "metadata": {},
     "output_type": "execute_result"
    }
   ],
   "source": [
    "df.head()"
   ]
  },
  {
   "cell_type": "code",
   "execution_count": 5,
   "metadata": {},
   "outputs": [
    {
     "data": {
      "text/html": [
       "<div>\n",
       "<style scoped>\n",
       "    .dataframe tbody tr th:only-of-type {\n",
       "        vertical-align: middle;\n",
       "    }\n",
       "\n",
       "    .dataframe tbody tr th {\n",
       "        vertical-align: top;\n",
       "    }\n",
       "\n",
       "    .dataframe thead th {\n",
       "        text-align: right;\n",
       "    }\n",
       "</style>\n",
       "<table border=\"1\" class=\"dataframe\">\n",
       "  <thead>\n",
       "    <tr style=\"text-align: right;\">\n",
       "      <th></th>\n",
       "      <th>Passenger Class</th>\n",
       "      <th>Name</th>\n",
       "      <th>Sex</th>\n",
       "      <th>Age</th>\n",
       "      <th>No of Siblings or Spouses on Board</th>\n",
       "      <th>No of Parents or Children on Board</th>\n",
       "      <th>Ticket Number</th>\n",
       "      <th>Passenger Fare</th>\n",
       "      <th>Cabin</th>\n",
       "      <th>Port of Embarkation</th>\n",
       "      <th>Life Boat</th>\n",
       "      <th>Survived</th>\n",
       "    </tr>\n",
       "  </thead>\n",
       "  <tbody>\n",
       "    <tr>\n",
       "      <th>1304</th>\n",
       "      <td>Third</td>\n",
       "      <td>Zabour, Miss. Hileni</td>\n",
       "      <td>Female</td>\n",
       "      <td>14.5</td>\n",
       "      <td>1</td>\n",
       "      <td>0</td>\n",
       "      <td>2665</td>\n",
       "      <td>14.5</td>\n",
       "      <td>None</td>\n",
       "      <td>Cherbourg</td>\n",
       "      <td>None</td>\n",
       "      <td>No</td>\n",
       "    </tr>\n",
       "    <tr>\n",
       "      <th>1305</th>\n",
       "      <td>Third</td>\n",
       "      <td>Zabour, Miss. Thaminen</td>\n",
       "      <td>Female</td>\n",
       "      <td>NaN</td>\n",
       "      <td>1</td>\n",
       "      <td>0</td>\n",
       "      <td>2665</td>\n",
       "      <td>14.5</td>\n",
       "      <td>None</td>\n",
       "      <td>Cherbourg</td>\n",
       "      <td>None</td>\n",
       "      <td>No</td>\n",
       "    </tr>\n",
       "    <tr>\n",
       "      <th>1306</th>\n",
       "      <td>Third</td>\n",
       "      <td>Zakarian, Mr. Mapriededer</td>\n",
       "      <td>Male</td>\n",
       "      <td>26.5</td>\n",
       "      <td>0</td>\n",
       "      <td>0</td>\n",
       "      <td>2656</td>\n",
       "      <td>7.2</td>\n",
       "      <td>None</td>\n",
       "      <td>Cherbourg</td>\n",
       "      <td>None</td>\n",
       "      <td>No</td>\n",
       "    </tr>\n",
       "    <tr>\n",
       "      <th>1307</th>\n",
       "      <td>Third</td>\n",
       "      <td>Zakarian, Mr. Ortin</td>\n",
       "      <td>Male</td>\n",
       "      <td>27.0</td>\n",
       "      <td>0</td>\n",
       "      <td>0</td>\n",
       "      <td>2670</td>\n",
       "      <td>7.2</td>\n",
       "      <td>None</td>\n",
       "      <td>Cherbourg</td>\n",
       "      <td>None</td>\n",
       "      <td>No</td>\n",
       "    </tr>\n",
       "    <tr>\n",
       "      <th>1308</th>\n",
       "      <td>Third</td>\n",
       "      <td>Zimmerman, Mr. Leo</td>\n",
       "      <td>Male</td>\n",
       "      <td>29.0</td>\n",
       "      <td>0</td>\n",
       "      <td>0</td>\n",
       "      <td>315082</td>\n",
       "      <td>7.9</td>\n",
       "      <td>None</td>\n",
       "      <td>Southampton</td>\n",
       "      <td>None</td>\n",
       "      <td>No</td>\n",
       "    </tr>\n",
       "  </tbody>\n",
       "</table>\n",
       "</div>"
      ],
      "text/plain": [
       "     Passenger Class                       Name     Sex   Age  \\\n",
       "1304           Third       Zabour, Miss. Hileni  Female  14.5   \n",
       "1305           Third     Zabour, Miss. Thaminen  Female   NaN   \n",
       "1306           Third  Zakarian, Mr. Mapriededer    Male  26.5   \n",
       "1307           Third        Zakarian, Mr. Ortin    Male  27.0   \n",
       "1308           Third         Zimmerman, Mr. Leo    Male  29.0   \n",
       "\n",
       "      No of Siblings or Spouses on Board  No of Parents or Children on Board  \\\n",
       "1304                                   1                                   0   \n",
       "1305                                   1                                   0   \n",
       "1306                                   0                                   0   \n",
       "1307                                   0                                   0   \n",
       "1308                                   0                                   0   \n",
       "\n",
       "     Ticket Number  Passenger Fare Cabin Port of Embarkation Life Boat  \\\n",
       "1304          2665            14.5  None           Cherbourg      None   \n",
       "1305          2665            14.5  None           Cherbourg      None   \n",
       "1306          2656             7.2  None           Cherbourg      None   \n",
       "1307          2670             7.2  None           Cherbourg      None   \n",
       "1308        315082             7.9  None         Southampton      None   \n",
       "\n",
       "     Survived  \n",
       "1304       No  \n",
       "1305       No  \n",
       "1306       No  \n",
       "1307       No  \n",
       "1308       No  "
      ]
     },
     "execution_count": 5,
     "metadata": {},
     "output_type": "execute_result"
    }
   ],
   "source": [
    "# los 5 últimos registros\n",
    "df.tail()"
   ]
  },
  {
   "cell_type": "markdown",
   "metadata": {},
   "source": [
    "## 4.- Información y Limpieza\n",
    "Información general de los datos"
   ]
  },
  {
   "cell_type": "markdown",
   "metadata": {},
   "source": [
    "[**EX1**] Info general"
   ]
  },
  {
   "cell_type": "code",
   "execution_count": 6,
   "metadata": {},
   "outputs": [
    {
     "name": "stdout",
     "output_type": "stream",
     "text": [
      "<class 'pandas.core.frame.DataFrame'>\n",
      "RangeIndex: 1309 entries, 0 to 1308\n",
      "Data columns (total 12 columns):\n",
      " #   Column                              Non-Null Count  Dtype  \n",
      "---  ------                              --------------  -----  \n",
      " 0   Passenger Class                     1309 non-null   object \n",
      " 1   Name                                1309 non-null   object \n",
      " 2   Sex                                 1309 non-null   object \n",
      " 3   Age                                 1046 non-null   float64\n",
      " 4   No of Siblings or Spouses on Board  1309 non-null   int64  \n",
      " 5   No of Parents or Children on Board  1309 non-null   int64  \n",
      " 6   Ticket Number                       1309 non-null   object \n",
      " 7   Passenger Fare                      1308 non-null   float64\n",
      " 8   Cabin                               295 non-null    object \n",
      " 9   Port of Embarkation                 1307 non-null   object \n",
      " 10  Life Boat                           486 non-null    object \n",
      " 11  Survived                            1309 non-null   object \n",
      "dtypes: float64(2), int64(2), object(8)\n",
      "memory usage: 122.8+ KB\n"
     ]
    }
   ],
   "source": [
    "df.info()"
   ]
  },
  {
   "cell_type": "markdown",
   "metadata": {},
   "source": [
    "[**EX2**] Nulos por columna? Podemos eliminar alguna columna? Por qué?"
   ]
  },
  {
   "cell_type": "code",
   "execution_count": 7,
   "metadata": {},
   "outputs": [
    {
     "data": {
      "text/plain": [
       "Passenger Class                          0\n",
       "Name                                     0\n",
       "Sex                                      0\n",
       "Age                                    263\n",
       "No of Siblings or Spouses on Board       0\n",
       "No of Parents or Children on Board       0\n",
       "Ticket Number                            0\n",
       "Passenger Fare                           1\n",
       "Cabin                                 1014\n",
       "Port of Embarkation                      2\n",
       "Life Boat                              823\n",
       "Survived                                 0\n",
       "dtype: int64"
      ]
     },
     "execution_count": 7,
     "metadata": {},
     "output_type": "execute_result"
    }
   ],
   "source": [
    "df.isnull().sum()"
   ]
  },
  {
   "cell_type": "code",
   "execution_count": 8,
   "metadata": {},
   "outputs": [],
   "source": [
    "df = df.drop(columns=['Cabin'])"
   ]
  },
  {
   "cell_type": "markdown",
   "metadata": {},
   "source": [
    "[**EX3**] Hay registros duplicados?"
   ]
  },
  {
   "cell_type": "code",
   "execution_count": 9,
   "metadata": {},
   "outputs": [
    {
     "data": {
      "text/plain": [
       "0       False\n",
       "1       False\n",
       "2       False\n",
       "3       False\n",
       "4       False\n",
       "        ...  \n",
       "1304    False\n",
       "1305    False\n",
       "1306    False\n",
       "1307    False\n",
       "1308    False\n",
       "Length: 1309, dtype: bool"
      ]
     },
     "execution_count": 9,
     "metadata": {},
     "output_type": "execute_result"
    }
   ],
   "source": [
    "df.duplicated()"
   ]
  },
  {
   "cell_type": "markdown",
   "metadata": {},
   "source": [
    "[**EX4**] Cuantos valores hay de cada columna?  \n",
    "https://www.geeksforgeeks.org/python-pandas-series-unique/?ref=gcse"
   ]
  },
  {
   "cell_type": "code",
   "execution_count": 10,
   "metadata": {},
   "outputs": [
    {
     "data": {
      "text/plain": [
       "array(['First', 'Second', 'Third'], dtype=object)"
      ]
     },
     "execution_count": 10,
     "metadata": {},
     "output_type": "execute_result"
    }
   ],
   "source": [
    "#para una columna, te devuelve también los valores\n",
    "df['Passenger Class'].unique()"
   ]
  },
  {
   "cell_type": "code",
   "execution_count": 11,
   "metadata": {},
   "outputs": [
    {
     "data": {
      "text/plain": [
       "Passenger Class                          3\n",
       "Name                                  1306\n",
       "Sex                                      2\n",
       "Age                                     97\n",
       "No of Siblings or Spouses on Board       7\n",
       "No of Parents or Children on Board       8\n",
       "Ticket Number                          929\n",
       "Passenger Fare                         210\n",
       "Port of Embarkation                      3\n",
       "Life Boat                               27\n",
       "Survived                                 2\n",
       "dtype: int64"
      ]
     },
     "execution_count": 11,
     "metadata": {},
     "output_type": "execute_result"
    }
   ],
   "source": [
    "#para todas las columnas, pero sólo el número de valores distintos\n",
    "df.nunique()"
   ]
  },
  {
   "cell_type": "markdown",
   "metadata": {},
   "source": [
    "[**EX5**] Qué valores hay para cada columna categórica?  \n",
    "Tip: https://pandas.pydata.org/docs/reference/api/pandas.Series.value_counts.html"
   ]
  },
  {
   "cell_type": "code",
   "execution_count": 12,
   "metadata": {},
   "outputs": [
    {
     "name": "stdout",
     "output_type": "stream",
     "text": [
      "******** Passenger Class *********\n",
      "Third     709\n",
      "First     323\n",
      "Second    277\n",
      "Name: Passenger Class, dtype: int64\n",
      "******** Name *********\n",
      "Wiseman, Mr. Phillippe       2\n",
      "Kelly, Mr. James             2\n",
      "Connolly, Miss. Kate         2\n",
      "Holthen, Mr. Johan Martin    1\n",
      "Ilieff, Mr. Ylio             1\n",
      "                            ..\n",
      "Hart, Miss. Eva Miriam       1\n",
      "Harris, Mr. Walter           1\n",
      "Harris, Mr. George           1\n",
      "Harper, Rev. John            1\n",
      "Zimmerman, Mr. Leo           1\n",
      "Name: Name, Length: 1306, dtype: int64\n",
      "******** Sex *********\n",
      "Male      843\n",
      "Female    466\n",
      "Name: Sex, dtype: int64\n",
      "******** Ticket Number *********\n",
      "CA. 2343    11\n",
      "1601         8\n",
      "CA 2144      8\n",
      "PC 17608     7\n",
      "347077       7\n",
      "            ..\n",
      "373450       1\n",
      "2223         1\n",
      "350046       1\n",
      "3101281      1\n",
      "315082       1\n",
      "Name: Ticket Number, Length: 929, dtype: int64\n",
      "******** Port of Embarkation *********\n",
      "Southampton    914\n",
      "Cherbourg      270\n",
      "Queenstown     123\n",
      "Name: Port of Embarkation, dtype: int64\n",
      "******** Life Boat *********\n",
      "13         39\n",
      "C          38\n",
      "15         37\n",
      "14         33\n",
      "4          31\n",
      "10         29\n",
      "5          27\n",
      "3          26\n",
      "9          25\n",
      "11         25\n",
      "16         23\n",
      "8          23\n",
      "7          23\n",
      "D          20\n",
      "6          20\n",
      "12         19\n",
      "2          13\n",
      "A          11\n",
      "B           9\n",
      "1           5\n",
      "5 7         2\n",
      "C D         2\n",
      "13 15       2\n",
      "5 9         1\n",
      "8 10        1\n",
      "13 15 B     1\n",
      "15 16       1\n",
      "Name: Life Boat, dtype: int64\n",
      "******** Survived *********\n",
      "No     809\n",
      "Yes    500\n",
      "Name: Survived, dtype: int64\n"
     ]
    }
   ],
   "source": [
    "qualitative_cols = ['Passenger Class', 'Name', 'Sex', 'Ticket Number', 'Port of Embarkation', 'Life Boat', 'Survived']\n",
    "\n",
    "for col in qualitative_cols:\n",
    "    print ('********' , col, '*********')\n",
    "    print (df[col].value_counts())         #cuando creas un subset, lo considera directo como un objeto tipo df"
   ]
  },
  {
   "cell_type": "markdown",
   "metadata": {},
   "source": [
    "[**EX6**] Hay alguna columna altamente dependediente con la variable objetivo a simple vista?"
   ]
  },
  {
   "cell_type": "code",
   "execution_count": 13,
   "metadata": {},
   "outputs": [
    {
     "data": {
      "text/plain": [
       "0       False\n",
       "1       False\n",
       "2        True\n",
       "3        True\n",
       "4        True\n",
       "        ...  \n",
       "1304     True\n",
       "1305     True\n",
       "1306     True\n",
       "1307     True\n",
       "1308     True\n",
       "Name: Survived, Length: 1309, dtype: bool"
      ]
     },
     "execution_count": 13,
     "metadata": {},
     "output_type": "execute_result"
    }
   ],
   "source": [
    "## Ver con FILTRO\n",
    "##así creas el filtro\n",
    "df['Survived'] == 'No'"
   ]
  },
  {
   "cell_type": "code",
   "execution_count": 14,
   "metadata": {},
   "outputs": [
    {
     "data": {
      "text/html": [
       "<div>\n",
       "<style scoped>\n",
       "    .dataframe tbody tr th:only-of-type {\n",
       "        vertical-align: middle;\n",
       "    }\n",
       "\n",
       "    .dataframe tbody tr th {\n",
       "        vertical-align: top;\n",
       "    }\n",
       "\n",
       "    .dataframe thead th {\n",
       "        text-align: right;\n",
       "    }\n",
       "</style>\n",
       "<table border=\"1\" class=\"dataframe\">\n",
       "  <thead>\n",
       "    <tr style=\"text-align: right;\">\n",
       "      <th></th>\n",
       "      <th>Passenger Class</th>\n",
       "      <th>Name</th>\n",
       "      <th>Sex</th>\n",
       "      <th>Age</th>\n",
       "      <th>No of Siblings or Spouses on Board</th>\n",
       "      <th>No of Parents or Children on Board</th>\n",
       "      <th>Ticket Number</th>\n",
       "      <th>Passenger Fare</th>\n",
       "      <th>Port of Embarkation</th>\n",
       "      <th>Life Boat</th>\n",
       "      <th>Survived</th>\n",
       "    </tr>\n",
       "  </thead>\n",
       "  <tbody>\n",
       "    <tr>\n",
       "      <th>2</th>\n",
       "      <td>First</td>\n",
       "      <td>Allison, Miss. Helen Loraine</td>\n",
       "      <td>Female</td>\n",
       "      <td>2.0</td>\n",
       "      <td>1</td>\n",
       "      <td>2</td>\n",
       "      <td>113781</td>\n",
       "      <td>151.6</td>\n",
       "      <td>Southampton</td>\n",
       "      <td>None</td>\n",
       "      <td>No</td>\n",
       "    </tr>\n",
       "    <tr>\n",
       "      <th>3</th>\n",
       "      <td>First</td>\n",
       "      <td>Allison, Mr. Hudson Joshua Creighton</td>\n",
       "      <td>Male</td>\n",
       "      <td>30.0</td>\n",
       "      <td>1</td>\n",
       "      <td>2</td>\n",
       "      <td>113781</td>\n",
       "      <td>151.6</td>\n",
       "      <td>Southampton</td>\n",
       "      <td>None</td>\n",
       "      <td>No</td>\n",
       "    </tr>\n",
       "    <tr>\n",
       "      <th>4</th>\n",
       "      <td>First</td>\n",
       "      <td>Allison, Mrs. Hudson J C (Bessie Waldo Daniels)</td>\n",
       "      <td>Female</td>\n",
       "      <td>25.0</td>\n",
       "      <td>1</td>\n",
       "      <td>2</td>\n",
       "      <td>113781</td>\n",
       "      <td>151.6</td>\n",
       "      <td>Southampton</td>\n",
       "      <td>None</td>\n",
       "      <td>No</td>\n",
       "    </tr>\n",
       "    <tr>\n",
       "      <th>7</th>\n",
       "      <td>First</td>\n",
       "      <td>Andrews, Mr. Thomas Jr</td>\n",
       "      <td>Male</td>\n",
       "      <td>39.0</td>\n",
       "      <td>0</td>\n",
       "      <td>0</td>\n",
       "      <td>112050</td>\n",
       "      <td>0.0</td>\n",
       "      <td>Southampton</td>\n",
       "      <td>None</td>\n",
       "      <td>No</td>\n",
       "    </tr>\n",
       "    <tr>\n",
       "      <th>9</th>\n",
       "      <td>First</td>\n",
       "      <td>Artagaveytia, Mr. Ramon</td>\n",
       "      <td>Male</td>\n",
       "      <td>71.0</td>\n",
       "      <td>0</td>\n",
       "      <td>0</td>\n",
       "      <td>PC 17609</td>\n",
       "      <td>49.5</td>\n",
       "      <td>Cherbourg</td>\n",
       "      <td>None</td>\n",
       "      <td>No</td>\n",
       "    </tr>\n",
       "    <tr>\n",
       "      <th>...</th>\n",
       "      <td>...</td>\n",
       "      <td>...</td>\n",
       "      <td>...</td>\n",
       "      <td>...</td>\n",
       "      <td>...</td>\n",
       "      <td>...</td>\n",
       "      <td>...</td>\n",
       "      <td>...</td>\n",
       "      <td>...</td>\n",
       "      <td>...</td>\n",
       "      <td>...</td>\n",
       "    </tr>\n",
       "    <tr>\n",
       "      <th>1304</th>\n",
       "      <td>Third</td>\n",
       "      <td>Zabour, Miss. Hileni</td>\n",
       "      <td>Female</td>\n",
       "      <td>14.5</td>\n",
       "      <td>1</td>\n",
       "      <td>0</td>\n",
       "      <td>2665</td>\n",
       "      <td>14.5</td>\n",
       "      <td>Cherbourg</td>\n",
       "      <td>None</td>\n",
       "      <td>No</td>\n",
       "    </tr>\n",
       "    <tr>\n",
       "      <th>1305</th>\n",
       "      <td>Third</td>\n",
       "      <td>Zabour, Miss. Thaminen</td>\n",
       "      <td>Female</td>\n",
       "      <td>NaN</td>\n",
       "      <td>1</td>\n",
       "      <td>0</td>\n",
       "      <td>2665</td>\n",
       "      <td>14.5</td>\n",
       "      <td>Cherbourg</td>\n",
       "      <td>None</td>\n",
       "      <td>No</td>\n",
       "    </tr>\n",
       "    <tr>\n",
       "      <th>1306</th>\n",
       "      <td>Third</td>\n",
       "      <td>Zakarian, Mr. Mapriededer</td>\n",
       "      <td>Male</td>\n",
       "      <td>26.5</td>\n",
       "      <td>0</td>\n",
       "      <td>0</td>\n",
       "      <td>2656</td>\n",
       "      <td>7.2</td>\n",
       "      <td>Cherbourg</td>\n",
       "      <td>None</td>\n",
       "      <td>No</td>\n",
       "    </tr>\n",
       "    <tr>\n",
       "      <th>1307</th>\n",
       "      <td>Third</td>\n",
       "      <td>Zakarian, Mr. Ortin</td>\n",
       "      <td>Male</td>\n",
       "      <td>27.0</td>\n",
       "      <td>0</td>\n",
       "      <td>0</td>\n",
       "      <td>2670</td>\n",
       "      <td>7.2</td>\n",
       "      <td>Cherbourg</td>\n",
       "      <td>None</td>\n",
       "      <td>No</td>\n",
       "    </tr>\n",
       "    <tr>\n",
       "      <th>1308</th>\n",
       "      <td>Third</td>\n",
       "      <td>Zimmerman, Mr. Leo</td>\n",
       "      <td>Male</td>\n",
       "      <td>29.0</td>\n",
       "      <td>0</td>\n",
       "      <td>0</td>\n",
       "      <td>315082</td>\n",
       "      <td>7.9</td>\n",
       "      <td>Southampton</td>\n",
       "      <td>None</td>\n",
       "      <td>No</td>\n",
       "    </tr>\n",
       "  </tbody>\n",
       "</table>\n",
       "<p>809 rows × 11 columns</p>\n",
       "</div>"
      ],
      "text/plain": [
       "     Passenger Class                                             Name     Sex  \\\n",
       "2              First                     Allison, Miss. Helen Loraine  Female   \n",
       "3              First             Allison, Mr. Hudson Joshua Creighton    Male   \n",
       "4              First  Allison, Mrs. Hudson J C (Bessie Waldo Daniels)  Female   \n",
       "7              First                           Andrews, Mr. Thomas Jr    Male   \n",
       "9              First                          Artagaveytia, Mr. Ramon    Male   \n",
       "...              ...                                              ...     ...   \n",
       "1304           Third                             Zabour, Miss. Hileni  Female   \n",
       "1305           Third                           Zabour, Miss. Thaminen  Female   \n",
       "1306           Third                        Zakarian, Mr. Mapriededer    Male   \n",
       "1307           Third                              Zakarian, Mr. Ortin    Male   \n",
       "1308           Third                               Zimmerman, Mr. Leo    Male   \n",
       "\n",
       "       Age  No of Siblings or Spouses on Board  \\\n",
       "2      2.0                                   1   \n",
       "3     30.0                                   1   \n",
       "4     25.0                                   1   \n",
       "7     39.0                                   0   \n",
       "9     71.0                                   0   \n",
       "...    ...                                 ...   \n",
       "1304  14.5                                   1   \n",
       "1305   NaN                                   1   \n",
       "1306  26.5                                   0   \n",
       "1307  27.0                                   0   \n",
       "1308  29.0                                   0   \n",
       "\n",
       "      No of Parents or Children on Board Ticket Number  Passenger Fare  \\\n",
       "2                                      2        113781           151.6   \n",
       "3                                      2        113781           151.6   \n",
       "4                                      2        113781           151.6   \n",
       "7                                      0        112050             0.0   \n",
       "9                                      0      PC 17609            49.5   \n",
       "...                                  ...           ...             ...   \n",
       "1304                                   0          2665            14.5   \n",
       "1305                                   0          2665            14.5   \n",
       "1306                                   0          2656             7.2   \n",
       "1307                                   0          2670             7.2   \n",
       "1308                                   0        315082             7.9   \n",
       "\n",
       "     Port of Embarkation Life Boat Survived  \n",
       "2            Southampton      None       No  \n",
       "3            Southampton      None       No  \n",
       "4            Southampton      None       No  \n",
       "7            Southampton      None       No  \n",
       "9              Cherbourg      None       No  \n",
       "...                  ...       ...      ...  \n",
       "1304           Cherbourg      None       No  \n",
       "1305           Cherbourg      None       No  \n",
       "1306           Cherbourg      None       No  \n",
       "1307           Cherbourg      None       No  \n",
       "1308         Southampton      None       No  \n",
       "\n",
       "[809 rows x 11 columns]"
      ]
     },
     "execution_count": 14,
     "metadata": {},
     "output_type": "execute_result"
    }
   ],
   "source": [
    "# Así aplicas el filtro al df\n",
    "df[df['Survived'] == 'No']"
   ]
  },
  {
   "cell_type": "code",
   "execution_count": 15,
   "metadata": {},
   "outputs": [
    {
     "data": {
      "text/plain": [
       "None    800\n",
       "A         4\n",
       "14        1\n",
       "12        1\n",
       "D         1\n",
       "B         1\n",
       "C         1\n",
       "Name: Life Boat, dtype: int64"
      ]
     },
     "execution_count": 15,
     "metadata": {},
     "output_type": "execute_result"
    }
   ],
   "source": [
    "#así vemos, en los que no sobrevivieron, qué valores tiene Life Boat\n",
    "#así podemos ver más o menos a ojo si hay una relación entre VV y si podemos eliminarla\n",
    "df[df['Survived'] == 'No']['Life Boat'].value_counts(dropna=False)"
   ]
  },
  {
   "cell_type": "code",
   "execution_count": 16,
   "metadata": {},
   "outputs": [],
   "source": [
    "#quitamos Life Boat, a parte de porque hay casi una correlación perfecta, \n",
    "#porque es un dato que se obtuvo a posteriori al embarque (los que sobrevivieron, en qué bote)\n",
    "#en el futuro, no tendremos ese dato para nuestro modelo, así que es una VV contaminante\n",
    "\n",
    "df.drop(columns = ['Life Boat'], inplace=True)"
   ]
  },
  {
   "cell_type": "code",
   "execution_count": 17,
   "metadata": {},
   "outputs": [
    {
     "data": {
      "text/plain": [
       "Index(['Passenger Class', 'Name', 'Sex', 'Age',\n",
       "       'No of Siblings or Spouses on Board',\n",
       "       'No of Parents or Children on Board', 'Ticket Number', 'Passenger Fare',\n",
       "       'Port of Embarkation', 'Survived'],\n",
       "      dtype='object')"
      ]
     },
     "execution_count": 17,
     "metadata": {},
     "output_type": "execute_result"
    }
   ],
   "source": [
    "df.columns"
   ]
  },
  {
   "cell_type": "markdown",
   "metadata": {},
   "source": [
    "[**EX7**] Alguna columna identificadora que no aporte valor para la predicción?"
   ]
  },
  {
   "cell_type": "code",
   "execution_count": 18,
   "metadata": {},
   "outputs": [],
   "source": [
    "df.drop(columns=['Name', 'Ticket Number'], inplace=True)"
   ]
  },
  {
   "cell_type": "markdown",
   "metadata": {},
   "source": [
    "[**EX8**] Duplica la columna Survived como tipo numérico  \n",
    "Tip: https://www.geeksforgeeks.org/how-to-replace-values-in-column-based-on-condition-in-pandas/"
   ]
  },
  {
   "cell_type": "code",
   "execution_count": 19,
   "metadata": {},
   "outputs": [],
   "source": [
    "# el método .iloc permite modificar índices\n",
    "# si no pones \"target\" (nueva columna), modifica la existente\n",
    "\n",
    "df.loc[df['Survived'] == 'No', 'target'] = 0\n",
    "df.loc[df['Survived'] == 'Yes', 'target'] = 1"
   ]
  },
  {
   "cell_type": "markdown",
   "metadata": {},
   "source": [
    "[**EX9**] Comprueba los datos tratados"
   ]
  },
  {
   "cell_type": "code",
   "execution_count": 20,
   "metadata": {},
   "outputs": [
    {
     "data": {
      "text/html": [
       "<div>\n",
       "<style scoped>\n",
       "    .dataframe tbody tr th:only-of-type {\n",
       "        vertical-align: middle;\n",
       "    }\n",
       "\n",
       "    .dataframe tbody tr th {\n",
       "        vertical-align: top;\n",
       "    }\n",
       "\n",
       "    .dataframe thead th {\n",
       "        text-align: right;\n",
       "    }\n",
       "</style>\n",
       "<table border=\"1\" class=\"dataframe\">\n",
       "  <thead>\n",
       "    <tr style=\"text-align: right;\">\n",
       "      <th></th>\n",
       "      <th>Passenger Class</th>\n",
       "      <th>Sex</th>\n",
       "      <th>Age</th>\n",
       "      <th>No of Siblings or Spouses on Board</th>\n",
       "      <th>No of Parents or Children on Board</th>\n",
       "      <th>Passenger Fare</th>\n",
       "      <th>Port of Embarkation</th>\n",
       "      <th>Survived</th>\n",
       "      <th>target</th>\n",
       "    </tr>\n",
       "  </thead>\n",
       "  <tbody>\n",
       "    <tr>\n",
       "      <th>0</th>\n",
       "      <td>First</td>\n",
       "      <td>Female</td>\n",
       "      <td>29.0</td>\n",
       "      <td>0</td>\n",
       "      <td>0</td>\n",
       "      <td>211.3</td>\n",
       "      <td>Southampton</td>\n",
       "      <td>Yes</td>\n",
       "      <td>1.0</td>\n",
       "    </tr>\n",
       "    <tr>\n",
       "      <th>1</th>\n",
       "      <td>First</td>\n",
       "      <td>Male</td>\n",
       "      <td>0.9</td>\n",
       "      <td>1</td>\n",
       "      <td>2</td>\n",
       "      <td>151.6</td>\n",
       "      <td>Southampton</td>\n",
       "      <td>Yes</td>\n",
       "      <td>1.0</td>\n",
       "    </tr>\n",
       "    <tr>\n",
       "      <th>2</th>\n",
       "      <td>First</td>\n",
       "      <td>Female</td>\n",
       "      <td>2.0</td>\n",
       "      <td>1</td>\n",
       "      <td>2</td>\n",
       "      <td>151.6</td>\n",
       "      <td>Southampton</td>\n",
       "      <td>No</td>\n",
       "      <td>0.0</td>\n",
       "    </tr>\n",
       "    <tr>\n",
       "      <th>3</th>\n",
       "      <td>First</td>\n",
       "      <td>Male</td>\n",
       "      <td>30.0</td>\n",
       "      <td>1</td>\n",
       "      <td>2</td>\n",
       "      <td>151.6</td>\n",
       "      <td>Southampton</td>\n",
       "      <td>No</td>\n",
       "      <td>0.0</td>\n",
       "    </tr>\n",
       "    <tr>\n",
       "      <th>4</th>\n",
       "      <td>First</td>\n",
       "      <td>Female</td>\n",
       "      <td>25.0</td>\n",
       "      <td>1</td>\n",
       "      <td>2</td>\n",
       "      <td>151.6</td>\n",
       "      <td>Southampton</td>\n",
       "      <td>No</td>\n",
       "      <td>0.0</td>\n",
       "    </tr>\n",
       "  </tbody>\n",
       "</table>\n",
       "</div>"
      ],
      "text/plain": [
       "  Passenger Class     Sex   Age  No of Siblings or Spouses on Board  \\\n",
       "0           First  Female  29.0                                   0   \n",
       "1           First    Male   0.9                                   1   \n",
       "2           First  Female   2.0                                   1   \n",
       "3           First    Male  30.0                                   1   \n",
       "4           First  Female  25.0                                   1   \n",
       "\n",
       "   No of Parents or Children on Board  Passenger Fare Port of Embarkation  \\\n",
       "0                                   0           211.3         Southampton   \n",
       "1                                   2           151.6         Southampton   \n",
       "2                                   2           151.6         Southampton   \n",
       "3                                   2           151.6         Southampton   \n",
       "4                                   2           151.6         Southampton   \n",
       "\n",
       "  Survived  target  \n",
       "0      Yes     1.0  \n",
       "1      Yes     1.0  \n",
       "2       No     0.0  \n",
       "3       No     0.0  \n",
       "4       No     0.0  "
      ]
     },
     "execution_count": 20,
     "metadata": {},
     "output_type": "execute_result"
    }
   ],
   "source": [
    "df.head()"
   ]
  },
  {
   "cell_type": "code",
   "execution_count": 21,
   "metadata": {},
   "outputs": [],
   "source": [
    "#Tenemos que tratar los nulos: rellenar los valores con algún valor\n",
    "# lo suyo es hacer un análisis antes para saber si poner la media o la md: \n",
    "# si la distribución de la VV es normal, la media; si tiene muchos outliers, la mediana\n",
    "# si es un tipo string, puedes coger el valor más repetido (que hemos visto en el value_counts)(ver siguiente)\n",
    "\n",
    "df['Age'].fillna(df['Age'].median(), inplace=True)\n",
    "df['Passenger Fare'].fillna(df['Passenger Fare'].mean(), inplace=True)\n",
    "df['Port of Embarkation'].fillna(df['Port of Embarkation'].value_counts().index[0], inplace=True)"
   ]
  },
  {
   "cell_type": "code",
   "execution_count": 22,
   "metadata": {},
   "outputs": [
    {
     "data": {
      "text/plain": [
       "'Southampton'"
      ]
     },
     "execution_count": 22,
     "metadata": {},
     "output_type": "execute_result"
    }
   ],
   "source": [
    "#valor más repetido en un object: si no pones el index, te devuelve el value. El index es parecido al key\n",
    "\n",
    "df['Port of Embarkation'].value_counts().index[0]"
   ]
  },
  {
   "cell_type": "code",
   "execution_count": 23,
   "metadata": {},
   "outputs": [
    {
     "name": "stdout",
     "output_type": "stream",
     "text": [
      "<class 'pandas.core.frame.DataFrame'>\n",
      "RangeIndex: 1309 entries, 0 to 1308\n",
      "Data columns (total 9 columns):\n",
      " #   Column                              Non-Null Count  Dtype  \n",
      "---  ------                              --------------  -----  \n",
      " 0   Passenger Class                     1309 non-null   object \n",
      " 1   Sex                                 1309 non-null   object \n",
      " 2   Age                                 1309 non-null   float64\n",
      " 3   No of Siblings or Spouses on Board  1309 non-null   int64  \n",
      " 4   No of Parents or Children on Board  1309 non-null   int64  \n",
      " 5   Passenger Fare                      1309 non-null   float64\n",
      " 6   Port of Embarkation                 1309 non-null   object \n",
      " 7   Survived                            1309 non-null   object \n",
      " 8   target                              1309 non-null   float64\n",
      "dtypes: float64(3), int64(2), object(4)\n",
      "memory usage: 92.2+ KB\n"
     ]
    }
   ],
   "source": [
    "#ahora vemos que no tenemos ningún null\n",
    "\n",
    "df.info()"
   ]
  },
  {
   "cell_type": "markdown",
   "metadata": {},
   "source": [
    "## 5.- Análisis\n",
    "Análisis estadístico y exploratorio "
   ]
  },
  {
   "cell_type": "markdown",
   "metadata": {},
   "source": [
    "[**EX10**] Estadísticas de las columnas numéricas"
   ]
  },
  {
   "cell_type": "code",
   "execution_count": 24,
   "metadata": {},
   "outputs": [
    {
     "data": {
      "text/html": [
       "<div>\n",
       "<style scoped>\n",
       "    .dataframe tbody tr th:only-of-type {\n",
       "        vertical-align: middle;\n",
       "    }\n",
       "\n",
       "    .dataframe tbody tr th {\n",
       "        vertical-align: top;\n",
       "    }\n",
       "\n",
       "    .dataframe thead th {\n",
       "        text-align: right;\n",
       "    }\n",
       "</style>\n",
       "<table border=\"1\" class=\"dataframe\">\n",
       "  <thead>\n",
       "    <tr style=\"text-align: right;\">\n",
       "      <th></th>\n",
       "      <th>count</th>\n",
       "      <th>mean</th>\n",
       "      <th>std</th>\n",
       "      <th>min</th>\n",
       "      <th>25%</th>\n",
       "      <th>50%</th>\n",
       "      <th>75%</th>\n",
       "      <th>max</th>\n",
       "    </tr>\n",
       "  </thead>\n",
       "  <tbody>\n",
       "    <tr>\n",
       "      <th>Age</th>\n",
       "      <td>1309.0</td>\n",
       "      <td>29.503209</td>\n",
       "      <td>12.905189</td>\n",
       "      <td>0.2</td>\n",
       "      <td>22.0</td>\n",
       "      <td>28.0</td>\n",
       "      <td>35.0</td>\n",
       "      <td>80.0</td>\n",
       "    </tr>\n",
       "    <tr>\n",
       "      <th>No of Siblings or Spouses on Board</th>\n",
       "      <td>1309.0</td>\n",
       "      <td>0.498854</td>\n",
       "      <td>1.041658</td>\n",
       "      <td>0.0</td>\n",
       "      <td>0.0</td>\n",
       "      <td>0.0</td>\n",
       "      <td>1.0</td>\n",
       "      <td>8.0</td>\n",
       "    </tr>\n",
       "    <tr>\n",
       "      <th>No of Parents or Children on Board</th>\n",
       "      <td>1309.0</td>\n",
       "      <td>0.385027</td>\n",
       "      <td>0.865560</td>\n",
       "      <td>0.0</td>\n",
       "      <td>0.0</td>\n",
       "      <td>0.0</td>\n",
       "      <td>0.0</td>\n",
       "      <td>9.0</td>\n",
       "    </tr>\n",
       "    <tr>\n",
       "      <th>Passenger Fare</th>\n",
       "      <td>1309.0</td>\n",
       "      <td>33.307492</td>\n",
       "      <td>51.736270</td>\n",
       "      <td>0.0</td>\n",
       "      <td>7.9</td>\n",
       "      <td>14.5</td>\n",
       "      <td>31.3</td>\n",
       "      <td>512.3</td>\n",
       "    </tr>\n",
       "    <tr>\n",
       "      <th>target</th>\n",
       "      <td>1309.0</td>\n",
       "      <td>0.381971</td>\n",
       "      <td>0.486055</td>\n",
       "      <td>0.0</td>\n",
       "      <td>0.0</td>\n",
       "      <td>0.0</td>\n",
       "      <td>1.0</td>\n",
       "      <td>1.0</td>\n",
       "    </tr>\n",
       "  </tbody>\n",
       "</table>\n",
       "</div>"
      ],
      "text/plain": [
       "                                     count       mean        std  min   25%  \\\n",
       "Age                                 1309.0  29.503209  12.905189  0.2  22.0   \n",
       "No of Siblings or Spouses on Board  1309.0   0.498854   1.041658  0.0   0.0   \n",
       "No of Parents or Children on Board  1309.0   0.385027   0.865560  0.0   0.0   \n",
       "Passenger Fare                      1309.0  33.307492  51.736270  0.0   7.9   \n",
       "target                              1309.0   0.381971   0.486055  0.0   0.0   \n",
       "\n",
       "                                     50%   75%    max  \n",
       "Age                                 28.0  35.0   80.0  \n",
       "No of Siblings or Spouses on Board   0.0   1.0    8.0  \n",
       "No of Parents or Children on Board   0.0   0.0    9.0  \n",
       "Passenger Fare                      14.5  31.3  512.3  \n",
       "target                               0.0   1.0    1.0  "
      ]
     },
     "execution_count": 24,
     "metadata": {},
     "output_type": "execute_result"
    }
   ],
   "source": [
    "# Si le pides un describe, coge directamente sólo las columnas numéricas\n",
    "# el .T hace que inverta el eje e la tabla\n",
    "df.describe().T"
   ]
  },
  {
   "cell_type": "markdown",
   "metadata": {},
   "source": [
    "[**EX11**] Matriz de correlación   \n",
    "Tip: https://www.geeksforgeeks.org/create-a-correlation-matrix-using-python/?ref=gcse"
   ]
  },
  {
   "cell_type": "code",
   "execution_count": 25,
   "metadata": {},
   "outputs": [
    {
     "data": {
      "text/html": [
       "<div>\n",
       "<style scoped>\n",
       "    .dataframe tbody tr th:only-of-type {\n",
       "        vertical-align: middle;\n",
       "    }\n",
       "\n",
       "    .dataframe tbody tr th {\n",
       "        vertical-align: top;\n",
       "    }\n",
       "\n",
       "    .dataframe thead th {\n",
       "        text-align: right;\n",
       "    }\n",
       "</style>\n",
       "<table border=\"1\" class=\"dataframe\">\n",
       "  <thead>\n",
       "    <tr style=\"text-align: right;\">\n",
       "      <th></th>\n",
       "      <th>Age</th>\n",
       "      <th>No of Siblings or Spouses on Board</th>\n",
       "      <th>No of Parents or Children on Board</th>\n",
       "      <th>Passenger Fare</th>\n",
       "    </tr>\n",
       "  </thead>\n",
       "  <tbody>\n",
       "    <tr>\n",
       "      <th>Age</th>\n",
       "      <td>1.000000</td>\n",
       "      <td>-0.189960</td>\n",
       "      <td>-0.125855</td>\n",
       "      <td>0.178869</td>\n",
       "    </tr>\n",
       "    <tr>\n",
       "      <th>No of Siblings or Spouses on Board</th>\n",
       "      <td>-0.189960</td>\n",
       "      <td>1.000000</td>\n",
       "      <td>0.373587</td>\n",
       "      <td>0.160262</td>\n",
       "    </tr>\n",
       "    <tr>\n",
       "      <th>No of Parents or Children on Board</th>\n",
       "      <td>-0.125855</td>\n",
       "      <td>0.373587</td>\n",
       "      <td>1.000000</td>\n",
       "      <td>0.221553</td>\n",
       "    </tr>\n",
       "    <tr>\n",
       "      <th>Passenger Fare</th>\n",
       "      <td>0.178869</td>\n",
       "      <td>0.160262</td>\n",
       "      <td>0.221553</td>\n",
       "      <td>1.000000</td>\n",
       "    </tr>\n",
       "  </tbody>\n",
       "</table>\n",
       "</div>"
      ],
      "text/plain": [
       "                                         Age  \\\n",
       "Age                                 1.000000   \n",
       "No of Siblings or Spouses on Board -0.189960   \n",
       "No of Parents or Children on Board -0.125855   \n",
       "Passenger Fare                      0.178869   \n",
       "\n",
       "                                    No of Siblings or Spouses on Board  \\\n",
       "Age                                                          -0.189960   \n",
       "No of Siblings or Spouses on Board                            1.000000   \n",
       "No of Parents or Children on Board                            0.373587   \n",
       "Passenger Fare                                                0.160262   \n",
       "\n",
       "                                    No of Parents or Children on Board  \\\n",
       "Age                                                          -0.125855   \n",
       "No of Siblings or Spouses on Board                            0.373587   \n",
       "No of Parents or Children on Board                            1.000000   \n",
       "Passenger Fare                                                0.221553   \n",
       "\n",
       "                                    Passenger Fare  \n",
       "Age                                       0.178869  \n",
       "No of Siblings or Spouses on Board        0.160262  \n",
       "No of Parents or Children on Board        0.221553  \n",
       "Passenger Fare                            1.000000  "
      ]
     },
     "execution_count": 25,
     "metadata": {},
     "output_type": "execute_result"
    }
   ],
   "source": [
    "quantitative_cols = [\"Age\", \"No of Siblings or Spouses on Board\", \"No of Parents or Children on Board\", \"Passenger Fare\"]\n",
    "correlation_matrix = df[quantitative_cols].corr()\n",
    "correlation_matrix"
   ]
  },
  {
   "cell_type": "markdown",
   "metadata": {},
   "source": [
    "[**EX12**] Graficar una distribución de las columnas numéricas  \n",
    "Tip: Histograma en pandas o Distribución/Boxplot en Matplotlib o Seaborn"
   ]
  },
  {
   "cell_type": "code",
   "execution_count": 26,
   "metadata": {},
   "outputs": [
    {
     "data": {
      "image/png": "[encoded data removed]",
      "text/plain": [
       "<Figure size 1152x1152 with 20 Axes>"
      ]
     },
     "metadata": {},
     "output_type": "display_data"
    }
   ],
   "source": [
    "sns.set(style='whitegrid', color_codes=True)\n",
    "quantitative_plots = sns.pairplot(df[quantitative_cols], height=4, kind='scatter', diag_kind='kde')"
   ]
  },
  {
   "cell_type": "code",
   "execution_count": 27,
   "metadata": {},
   "outputs": [
    {
     "data": {
      "image/png": "[encoded data removed]",
      "text/plain": [
       "<Figure size 432x288 with 2 Axes>"
      ]
     },
     "metadata": {},
     "output_type": "display_data"
    },
    {
     "data": {
      "image/png": "[encoded data removed]",
      "text/plain": [
       "<Figure size 432x288 with 2 Axes>"
      ]
     },
     "metadata": {},
     "output_type": "display_data"
    },
    {
     "data": {
      "image/png": "[encoded data removed]",
      "text/plain": [
       "<Figure size 432x288 with 2 Axes>"
      ]
     },
     "metadata": {},
     "output_type": "display_data"
    },
    {
     "data": {
      "image/png": "[encoded data removed]",
      "text/plain": [
       "<Figure size 432x288 with 2 Axes>"
      ]
     },
     "metadata": {},
     "output_type": "display_data"
    }
   ],
   "source": [
    "# En relación a la distribución probabilística de las variables por separado, \n",
    "# definimos una función para ver en más detalle las mismas y, al mismo tiempo, \n",
    "# acompañar la curva de densidad con un histograma junto a un diagrama de caja y bigotes\n",
    "# con fin de obtener un soporte a la hora de dar cuenta de la presencia de valores atípicos. \n",
    "\n",
    "import matplotlib.pyplot as plt\n",
    "\n",
    "def quantitative_probability_distribution(df, column):\n",
    "    # Dividimos el marco en dos partes.\n",
    "    fig, (ax_box, ax_hist) = plt.subplots(2, sharex=True, gridspec_kw={\"height_ratios\": (.20, .80)})\n",
    "    # Añadimos un gráfico a cada una de las partes.\n",
    "    sns.boxplot(x = df[column], ax=ax_box)\n",
    "    sns.histplot(x = df[column], ax=ax_hist)\n",
    "\n",
    "for col in quantitative_cols:\n",
    "    quantitative_probability_distribution(df, col)"
   ]
  },
  {
   "cell_type": "markdown",
   "metadata": {},
   "source": [
    "[**EX13**] Graficar una distribución de las columnas categóricas  \n",
    "Tip: https://seaborn.pydata.org/tutorial/categorical.html y https://seaborn.pydata.org/generated/seaborn.barplot.html#seaborn.barplot"
   ]
  },
  {
   "cell_type": "code",
   "execution_count": 33,
   "metadata": {},
   "outputs": [],
   "source": [
    "# Una vez hemos realizado el análisis de las variables numéricas, pasamos a explorar \n",
    "# las variables categóricas. Para ello, definimos la función qualitative_probability_distribution \n",
    "# que espera recibir como argumentos el dataframe y el nombre de la columna que queremos representar. \n",
    "# El cuerpo de la función consiste sencillamente en el despliegue de un gráfico de barras que muestre \n",
    "# el conteo del número de ocurrencias para cada uno de los valores de la variable y un diagrama de caja\n",
    "# y bigotes para la distribución de los valores de la variable dependiente “Survived” con respecto\n",
    "# a los diferentes valores de la columna en cuestión.\n",
    "\n",
    "def qualitative_probability_distribution(df, column):\n",
    "    # Dividimos el marco en dos partes.\n",
    "    fig, axs = plt.subplots(1, 2, figsize=(12, 4))\n",
    "    # Añadimos un gráfico a cada una de las partes.\n",
    "    sns.countplot(x=column, data=df, ax=axs[0])\n",
    "    sns.barplot(x = col, y = 'target', data = df, ax=axs[1])"
   ]
  },
  {
   "cell_type": "code",
   "execution_count": null,
   "metadata": {},
   "outputs": [],
   "source": []
  },
  {
   "cell_type": "code",
   "execution_count": 34,
   "metadata": {},
   "outputs": [
    {
     "data": {
      "image/png": "[encoded data removed]",
      "text/plain": [
       "<Figure size 864x288 with 2 Axes>"
      ]
     },
     "metadata": {},
     "output_type": "display_data"
    },
    {
     "data": {
      "image/png": "[encoded data removed]",
      "text/plain": [
       "<Figure size 864x288 with 2 Axes>"
      ]
     },
     "metadata": {},
     "output_type": "display_data"
    },
    {
     "data": {
      "image/png": "[encoded data removed]",
      "text/plain": [
       "<Figure size 864x288 with 2 Axes>"
      ]
     },
     "metadata": {},
     "output_type": "display_data"
    }
   ],
   "source": [
    "qualitative_cols = [\"Passenger Class\", \"Sex\", \"Port of Embarkation\"]\n",
    "for col in qualitative_cols:\n",
    "    qualitative_probability_distribution(df, col)"
   ]
  },
  {
   "cell_type": "markdown",
   "metadata": {},
   "source": [
    "[**EX14**] Convertir las variables categóricas a dummies y eliminar las innecesarias \n",
    "Tip: https://www.geeksforgeeks.org/how-to-create-dummy-variables-in-python-with-pandas/#:~:text=A%20dummy%20variable%20is%20a,python%20using%20get_dummies()%20method."
   ]
  },
  {
   "cell_type": "code",
   "execution_count": 28,
   "metadata": {},
   "outputs": [
    {
     "data": {
      "text/html": [
       "<div>\n",
       "<style scoped>\n",
       "    .dataframe tbody tr th:only-of-type {\n",
       "        vertical-align: middle;\n",
       "    }\n",
       "\n",
       "    .dataframe tbody tr th {\n",
       "        vertical-align: top;\n",
       "    }\n",
       "\n",
       "    .dataframe thead th {\n",
       "        text-align: right;\n",
       "    }\n",
       "</style>\n",
       "<table border=\"1\" class=\"dataframe\">\n",
       "  <thead>\n",
       "    <tr style=\"text-align: right;\">\n",
       "      <th></th>\n",
       "      <th>Age</th>\n",
       "      <th>No of Siblings or Spouses on Board</th>\n",
       "      <th>No of Parents or Children on Board</th>\n",
       "      <th>Passenger Fare</th>\n",
       "      <th>target</th>\n",
       "      <th>Passenger Class_First</th>\n",
       "      <th>Passenger Class_Second</th>\n",
       "      <th>Passenger Class_Third</th>\n",
       "      <th>Sex_Female</th>\n",
       "      <th>Sex_Male</th>\n",
       "      <th>Port of Embarkation_Cherbourg</th>\n",
       "      <th>Port of Embarkation_Queenstown</th>\n",
       "      <th>Port of Embarkation_Southampton</th>\n",
       "      <th>Survived_No</th>\n",
       "      <th>Survived_Yes</th>\n",
       "    </tr>\n",
       "  </thead>\n",
       "  <tbody>\n",
       "    <tr>\n",
       "      <th>0</th>\n",
       "      <td>29.0</td>\n",
       "      <td>0</td>\n",
       "      <td>0</td>\n",
       "      <td>211.3</td>\n",
       "      <td>1.0</td>\n",
       "      <td>1</td>\n",
       "      <td>0</td>\n",
       "      <td>0</td>\n",
       "      <td>1</td>\n",
       "      <td>0</td>\n",
       "      <td>0</td>\n",
       "      <td>0</td>\n",
       "      <td>1</td>\n",
       "      <td>0</td>\n",
       "      <td>1</td>\n",
       "    </tr>\n",
       "    <tr>\n",
       "      <th>1</th>\n",
       "      <td>0.9</td>\n",
       "      <td>1</td>\n",
       "      <td>2</td>\n",
       "      <td>151.6</td>\n",
       "      <td>1.0</td>\n",
       "      <td>1</td>\n",
       "      <td>0</td>\n",
       "      <td>0</td>\n",
       "      <td>0</td>\n",
       "      <td>1</td>\n",
       "      <td>0</td>\n",
       "      <td>0</td>\n",
       "      <td>1</td>\n",
       "      <td>0</td>\n",
       "      <td>1</td>\n",
       "    </tr>\n",
       "    <tr>\n",
       "      <th>2</th>\n",
       "      <td>2.0</td>\n",
       "      <td>1</td>\n",
       "      <td>2</td>\n",
       "      <td>151.6</td>\n",
       "      <td>0.0</td>\n",
       "      <td>1</td>\n",
       "      <td>0</td>\n",
       "      <td>0</td>\n",
       "      <td>1</td>\n",
       "      <td>0</td>\n",
       "      <td>0</td>\n",
       "      <td>0</td>\n",
       "      <td>1</td>\n",
       "      <td>1</td>\n",
       "      <td>0</td>\n",
       "    </tr>\n",
       "    <tr>\n",
       "      <th>3</th>\n",
       "      <td>30.0</td>\n",
       "      <td>1</td>\n",
       "      <td>2</td>\n",
       "      <td>151.6</td>\n",
       "      <td>0.0</td>\n",
       "      <td>1</td>\n",
       "      <td>0</td>\n",
       "      <td>0</td>\n",
       "      <td>0</td>\n",
       "      <td>1</td>\n",
       "      <td>0</td>\n",
       "      <td>0</td>\n",
       "      <td>1</td>\n",
       "      <td>1</td>\n",
       "      <td>0</td>\n",
       "    </tr>\n",
       "    <tr>\n",
       "      <th>4</th>\n",
       "      <td>25.0</td>\n",
       "      <td>1</td>\n",
       "      <td>2</td>\n",
       "      <td>151.6</td>\n",
       "      <td>0.0</td>\n",
       "      <td>1</td>\n",
       "      <td>0</td>\n",
       "      <td>0</td>\n",
       "      <td>1</td>\n",
       "      <td>0</td>\n",
       "      <td>0</td>\n",
       "      <td>0</td>\n",
       "      <td>1</td>\n",
       "      <td>1</td>\n",
       "      <td>0</td>\n",
       "    </tr>\n",
       "    <tr>\n",
       "      <th>...</th>\n",
       "      <td>...</td>\n",
       "      <td>...</td>\n",
       "      <td>...</td>\n",
       "      <td>...</td>\n",
       "      <td>...</td>\n",
       "      <td>...</td>\n",
       "      <td>...</td>\n",
       "      <td>...</td>\n",
       "      <td>...</td>\n",
       "      <td>...</td>\n",
       "      <td>...</td>\n",
       "      <td>...</td>\n",
       "      <td>...</td>\n",
       "      <td>...</td>\n",
       "      <td>...</td>\n",
       "    </tr>\n",
       "    <tr>\n",
       "      <th>1304</th>\n",
       "      <td>14.5</td>\n",
       "      <td>1</td>\n",
       "      <td>0</td>\n",
       "      <td>14.5</td>\n",
       "      <td>0.0</td>\n",
       "      <td>0</td>\n",
       "      <td>0</td>\n",
       "      <td>1</td>\n",
       "      <td>1</td>\n",
       "      <td>0</td>\n",
       "      <td>1</td>\n",
       "      <td>0</td>\n",
       "      <td>0</td>\n",
       "      <td>1</td>\n",
       "      <td>0</td>\n",
       "    </tr>\n",
       "    <tr>\n",
       "      <th>1305</th>\n",
       "      <td>28.0</td>\n",
       "      <td>1</td>\n",
       "      <td>0</td>\n",
       "      <td>14.5</td>\n",
       "      <td>0.0</td>\n",
       "      <td>0</td>\n",
       "      <td>0</td>\n",
       "      <td>1</td>\n",
       "      <td>1</td>\n",
       "      <td>0</td>\n",
       "      <td>1</td>\n",
       "      <td>0</td>\n",
       "      <td>0</td>\n",
       "      <td>1</td>\n",
       "      <td>0</td>\n",
       "    </tr>\n",
       "    <tr>\n",
       "      <th>1306</th>\n",
       "      <td>26.5</td>\n",
       "      <td>0</td>\n",
       "      <td>0</td>\n",
       "      <td>7.2</td>\n",
       "      <td>0.0</td>\n",
       "      <td>0</td>\n",
       "      <td>0</td>\n",
       "      <td>1</td>\n",
       "      <td>0</td>\n",
       "      <td>1</td>\n",
       "      <td>1</td>\n",
       "      <td>0</td>\n",
       "      <td>0</td>\n",
       "      <td>1</td>\n",
       "      <td>0</td>\n",
       "    </tr>\n",
       "    <tr>\n",
       "      <th>1307</th>\n",
       "      <td>27.0</td>\n",
       "      <td>0</td>\n",
       "      <td>0</td>\n",
       "      <td>7.2</td>\n",
       "      <td>0.0</td>\n",
       "      <td>0</td>\n",
       "      <td>0</td>\n",
       "      <td>1</td>\n",
       "      <td>0</td>\n",
       "      <td>1</td>\n",
       "      <td>1</td>\n",
       "      <td>0</td>\n",
       "      <td>0</td>\n",
       "      <td>1</td>\n",
       "      <td>0</td>\n",
       "    </tr>\n",
       "    <tr>\n",
       "      <th>1308</th>\n",
       "      <td>29.0</td>\n",
       "      <td>0</td>\n",
       "      <td>0</td>\n",
       "      <td>7.9</td>\n",
       "      <td>0.0</td>\n",
       "      <td>0</td>\n",
       "      <td>0</td>\n",
       "      <td>1</td>\n",
       "      <td>0</td>\n",
       "      <td>1</td>\n",
       "      <td>0</td>\n",
       "      <td>0</td>\n",
       "      <td>1</td>\n",
       "      <td>1</td>\n",
       "      <td>0</td>\n",
       "    </tr>\n",
       "  </tbody>\n",
       "</table>\n",
       "<p>1309 rows × 15 columns</p>\n",
       "</div>"
      ],
      "text/plain": [
       "       Age  No of Siblings or Spouses on Board  \\\n",
       "0     29.0                                   0   \n",
       "1      0.9                                   1   \n",
       "2      2.0                                   1   \n",
       "3     30.0                                   1   \n",
       "4     25.0                                   1   \n",
       "...    ...                                 ...   \n",
       "1304  14.5                                   1   \n",
       "1305  28.0                                   1   \n",
       "1306  26.5                                   0   \n",
       "1307  27.0                                   0   \n",
       "1308  29.0                                   0   \n",
       "\n",
       "      No of Parents or Children on Board  Passenger Fare  target  \\\n",
       "0                                      0           211.3     1.0   \n",
       "1                                      2           151.6     1.0   \n",
       "2                                      2           151.6     0.0   \n",
       "3                                      2           151.6     0.0   \n",
       "4                                      2           151.6     0.0   \n",
       "...                                  ...             ...     ...   \n",
       "1304                                   0            14.5     0.0   \n",
       "1305                                   0            14.5     0.0   \n",
       "1306                                   0             7.2     0.0   \n",
       "1307                                   0             7.2     0.0   \n",
       "1308                                   0             7.9     0.0   \n",
       "\n",
       "      Passenger Class_First  Passenger Class_Second  Passenger Class_Third  \\\n",
       "0                         1                       0                      0   \n",
       "1                         1                       0                      0   \n",
       "2                         1                       0                      0   \n",
       "3                         1                       0                      0   \n",
       "4                         1                       0                      0   \n",
       "...                     ...                     ...                    ...   \n",
       "1304                      0                       0                      1   \n",
       "1305                      0                       0                      1   \n",
       "1306                      0                       0                      1   \n",
       "1307                      0                       0                      1   \n",
       "1308                      0                       0                      1   \n",
       "\n",
       "      Sex_Female  Sex_Male  Port of Embarkation_Cherbourg  \\\n",
       "0              1         0                              0   \n",
       "1              0         1                              0   \n",
       "2              1         0                              0   \n",
       "3              0         1                              0   \n",
       "4              1         0                              0   \n",
       "...          ...       ...                            ...   \n",
       "1304           1         0                              1   \n",
       "1305           1         0                              1   \n",
       "1306           0         1                              1   \n",
       "1307           0         1                              1   \n",
       "1308           0         1                              0   \n",
       "\n",
       "      Port of Embarkation_Queenstown  Port of Embarkation_Southampton  \\\n",
       "0                                  0                                1   \n",
       "1                                  0                                1   \n",
       "2                                  0                                1   \n",
       "3                                  0                                1   \n",
       "4                                  0                                1   \n",
       "...                              ...                              ...   \n",
       "1304                               0                                0   \n",
       "1305                               0                                0   \n",
       "1306                               0                                0   \n",
       "1307                               0                                0   \n",
       "1308                               0                                1   \n",
       "\n",
       "      Survived_No  Survived_Yes  \n",
       "0               0             1  \n",
       "1               0             1  \n",
       "2               1             0  \n",
       "3               1             0  \n",
       "4               1             0  \n",
       "...           ...           ...  \n",
       "1304            1             0  \n",
       "1305            1             0  \n",
       "1306            1             0  \n",
       "1307            1             0  \n",
       "1308            1             0  \n",
       "\n",
       "[1309 rows x 15 columns]"
      ]
     },
     "execution_count": 28,
     "metadata": {},
     "output_type": "execute_result"
    }
   ],
   "source": [
    "#get_dummies da un valor numérico a cada VV categórica, pero sin sesgar los datos\n",
    "#si no especificas una columna, sólo df, lo hace sobre todas las VV categóricas del df\n",
    "\n",
    "df_clean = pd.get_dummies(df)\n",
    "df_clean"
   ]
  },
  {
   "cell_type": "code",
   "execution_count": 29,
   "metadata": {},
   "outputs": [],
   "source": [
    "#onehotenconder es mejor, porque guarda un registro del proceso seguido, "
   ]
  },
  {
   "cell_type": "code",
   "execution_count": 30,
   "metadata": {},
   "outputs": [],
   "source": [
    "df_clean.drop(columns=['Survived_No', 'Survived_Yes'], inplace=True)"
   ]
  },
  {
   "cell_type": "code",
   "execution_count": 35,
   "metadata": {},
   "outputs": [
    {
     "data": {
      "text/html": [
       "<div>\n",
       "<style scoped>\n",
       "    .dataframe tbody tr th:only-of-type {\n",
       "        vertical-align: middle;\n",
       "    }\n",
       "\n",
       "    .dataframe tbody tr th {\n",
       "        vertical-align: top;\n",
       "    }\n",
       "\n",
       "    .dataframe thead th {\n",
       "        text-align: right;\n",
       "    }\n",
       "</style>\n",
       "<table border=\"1\" class=\"dataframe\">\n",
       "  <thead>\n",
       "    <tr style=\"text-align: right;\">\n",
       "      <th></th>\n",
       "      <th>Age</th>\n",
       "      <th>No of Siblings or Spouses on Board</th>\n",
       "      <th>No of Parents or Children on Board</th>\n",
       "      <th>Passenger Fare</th>\n",
       "      <th>target</th>\n",
       "      <th>Passenger Class_First</th>\n",
       "      <th>Passenger Class_Second</th>\n",
       "      <th>Passenger Class_Third</th>\n",
       "      <th>Sex_Female</th>\n",
       "      <th>Sex_Male</th>\n",
       "      <th>Port of Embarkation_Cherbourg</th>\n",
       "      <th>Port of Embarkation_Queenstown</th>\n",
       "      <th>Port of Embarkation_Southampton</th>\n",
       "    </tr>\n",
       "  </thead>\n",
       "  <tbody>\n",
       "    <tr>\n",
       "      <th>0</th>\n",
       "      <td>29.0</td>\n",
       "      <td>0</td>\n",
       "      <td>0</td>\n",
       "      <td>211.3</td>\n",
       "      <td>1.0</td>\n",
       "      <td>1</td>\n",
       "      <td>0</td>\n",
       "      <td>0</td>\n",
       "      <td>1</td>\n",
       "      <td>0</td>\n",
       "      <td>0</td>\n",
       "      <td>0</td>\n",
       "      <td>1</td>\n",
       "    </tr>\n",
       "    <tr>\n",
       "      <th>1</th>\n",
       "      <td>0.9</td>\n",
       "      <td>1</td>\n",
       "      <td>2</td>\n",
       "      <td>151.6</td>\n",
       "      <td>1.0</td>\n",
       "      <td>1</td>\n",
       "      <td>0</td>\n",
       "      <td>0</td>\n",
       "      <td>0</td>\n",
       "      <td>1</td>\n",
       "      <td>0</td>\n",
       "      <td>0</td>\n",
       "      <td>1</td>\n",
       "    </tr>\n",
       "    <tr>\n",
       "      <th>2</th>\n",
       "      <td>2.0</td>\n",
       "      <td>1</td>\n",
       "      <td>2</td>\n",
       "      <td>151.6</td>\n",
       "      <td>0.0</td>\n",
       "      <td>1</td>\n",
       "      <td>0</td>\n",
       "      <td>0</td>\n",
       "      <td>1</td>\n",
       "      <td>0</td>\n",
       "      <td>0</td>\n",
       "      <td>0</td>\n",
       "      <td>1</td>\n",
       "    </tr>\n",
       "    <tr>\n",
       "      <th>3</th>\n",
       "      <td>30.0</td>\n",
       "      <td>1</td>\n",
       "      <td>2</td>\n",
       "      <td>151.6</td>\n",
       "      <td>0.0</td>\n",
       "      <td>1</td>\n",
       "      <td>0</td>\n",
       "      <td>0</td>\n",
       "      <td>0</td>\n",
       "      <td>1</td>\n",
       "      <td>0</td>\n",
       "      <td>0</td>\n",
       "      <td>1</td>\n",
       "    </tr>\n",
       "    <tr>\n",
       "      <th>4</th>\n",
       "      <td>25.0</td>\n",
       "      <td>1</td>\n",
       "      <td>2</td>\n",
       "      <td>151.6</td>\n",
       "      <td>0.0</td>\n",
       "      <td>1</td>\n",
       "      <td>0</td>\n",
       "      <td>0</td>\n",
       "      <td>1</td>\n",
       "      <td>0</td>\n",
       "      <td>0</td>\n",
       "      <td>0</td>\n",
       "      <td>1</td>\n",
       "    </tr>\n",
       "    <tr>\n",
       "      <th>...</th>\n",
       "      <td>...</td>\n",
       "      <td>...</td>\n",
       "      <td>...</td>\n",
       "      <td>...</td>\n",
       "      <td>...</td>\n",
       "      <td>...</td>\n",
       "      <td>...</td>\n",
       "      <td>...</td>\n",
       "      <td>...</td>\n",
       "      <td>...</td>\n",
       "      <td>...</td>\n",
       "      <td>...</td>\n",
       "      <td>...</td>\n",
       "    </tr>\n",
       "    <tr>\n",
       "      <th>1304</th>\n",
       "      <td>14.5</td>\n",
       "      <td>1</td>\n",
       "      <td>0</td>\n",
       "      <td>14.5</td>\n",
       "      <td>0.0</td>\n",
       "      <td>0</td>\n",
       "      <td>0</td>\n",
       "      <td>1</td>\n",
       "      <td>1</td>\n",
       "      <td>0</td>\n",
       "      <td>1</td>\n",
       "      <td>0</td>\n",
       "      <td>0</td>\n",
       "    </tr>\n",
       "    <tr>\n",
       "      <th>1305</th>\n",
       "      <td>28.0</td>\n",
       "      <td>1</td>\n",
       "      <td>0</td>\n",
       "      <td>14.5</td>\n",
       "      <td>0.0</td>\n",
       "      <td>0</td>\n",
       "      <td>0</td>\n",
       "      <td>1</td>\n",
       "      <td>1</td>\n",
       "      <td>0</td>\n",
       "      <td>1</td>\n",
       "      <td>0</td>\n",
       "      <td>0</td>\n",
       "    </tr>\n",
       "    <tr>\n",
       "      <th>1306</th>\n",
       "      <td>26.5</td>\n",
       "      <td>0</td>\n",
       "      <td>0</td>\n",
       "      <td>7.2</td>\n",
       "      <td>0.0</td>\n",
       "      <td>0</td>\n",
       "      <td>0</td>\n",
       "      <td>1</td>\n",
       "      <td>0</td>\n",
       "      <td>1</td>\n",
       "      <td>1</td>\n",
       "      <td>0</td>\n",
       "      <td>0</td>\n",
       "    </tr>\n",
       "    <tr>\n",
       "      <th>1307</th>\n",
       "      <td>27.0</td>\n",
       "      <td>0</td>\n",
       "      <td>0</td>\n",
       "      <td>7.2</td>\n",
       "      <td>0.0</td>\n",
       "      <td>0</td>\n",
       "      <td>0</td>\n",
       "      <td>1</td>\n",
       "      <td>0</td>\n",
       "      <td>1</td>\n",
       "      <td>1</td>\n",
       "      <td>0</td>\n",
       "      <td>0</td>\n",
       "    </tr>\n",
       "    <tr>\n",
       "      <th>1308</th>\n",
       "      <td>29.0</td>\n",
       "      <td>0</td>\n",
       "      <td>0</td>\n",
       "      <td>7.9</td>\n",
       "      <td>0.0</td>\n",
       "      <td>0</td>\n",
       "      <td>0</td>\n",
       "      <td>1</td>\n",
       "      <td>0</td>\n",
       "      <td>1</td>\n",
       "      <td>0</td>\n",
       "      <td>0</td>\n",
       "      <td>1</td>\n",
       "    </tr>\n",
       "  </tbody>\n",
       "</table>\n",
       "<p>1309 rows × 13 columns</p>\n",
       "</div>"
      ],
      "text/plain": [
       "       Age  No of Siblings or Spouses on Board  \\\n",
       "0     29.0                                   0   \n",
       "1      0.9                                   1   \n",
       "2      2.0                                   1   \n",
       "3     30.0                                   1   \n",
       "4     25.0                                   1   \n",
       "...    ...                                 ...   \n",
       "1304  14.5                                   1   \n",
       "1305  28.0                                   1   \n",
       "1306  26.5                                   0   \n",
       "1307  27.0                                   0   \n",
       "1308  29.0                                   0   \n",
       "\n",
       "      No of Parents or Children on Board  Passenger Fare  target  \\\n",
       "0                                      0           211.3     1.0   \n",
       "1                                      2           151.6     1.0   \n",
       "2                                      2           151.6     0.0   \n",
       "3                                      2           151.6     0.0   \n",
       "4                                      2           151.6     0.0   \n",
       "...                                  ...             ...     ...   \n",
       "1304                                   0            14.5     0.0   \n",
       "1305                                   0            14.5     0.0   \n",
       "1306                                   0             7.2     0.0   \n",
       "1307                                   0             7.2     0.0   \n",
       "1308                                   0             7.9     0.0   \n",
       "\n",
       "      Passenger Class_First  Passenger Class_Second  Passenger Class_Third  \\\n",
       "0                         1                       0                      0   \n",
       "1                         1                       0                      0   \n",
       "2                         1                       0                      0   \n",
       "3                         1                       0                      0   \n",
       "4                         1                       0                      0   \n",
       "...                     ...                     ...                    ...   \n",
       "1304                      0                       0                      1   \n",
       "1305                      0                       0                      1   \n",
       "1306                      0                       0                      1   \n",
       "1307                      0                       0                      1   \n",
       "1308                      0                       0                      1   \n",
       "\n",
       "      Sex_Female  Sex_Male  Port of Embarkation_Cherbourg  \\\n",
       "0              1         0                              0   \n",
       "1              0         1                              0   \n",
       "2              1         0                              0   \n",
       "3              0         1                              0   \n",
       "4              1         0                              0   \n",
       "...          ...       ...                            ...   \n",
       "1304           1         0                              1   \n",
       "1305           1         0                              1   \n",
       "1306           0         1                              1   \n",
       "1307           0         1                              1   \n",
       "1308           0         1                              0   \n",
       "\n",
       "      Port of Embarkation_Queenstown  Port of Embarkation_Southampton  \n",
       "0                                  0                                1  \n",
       "1                                  0                                1  \n",
       "2                                  0                                1  \n",
       "3                                  0                                1  \n",
       "4                                  0                                1  \n",
       "...                              ...                              ...  \n",
       "1304                               0                                0  \n",
       "1305                               0                                0  \n",
       "1306                               0                                0  \n",
       "1307                               0                                0  \n",
       "1308                               0                                1  \n",
       "\n",
       "[1309 rows x 13 columns]"
      ]
     },
     "execution_count": 35,
     "metadata": {},
     "output_type": "execute_result"
    }
   ],
   "source": [
    "df_cleaned = df_clean.copy()\n",
    "df_cleaned"
   ]
  },
  {
   "cell_type": "markdown",
   "metadata": {},
   "source": [
    "[**Recomendable**] Guardar los datos ya limpios"
   ]
  },
  {
   "cell_type": "code",
   "execution_count": 39,
   "metadata": {},
   "outputs": [],
   "source": [
    "#usamos la librería pickel: guarda en formato \"objeto de python\": tanto objetos como modelos\n",
    "#ocupa mucho menos espacio, y es más fácil luego aplicar modelos, porque sólo lo subes y ya\n",
    "#wb = writing // dump = función de guardar\n",
    "\n",
    "with open('data/titanic_cleaned_def.pkl', 'wb') as f:\n",
    "        pickle.dump(df_cleaned, f)"
   ]
  },
  {
   "cell_type": "code",
   "execution_count": 40,
   "metadata": {},
   "outputs": [
    {
     "data": {
      "text/html": [
       "<div>\n",
       "<style scoped>\n",
       "    .dataframe tbody tr th:only-of-type {\n",
       "        vertical-align: middle;\n",
       "    }\n",
       "\n",
       "    .dataframe tbody tr th {\n",
       "        vertical-align: top;\n",
       "    }\n",
       "\n",
       "    .dataframe thead th {\n",
       "        text-align: right;\n",
       "    }\n",
       "</style>\n",
       "<table border=\"1\" class=\"dataframe\">\n",
       "  <thead>\n",
       "    <tr style=\"text-align: right;\">\n",
       "      <th></th>\n",
       "      <th>Age</th>\n",
       "      <th>No of Siblings or Spouses on Board</th>\n",
       "      <th>No of Parents or Children on Board</th>\n",
       "      <th>Passenger Fare</th>\n",
       "      <th>target</th>\n",
       "      <th>Passenger Class_First</th>\n",
       "      <th>Passenger Class_Second</th>\n",
       "      <th>Passenger Class_Third</th>\n",
       "      <th>Sex_Female</th>\n",
       "      <th>Sex_Male</th>\n",
       "      <th>Port of Embarkation_Cherbourg</th>\n",
       "      <th>Port of Embarkation_Queenstown</th>\n",
       "      <th>Port of Embarkation_Southampton</th>\n",
       "    </tr>\n",
       "  </thead>\n",
       "  <tbody>\n",
       "    <tr>\n",
       "      <th>0</th>\n",
       "      <td>29.0</td>\n",
       "      <td>0</td>\n",
       "      <td>0</td>\n",
       "      <td>211.3</td>\n",
       "      <td>1.0</td>\n",
       "      <td>1</td>\n",
       "      <td>0</td>\n",
       "      <td>0</td>\n",
       "      <td>1</td>\n",
       "      <td>0</td>\n",
       "      <td>0</td>\n",
       "      <td>0</td>\n",
       "      <td>1</td>\n",
       "    </tr>\n",
       "    <tr>\n",
       "      <th>1</th>\n",
       "      <td>0.9</td>\n",
       "      <td>1</td>\n",
       "      <td>2</td>\n",
       "      <td>151.6</td>\n",
       "      <td>1.0</td>\n",
       "      <td>1</td>\n",
       "      <td>0</td>\n",
       "      <td>0</td>\n",
       "      <td>0</td>\n",
       "      <td>1</td>\n",
       "      <td>0</td>\n",
       "      <td>0</td>\n",
       "      <td>1</td>\n",
       "    </tr>\n",
       "    <tr>\n",
       "      <th>2</th>\n",
       "      <td>2.0</td>\n",
       "      <td>1</td>\n",
       "      <td>2</td>\n",
       "      <td>151.6</td>\n",
       "      <td>0.0</td>\n",
       "      <td>1</td>\n",
       "      <td>0</td>\n",
       "      <td>0</td>\n",
       "      <td>1</td>\n",
       "      <td>0</td>\n",
       "      <td>0</td>\n",
       "      <td>0</td>\n",
       "      <td>1</td>\n",
       "    </tr>\n",
       "    <tr>\n",
       "      <th>3</th>\n",
       "      <td>30.0</td>\n",
       "      <td>1</td>\n",
       "      <td>2</td>\n",
       "      <td>151.6</td>\n",
       "      <td>0.0</td>\n",
       "      <td>1</td>\n",
       "      <td>0</td>\n",
       "      <td>0</td>\n",
       "      <td>0</td>\n",
       "      <td>1</td>\n",
       "      <td>0</td>\n",
       "      <td>0</td>\n",
       "      <td>1</td>\n",
       "    </tr>\n",
       "    <tr>\n",
       "      <th>4</th>\n",
       "      <td>25.0</td>\n",
       "      <td>1</td>\n",
       "      <td>2</td>\n",
       "      <td>151.6</td>\n",
       "      <td>0.0</td>\n",
       "      <td>1</td>\n",
       "      <td>0</td>\n",
       "      <td>0</td>\n",
       "      <td>1</td>\n",
       "      <td>0</td>\n",
       "      <td>0</td>\n",
       "      <td>0</td>\n",
       "      <td>1</td>\n",
       "    </tr>\n",
       "    <tr>\n",
       "      <th>...</th>\n",
       "      <td>...</td>\n",
       "      <td>...</td>\n",
       "      <td>...</td>\n",
       "      <td>...</td>\n",
       "      <td>...</td>\n",
       "      <td>...</td>\n",
       "      <td>...</td>\n",
       "      <td>...</td>\n",
       "      <td>...</td>\n",
       "      <td>...</td>\n",
       "      <td>...</td>\n",
       "      <td>...</td>\n",
       "      <td>...</td>\n",
       "    </tr>\n",
       "    <tr>\n",
       "      <th>1304</th>\n",
       "      <td>14.5</td>\n",
       "      <td>1</td>\n",
       "      <td>0</td>\n",
       "      <td>14.5</td>\n",
       "      <td>0.0</td>\n",
       "      <td>0</td>\n",
       "      <td>0</td>\n",
       "      <td>1</td>\n",
       "      <td>1</td>\n",
       "      <td>0</td>\n",
       "      <td>1</td>\n",
       "      <td>0</td>\n",
       "      <td>0</td>\n",
       "    </tr>\n",
       "    <tr>\n",
       "      <th>1305</th>\n",
       "      <td>28.0</td>\n",
       "      <td>1</td>\n",
       "      <td>0</td>\n",
       "      <td>14.5</td>\n",
       "      <td>0.0</td>\n",
       "      <td>0</td>\n",
       "      <td>0</td>\n",
       "      <td>1</td>\n",
       "      <td>1</td>\n",
       "      <td>0</td>\n",
       "      <td>1</td>\n",
       "      <td>0</td>\n",
       "      <td>0</td>\n",
       "    </tr>\n",
       "    <tr>\n",
       "      <th>1306</th>\n",
       "      <td>26.5</td>\n",
       "      <td>0</td>\n",
       "      <td>0</td>\n",
       "      <td>7.2</td>\n",
       "      <td>0.0</td>\n",
       "      <td>0</td>\n",
       "      <td>0</td>\n",
       "      <td>1</td>\n",
       "      <td>0</td>\n",
       "      <td>1</td>\n",
       "      <td>1</td>\n",
       "      <td>0</td>\n",
       "      <td>0</td>\n",
       "    </tr>\n",
       "    <tr>\n",
       "      <th>1307</th>\n",
       "      <td>27.0</td>\n",
       "      <td>0</td>\n",
       "      <td>0</td>\n",
       "      <td>7.2</td>\n",
       "      <td>0.0</td>\n",
       "      <td>0</td>\n",
       "      <td>0</td>\n",
       "      <td>1</td>\n",
       "      <td>0</td>\n",
       "      <td>1</td>\n",
       "      <td>1</td>\n",
       "      <td>0</td>\n",
       "      <td>0</td>\n",
       "    </tr>\n",
       "    <tr>\n",
       "      <th>1308</th>\n",
       "      <td>29.0</td>\n",
       "      <td>0</td>\n",
       "      <td>0</td>\n",
       "      <td>7.9</td>\n",
       "      <td>0.0</td>\n",
       "      <td>0</td>\n",
       "      <td>0</td>\n",
       "      <td>1</td>\n",
       "      <td>0</td>\n",
       "      <td>1</td>\n",
       "      <td>0</td>\n",
       "      <td>0</td>\n",
       "      <td>1</td>\n",
       "    </tr>\n",
       "  </tbody>\n",
       "</table>\n",
       "<p>1309 rows × 13 columns</p>\n",
       "</div>"
      ],
      "text/plain": [
       "       Age  No of Siblings or Spouses on Board  \\\n",
       "0     29.0                                   0   \n",
       "1      0.9                                   1   \n",
       "2      2.0                                   1   \n",
       "3     30.0                                   1   \n",
       "4     25.0                                   1   \n",
       "...    ...                                 ...   \n",
       "1304  14.5                                   1   \n",
       "1305  28.0                                   1   \n",
       "1306  26.5                                   0   \n",
       "1307  27.0                                   0   \n",
       "1308  29.0                                   0   \n",
       "\n",
       "      No of Parents or Children on Board  Passenger Fare  target  \\\n",
       "0                                      0           211.3     1.0   \n",
       "1                                      2           151.6     1.0   \n",
       "2                                      2           151.6     0.0   \n",
       "3                                      2           151.6     0.0   \n",
       "4                                      2           151.6     0.0   \n",
       "...                                  ...             ...     ...   \n",
       "1304                                   0            14.5     0.0   \n",
       "1305                                   0            14.5     0.0   \n",
       "1306                                   0             7.2     0.0   \n",
       "1307                                   0             7.2     0.0   \n",
       "1308                                   0             7.9     0.0   \n",
       "\n",
       "      Passenger Class_First  Passenger Class_Second  Passenger Class_Third  \\\n",
       "0                         1                       0                      0   \n",
       "1                         1                       0                      0   \n",
       "2                         1                       0                      0   \n",
       "3                         1                       0                      0   \n",
       "4                         1                       0                      0   \n",
       "...                     ...                     ...                    ...   \n",
       "1304                      0                       0                      1   \n",
       "1305                      0                       0                      1   \n",
       "1306                      0                       0                      1   \n",
       "1307                      0                       0                      1   \n",
       "1308                      0                       0                      1   \n",
       "\n",
       "      Sex_Female  Sex_Male  Port of Embarkation_Cherbourg  \\\n",
       "0              1         0                              0   \n",
       "1              0         1                              0   \n",
       "2              1         0                              0   \n",
       "3              0         1                              0   \n",
       "4              1         0                              0   \n",
       "...          ...       ...                            ...   \n",
       "1304           1         0                              1   \n",
       "1305           1         0                              1   \n",
       "1306           0         1                              1   \n",
       "1307           0         1                              1   \n",
       "1308           0         1                              0   \n",
       "\n",
       "      Port of Embarkation_Queenstown  Port of Embarkation_Southampton  \n",
       "0                                  0                                1  \n",
       "1                                  0                                1  \n",
       "2                                  0                                1  \n",
       "3                                  0                                1  \n",
       "4                                  0                                1  \n",
       "...                              ...                              ...  \n",
       "1304                               0                                0  \n",
       "1305                               0                                0  \n",
       "1306                               0                                0  \n",
       "1307                               0                                0  \n",
       "1308                               0                                1  \n",
       "\n",
       "[1309 rows x 13 columns]"
      ]
     },
     "execution_count": 40,
     "metadata": {},
     "output_type": "execute_result"
    }
   ],
   "source": [
    "#verificamos que se ha guardado bien, subiéndolo\n",
    "# \"rb\" = reading\n",
    "\n",
    "with open('data/titanic_cleaned_def.pkl', 'rb') as f:\n",
    "    df_cleaned = pickle.load(f)\n",
    "\n",
    "df_cleaned"
   ]
  },
  {
   "cell_type": "markdown",
   "metadata": {},
   "source": [
    "## 6.- Datos entrenamiento y testeo\n",
    "Dividir los datos"
   ]
  },
  {
   "cell_type": "markdown",
   "metadata": {},
   "source": [
    "[**EX15**] Extraer la variable objetivo  \n"
   ]
  },
  {
   "cell_type": "code",
   "execution_count": 41,
   "metadata": {},
   "outputs": [],
   "source": [
    "y = df_cleaned.pop('target')"
   ]
  },
  {
   "cell_type": "code",
   "execution_count": 42,
   "metadata": {},
   "outputs": [
    {
     "data": {
      "text/html": [
       "<div>\n",
       "<style scoped>\n",
       "    .dataframe tbody tr th:only-of-type {\n",
       "        vertical-align: middle;\n",
       "    }\n",
       "\n",
       "    .dataframe tbody tr th {\n",
       "        vertical-align: top;\n",
       "    }\n",
       "\n",
       "    .dataframe thead th {\n",
       "        text-align: right;\n",
       "    }\n",
       "</style>\n",
       "<table border=\"1\" class=\"dataframe\">\n",
       "  <thead>\n",
       "    <tr style=\"text-align: right;\">\n",
       "      <th></th>\n",
       "      <th>Age</th>\n",
       "      <th>No of Siblings or Spouses on Board</th>\n",
       "      <th>No of Parents or Children on Board</th>\n",
       "      <th>Passenger Fare</th>\n",
       "      <th>Passenger Class_First</th>\n",
       "      <th>Passenger Class_Second</th>\n",
       "      <th>Passenger Class_Third</th>\n",
       "      <th>Sex_Female</th>\n",
       "      <th>Sex_Male</th>\n",
       "      <th>Port of Embarkation_Cherbourg</th>\n",
       "      <th>Port of Embarkation_Queenstown</th>\n",
       "      <th>Port of Embarkation_Southampton</th>\n",
       "    </tr>\n",
       "  </thead>\n",
       "  <tbody>\n",
       "    <tr>\n",
       "      <th>0</th>\n",
       "      <td>29.0</td>\n",
       "      <td>0</td>\n",
       "      <td>0</td>\n",
       "      <td>211.3</td>\n",
       "      <td>1</td>\n",
       "      <td>0</td>\n",
       "      <td>0</td>\n",
       "      <td>1</td>\n",
       "      <td>0</td>\n",
       "      <td>0</td>\n",
       "      <td>0</td>\n",
       "      <td>1</td>\n",
       "    </tr>\n",
       "    <tr>\n",
       "      <th>1</th>\n",
       "      <td>0.9</td>\n",
       "      <td>1</td>\n",
       "      <td>2</td>\n",
       "      <td>151.6</td>\n",
       "      <td>1</td>\n",
       "      <td>0</td>\n",
       "      <td>0</td>\n",
       "      <td>0</td>\n",
       "      <td>1</td>\n",
       "      <td>0</td>\n",
       "      <td>0</td>\n",
       "      <td>1</td>\n",
       "    </tr>\n",
       "    <tr>\n",
       "      <th>2</th>\n",
       "      <td>2.0</td>\n",
       "      <td>1</td>\n",
       "      <td>2</td>\n",
       "      <td>151.6</td>\n",
       "      <td>1</td>\n",
       "      <td>0</td>\n",
       "      <td>0</td>\n",
       "      <td>1</td>\n",
       "      <td>0</td>\n",
       "      <td>0</td>\n",
       "      <td>0</td>\n",
       "      <td>1</td>\n",
       "    </tr>\n",
       "    <tr>\n",
       "      <th>3</th>\n",
       "      <td>30.0</td>\n",
       "      <td>1</td>\n",
       "      <td>2</td>\n",
       "      <td>151.6</td>\n",
       "      <td>1</td>\n",
       "      <td>0</td>\n",
       "      <td>0</td>\n",
       "      <td>0</td>\n",
       "      <td>1</td>\n",
       "      <td>0</td>\n",
       "      <td>0</td>\n",
       "      <td>1</td>\n",
       "    </tr>\n",
       "    <tr>\n",
       "      <th>4</th>\n",
       "      <td>25.0</td>\n",
       "      <td>1</td>\n",
       "      <td>2</td>\n",
       "      <td>151.6</td>\n",
       "      <td>1</td>\n",
       "      <td>0</td>\n",
       "      <td>0</td>\n",
       "      <td>1</td>\n",
       "      <td>0</td>\n",
       "      <td>0</td>\n",
       "      <td>0</td>\n",
       "      <td>1</td>\n",
       "    </tr>\n",
       "  </tbody>\n",
       "</table>\n",
       "</div>"
      ],
      "text/plain": [
       "    Age  No of Siblings or Spouses on Board  \\\n",
       "0  29.0                                   0   \n",
       "1   0.9                                   1   \n",
       "2   2.0                                   1   \n",
       "3  30.0                                   1   \n",
       "4  25.0                                   1   \n",
       "\n",
       "   No of Parents or Children on Board  Passenger Fare  Passenger Class_First  \\\n",
       "0                                   0           211.3                      1   \n",
       "1                                   2           151.6                      1   \n",
       "2                                   2           151.6                      1   \n",
       "3                                   2           151.6                      1   \n",
       "4                                   2           151.6                      1   \n",
       "\n",
       "   Passenger Class_Second  Passenger Class_Third  Sex_Female  Sex_Male  \\\n",
       "0                       0                      0           1         0   \n",
       "1                       0                      0           0         1   \n",
       "2                       0                      0           1         0   \n",
       "3                       0                      0           0         1   \n",
       "4                       0                      0           1         0   \n",
       "\n",
       "   Port of Embarkation_Cherbourg  Port of Embarkation_Queenstown  \\\n",
       "0                              0                               0   \n",
       "1                              0                               0   \n",
       "2                              0                               0   \n",
       "3                              0                               0   \n",
       "4                              0                               0   \n",
       "\n",
       "   Port of Embarkation_Southampton  \n",
       "0                                1  \n",
       "1                                1  \n",
       "2                                1  \n",
       "3                                1  \n",
       "4                                1  "
      ]
     },
     "execution_count": 42,
     "metadata": {},
     "output_type": "execute_result"
    }
   ],
   "source": [
    "df_cleaned.head()"
   ]
  },
  {
   "cell_type": "markdown",
   "metadata": {},
   "source": [
    "[**EX16**] Splitar los datos en entrenamiento y testeo"
   ]
  },
  {
   "cell_type": "code",
   "execution_count": 43,
   "metadata": {},
   "outputs": [],
   "source": [
    "#parámetro shuffer: para que no coja los 100 primeros para train y los 100 últimos para test -> que mezcle\n",
    "#recuerda: antes hemos definido y como nuestra VV objetivo\n",
    "#test_size: 20% test, 80% train\n",
    "#random_state: la semilla. Es bueno crearlos en una VV, al inicio del código\n",
    "\n",
    "\n",
    "X_train, X_test, y_train, y_test = train_test_split (df_cleaned, y, test_size=0.2, random_state=SEED)"
   ]
  },
  {
   "cell_type": "code",
   "execution_count": 44,
   "metadata": {},
   "outputs": [
    {
     "data": {
      "text/plain": [
       "1047"
      ]
     },
     "execution_count": 44,
     "metadata": {},
     "output_type": "execute_result"
    }
   ],
   "source": [
    "# cuantos datos tenemos en X train\n",
    "len(X_train)"
   ]
  },
  {
   "cell_type": "code",
   "execution_count": 45,
   "metadata": {},
   "outputs": [
    {
     "data": {
      "text/plain": [
       "262"
      ]
     },
     "execution_count": 45,
     "metadata": {},
     "output_type": "execute_result"
    }
   ],
   "source": [
    "len(X_test)"
   ]
  },
  {
   "cell_type": "code",
   "execution_count": 46,
   "metadata": {},
   "outputs": [
    {
     "data": {
      "text/html": [
       "<div>\n",
       "<style scoped>\n",
       "    .dataframe tbody tr th:only-of-type {\n",
       "        vertical-align: middle;\n",
       "    }\n",
       "\n",
       "    .dataframe tbody tr th {\n",
       "        vertical-align: top;\n",
       "    }\n",
       "\n",
       "    .dataframe thead th {\n",
       "        text-align: right;\n",
       "    }\n",
       "</style>\n",
       "<table border=\"1\" class=\"dataframe\">\n",
       "  <thead>\n",
       "    <tr style=\"text-align: right;\">\n",
       "      <th></th>\n",
       "      <th>Age</th>\n",
       "      <th>No of Siblings or Spouses on Board</th>\n",
       "      <th>No of Parents or Children on Board</th>\n",
       "      <th>Passenger Fare</th>\n",
       "      <th>Passenger Class_First</th>\n",
       "      <th>Passenger Class_Second</th>\n",
       "      <th>Passenger Class_Third</th>\n",
       "      <th>Sex_Female</th>\n",
       "      <th>Sex_Male</th>\n",
       "      <th>Port of Embarkation_Cherbourg</th>\n",
       "      <th>Port of Embarkation_Queenstown</th>\n",
       "      <th>Port of Embarkation_Southampton</th>\n",
       "    </tr>\n",
       "  </thead>\n",
       "  <tbody>\n",
       "    <tr>\n",
       "      <th>1276</th>\n",
       "      <td>31.0</td>\n",
       "      <td>1</td>\n",
       "      <td>0</td>\n",
       "      <td>18.0</td>\n",
       "      <td>0</td>\n",
       "      <td>0</td>\n",
       "      <td>1</td>\n",
       "      <td>1</td>\n",
       "      <td>0</td>\n",
       "      <td>0</td>\n",
       "      <td>0</td>\n",
       "      <td>1</td>\n",
       "    </tr>\n",
       "    <tr>\n",
       "      <th>648</th>\n",
       "      <td>21.0</td>\n",
       "      <td>0</td>\n",
       "      <td>0</td>\n",
       "      <td>7.2</td>\n",
       "      <td>0</td>\n",
       "      <td>0</td>\n",
       "      <td>1</td>\n",
       "      <td>0</td>\n",
       "      <td>1</td>\n",
       "      <td>1</td>\n",
       "      <td>0</td>\n",
       "      <td>0</td>\n",
       "    </tr>\n",
       "    <tr>\n",
       "      <th>354</th>\n",
       "      <td>25.0</td>\n",
       "      <td>1</td>\n",
       "      <td>0</td>\n",
       "      <td>26.0</td>\n",
       "      <td>0</td>\n",
       "      <td>1</td>\n",
       "      <td>0</td>\n",
       "      <td>0</td>\n",
       "      <td>1</td>\n",
       "      <td>0</td>\n",
       "      <td>0</td>\n",
       "      <td>1</td>\n",
       "    </tr>\n",
       "    <tr>\n",
       "      <th>581</th>\n",
       "      <td>28.0</td>\n",
       "      <td>0</td>\n",
       "      <td>0</td>\n",
       "      <td>0.0</td>\n",
       "      <td>0</td>\n",
       "      <td>1</td>\n",
       "      <td>0</td>\n",
       "      <td>0</td>\n",
       "      <td>1</td>\n",
       "      <td>0</td>\n",
       "      <td>0</td>\n",
       "      <td>1</td>\n",
       "    </tr>\n",
       "    <tr>\n",
       "      <th>1089</th>\n",
       "      <td>20.0</td>\n",
       "      <td>0</td>\n",
       "      <td>0</td>\n",
       "      <td>9.2</td>\n",
       "      <td>0</td>\n",
       "      <td>0</td>\n",
       "      <td>1</td>\n",
       "      <td>0</td>\n",
       "      <td>1</td>\n",
       "      <td>0</td>\n",
       "      <td>0</td>\n",
       "      <td>1</td>\n",
       "    </tr>\n",
       "  </tbody>\n",
       "</table>\n",
       "</div>"
      ],
      "text/plain": [
       "       Age  No of Siblings or Spouses on Board  \\\n",
       "1276  31.0                                   1   \n",
       "648   21.0                                   0   \n",
       "354   25.0                                   1   \n",
       "581   28.0                                   0   \n",
       "1089  20.0                                   0   \n",
       "\n",
       "      No of Parents or Children on Board  Passenger Fare  \\\n",
       "1276                                   0            18.0   \n",
       "648                                    0             7.2   \n",
       "354                                    0            26.0   \n",
       "581                                    0             0.0   \n",
       "1089                                   0             9.2   \n",
       "\n",
       "      Passenger Class_First  Passenger Class_Second  Passenger Class_Third  \\\n",
       "1276                      0                       0                      1   \n",
       "648                       0                       0                      1   \n",
       "354                       0                       1                      0   \n",
       "581                       0                       1                      0   \n",
       "1089                      0                       0                      1   \n",
       "\n",
       "      Sex_Female  Sex_Male  Port of Embarkation_Cherbourg  \\\n",
       "1276           1         0                              0   \n",
       "648            0         1                              1   \n",
       "354            0         1                              0   \n",
       "581            0         1                              0   \n",
       "1089           0         1                              0   \n",
       "\n",
       "      Port of Embarkation_Queenstown  Port of Embarkation_Southampton  \n",
       "1276                               0                                1  \n",
       "648                                0                                0  \n",
       "354                                0                                1  \n",
       "581                                0                                1  \n",
       "1089                               0                                1  "
      ]
     },
     "execution_count": 46,
     "metadata": {},
     "output_type": "execute_result"
    }
   ],
   "source": [
    "#al poner la semilla, siempre nos tiene que dar los mismos datos y entonces dar siempre el mismo accuracy\n",
    "#aunque estemos en pcs diferentes\n",
    "X_train.head()"
   ]
  },
  {
   "cell_type": "markdown",
   "metadata": {},
   "source": [
    "[**EX17**] Normalizar los datos  \n",
    "Sklearn - StandardScaler: pt Z Tip: https://scikit-learn.org/stable/modules/preprocessing.html"
   ]
  },
  {
   "cell_type": "code",
   "execution_count": 50,
   "metadata": {},
   "outputs": [
    {
     "data": {
      "text/plain": [
       "array([[ 0.13968997,  0.53887911, -0.4459955 , ..., -0.49940298,\n",
       "        -0.33209384,  0.65301648],\n",
       "       [-0.63925867, -0.49826506, -0.4459955 , ...,  2.00239092,\n",
       "        -0.33209384, -1.53135493],\n",
       "       [-0.32767921,  0.53887911, -0.4459955 , ..., -0.49940298,\n",
       "        -0.33209384,  0.65301648],\n",
       "       ...,\n",
       "       [-0.09399462, -0.49826506, -0.4459955 , ..., -0.49940298,\n",
       "        -0.33209384,  0.65301648],\n",
       "       [ 2.71022046,  0.53887911,  4.12082392, ..., -0.49940298,\n",
       "        -0.33209384,  0.65301648],\n",
       "       [-2.19715594, -0.49826506,  1.83741421, ...,  2.00239092,\n",
       "        -0.33209384, -1.53135493]])"
      ]
     },
     "execution_count": 50,
     "metadata": {},
     "output_type": "execute_result"
    }
   ],
   "source": [
    "#Standard Scaler ha estudiado la media y DT del df (paso1), y a partir de ahí ha transformado los datos\n",
    "# y los ha normalizado (paso2), lo que devuelve un array con todos los datos normalizados\n",
    "\n",
    "modelo_normalizacion = StandardScaler().fit(X_train)\n",
    "features = modelo_normalizacion.transform(X_train)\n",
    "features"
   ]
  },
  {
   "cell_type": "markdown",
   "metadata": {},
   "source": [
    "## Multicolinealidad"
   ]
  },
  {
   "cell_type": "markdown",
   "metadata": {},
   "source": [
    "## 7.- Entrenamiento\n",
    "Entrenar el modelo"
   ]
  },
  {
   "cell_type": "code",
   "execution_count": 53,
   "metadata": {},
   "outputs": [
    {
     "data": {
      "text/plain": [
       "(1047, 12)"
      ]
     },
     "execution_count": 53,
     "metadata": {},
     "output_type": "execute_result"
    }
   ],
   "source": [
    "X_train.shape"
   ]
  },
  {
   "cell_type": "code",
   "execution_count": 54,
   "metadata": {},
   "outputs": [
    {
     "data": {
      "text/plain": [
       "(1047,)"
      ]
     },
     "execution_count": 54,
     "metadata": {},
     "output_type": "execute_result"
    }
   ],
   "source": [
    "y_train.shape"
   ]
  },
  {
   "cell_type": "markdown",
   "metadata": {},
   "source": [
    "[**EX18**] Usa una regresión logística"
   ]
  },
  {
   "cell_type": "code",
   "execution_count": 55,
   "metadata": {},
   "outputs": [],
   "source": [
    "lr = LogisticRegression(max_iter = 1500)\n",
    "model_lr = lr.fit(X_train, y_train)"
   ]
  },
  {
   "cell_type": "code",
   "execution_count": 56,
   "metadata": {},
   "outputs": [
    {
     "data": {
      "text/plain": [
       "0.7879656160458453"
      ]
     },
     "execution_count": 56,
     "metadata": {},
     "output_type": "execute_result"
    }
   ],
   "source": [
    "lr.score(X_train, y_train)"
   ]
  },
  {
   "cell_type": "markdown",
   "metadata": {},
   "source": [
    "## 8.- Evaluación\n",
    "Evaluar el modelo"
   ]
  },
  {
   "cell_type": "markdown",
   "metadata": {},
   "source": [
    "[**EX19**] Normaliza X_test"
   ]
  },
  {
   "cell_type": "code",
   "execution_count": 57,
   "metadata": {},
   "outputs": [],
   "source": [
    "X_test_norm = modelo_normalizacion.transform(X_test)"
   ]
  },
  {
   "cell_type": "markdown",
   "metadata": {},
   "source": [
    "[**EX20**] Aplica el modelo de regr. logística"
   ]
  },
  {
   "cell_type": "code",
   "execution_count": 58,
   "metadata": {},
   "outputs": [
    {
     "name": "stderr",
     "output_type": "stream",
     "text": [
      "C:\\Users\\Laura\\miniconda3\\lib\\site-packages\\sklearn\\base.py:450: UserWarning: X does not have valid feature names, but LogisticRegression was fitted with feature names\n",
      "  warnings.warn(\n"
     ]
    },
    {
     "data": {
      "text/plain": [
       "array([1., 0., 1., 0., 0., 0., 0., 0., 0., 0., 0., 0., 1., 1., 1., 1., 0.,\n",
       "       1., 0., 1., 1., 1., 1., 0., 0., 0., 1., 1., 0., 1., 0., 1., 0., 0.,\n",
       "       1., 1., 1., 1., 0., 1., 1., 1., 0., 0., 1., 0., 1., 1., 1., 0., 0.,\n",
       "       1., 1., 0., 1., 0., 0., 1., 1., 1., 1., 1., 1., 1., 0., 0., 1., 0.,\n",
       "       1., 0., 1., 0., 1., 1., 1., 0., 1., 0., 1., 1., 1., 1., 1., 1., 0.,\n",
       "       0., 0., 1., 1., 0., 0., 1., 1., 1., 1., 1., 0., 0., 1., 0., 1., 1.,\n",
       "       1., 0., 1., 1., 0., 1., 1., 0., 0., 0., 0., 0., 1., 0., 1., 1., 0.,\n",
       "       1., 1., 0., 1., 0., 1., 0., 1., 1., 1., 0., 0., 0., 1., 0., 1., 0.,\n",
       "       1., 0., 0., 0., 0., 1., 1., 1., 1., 1., 0., 1., 0., 0., 1., 1., 0.,\n",
       "       1., 1., 1., 0., 1., 0., 1., 1., 1., 1., 0., 1., 1., 1., 0., 1., 0.,\n",
       "       0., 0., 1., 1., 0., 0., 1., 0., 0., 1., 1., 1., 1., 0., 1., 1., 1.,\n",
       "       0., 1., 1., 1., 1., 1., 0., 1., 0., 0., 0., 1., 1., 0., 0., 1., 1.,\n",
       "       1., 0., 1., 1., 0., 0., 1., 1., 0., 1., 1., 1., 1., 0., 0., 1., 1.,\n",
       "       0., 1., 0., 0., 0., 1., 0., 1., 0., 1., 1., 1., 0., 0., 1., 0., 0.,\n",
       "       1., 1., 1., 0., 0., 1., 1., 0., 0., 1., 1., 0., 0., 1., 0., 1., 1.,\n",
       "       0., 0., 0., 1., 0., 1., 1.])"
      ]
     },
     "execution_count": 58,
     "metadata": {},
     "output_type": "execute_result"
    }
   ],
   "source": [
    "predictions = lr.predict(X_test_norm)\n",
    "predictions"
   ]
  },
  {
   "cell_type": "code",
   "execution_count": 59,
   "metadata": {},
   "outputs": [
    {
     "data": {
      "text/plain": [
       "array([[0.34693957, 0.65306043],\n",
       "       [0.76664779, 0.23335221],\n",
       "       [0.0848969 , 0.9151031 ],\n",
       "       [0.87466476, 0.12533524],\n",
       "       [0.85814296, 0.14185704],\n",
       "       [0.93255375, 0.06744625],\n",
       "       [0.84061517, 0.15938483],\n",
       "       [0.85095985, 0.14904015],\n",
       "       [0.88191515, 0.11808485],\n",
       "       [0.81591512, 0.18408488],\n",
       "       [0.87063679, 0.12936321],\n",
       "       [0.88513682, 0.11486318],\n",
       "       [0.75830818, 0.24169182],\n",
       "       [0.56861381, 0.43138619],\n",
       "       [0.48898807, 0.51101193],\n",
       "       [0.72669714, 0.27330286],\n",
       "       [0.89931217, 0.10068783],\n",
       "       [0.26584785, 0.73415215],\n",
       "       [0.72007127, 0.27992873],\n",
       "       [0.5733995 , 0.4266005 ],\n",
       "       [0.37082226, 0.62917774],\n",
       "       [0.06593151, 0.93406849],\n",
       "       [0.4335385 , 0.5664615 ],\n",
       "       [0.63065611, 0.36934389],\n",
       "       [0.91009899, 0.08990101],\n",
       "       [0.85346937, 0.14653063],\n",
       "       [0.53276221, 0.46723779],\n",
       "       [0.88151876, 0.11848124],\n",
       "       [0.90592735, 0.09407265],\n",
       "       [0.12810515, 0.87189485],\n",
       "       [0.9179261 , 0.0820739 ],\n",
       "       [0.46748624, 0.53251376],\n",
       "       [0.89637163, 0.10362837],\n",
       "       [0.95949469, 0.04050531],\n",
       "       [0.29976536, 0.70023464],\n",
       "       [0.61435436, 0.38564564],\n",
       "       [0.63341848, 0.36658152],\n",
       "       [0.14213681, 0.85786319],\n",
       "       [0.87873358, 0.12126642],\n",
       "       [0.7058717 , 0.2941283 ],\n",
       "       [0.34596593, 0.65403407],\n",
       "       [0.05208433, 0.94791567],\n",
       "       [0.91346226, 0.08653774],\n",
       "       [0.84081939, 0.15918061],\n",
       "       [0.2367621 , 0.7632379 ],\n",
       "       [0.89975701, 0.10024299],\n",
       "       [0.46367589, 0.53632411],\n",
       "       [0.44025879, 0.55974121],\n",
       "       [0.25626131, 0.74373869],\n",
       "       [0.88596745, 0.11403255],\n",
       "       [0.88239872, 0.11760128],\n",
       "       [0.27574237, 0.72425763],\n",
       "       [0.09576085, 0.90423915],\n",
       "       [0.86255818, 0.13744182],\n",
       "       [0.64168682, 0.35831318],\n",
       "       [0.92437126, 0.07562874],\n",
       "       [0.89632842, 0.10367158],\n",
       "       [0.06564457, 0.93435543],\n",
       "       [0.68886875, 0.31113125],\n",
       "       [0.12039608, 0.87960392],\n",
       "       [0.59533568, 0.40466432],\n",
       "       [0.88151876, 0.11848124],\n",
       "       [0.56438718, 0.43561282],\n",
       "       [0.05295287, 0.94704713],\n",
       "       [0.75225368, 0.24774632],\n",
       "       [0.74119001, 0.25880999],\n",
       "       [0.04134592, 0.95865408],\n",
       "       [0.94650537, 0.05349463],\n",
       "       [0.56832854, 0.43167146],\n",
       "       [0.90889436, 0.09110564],\n",
       "       [0.39692629, 0.60307371],\n",
       "       [0.8932002 , 0.1067998 ],\n",
       "       [0.1767171 , 0.8232829 ],\n",
       "       [0.39698196, 0.60301804],\n",
       "       [0.19332665, 0.80667335],\n",
       "       [0.93502753, 0.06497247],\n",
       "       [0.26657133, 0.73342867],\n",
       "       [0.90329518, 0.09670482],\n",
       "       [0.64204995, 0.35795005],\n",
       "       [0.78000311, 0.21999689],\n",
       "       [0.0905151 , 0.9094849 ],\n",
       "       [0.18904815, 0.81095185],\n",
       "       [0.12524665, 0.87475335],\n",
       "       [0.09161551, 0.90838449],\n",
       "       [0.92307435, 0.07692565],\n",
       "       [0.88953291, 0.11046709],\n",
       "       [0.87469026, 0.12530974],\n",
       "       [0.22374747, 0.77625253],\n",
       "       [0.04362616, 0.95637384],\n",
       "       [0.81800408, 0.18199592],\n",
       "       [0.87438402, 0.12561598],\n",
       "       [0.0618676 , 0.9381324 ],\n",
       "       [0.17136988, 0.82863012],\n",
       "       [0.53627695, 0.46372305],\n",
       "       [0.77778301, 0.22221699],\n",
       "       [0.05475154, 0.94524846],\n",
       "       [0.90594716, 0.09405284],\n",
       "       [0.81563549, 0.18436451],\n",
       "       [0.21858561, 0.78141439],\n",
       "       [0.88962804, 0.11037196],\n",
       "       [0.5733995 , 0.4266005 ],\n",
       "       [0.46801686, 0.53198314],\n",
       "       [0.1213786 , 0.8786214 ],\n",
       "       [0.90877247, 0.09122753],\n",
       "       [0.21136987, 0.78863013],\n",
       "       [0.20168817, 0.79831183],\n",
       "       [0.76821623, 0.23178377],\n",
       "       [0.36337176, 0.63662824],\n",
       "       [0.53858974, 0.46141026],\n",
       "       [0.93875084, 0.06124916],\n",
       "       [0.8028454 , 0.1971546 ],\n",
       "       [0.86660672, 0.13339328],\n",
       "       [0.89632842, 0.10367158],\n",
       "       [0.86609505, 0.13390495],\n",
       "       [0.51069149, 0.48930851],\n",
       "       [0.90726565, 0.09273435],\n",
       "       [0.63020322, 0.36979678],\n",
       "       [0.57044806, 0.42955194],\n",
       "       [0.88196359, 0.11803641],\n",
       "       [0.68926612, 0.31073388],\n",
       "       [0.35531844, 0.64468156],\n",
       "       [0.89654434, 0.10345566],\n",
       "       [0.20177164, 0.79822836],\n",
       "       [0.86458142, 0.13541858],\n",
       "       [0.75194343, 0.24805657],\n",
       "       [0.87068918, 0.12931082],\n",
       "       [0.26979222, 0.73020778],\n",
       "       [0.71934529, 0.28065471],\n",
       "       [0.20528586, 0.79471414],\n",
       "       [0.89639324, 0.10360676],\n",
       "       [0.81563549, 0.18436451],\n",
       "       [0.85624217, 0.14375783],\n",
       "       [0.2757222 , 0.7242778 ],\n",
       "       [0.76606842, 0.23393158],\n",
       "       [0.07616577, 0.92383423],\n",
       "       [0.82014589, 0.17985411],\n",
       "       [0.41434645, 0.58565355],\n",
       "       [0.85800134, 0.14199866],\n",
       "       [0.81563549, 0.18436451],\n",
       "       [0.90657661, 0.09342339],\n",
       "       [0.92032676, 0.07967324],\n",
       "       [0.62390948, 0.37609052],\n",
       "       [0.04725781, 0.95274219],\n",
       "       [0.15283098, 0.84716902],\n",
       "       [0.21191952, 0.78808048],\n",
       "       [0.11302619, 0.88697381],\n",
       "       [0.91522629, 0.08477371],\n",
       "       [0.82420662, 0.17579338],\n",
       "       [0.85237622, 0.14762378],\n",
       "       [0.76124377, 0.23875623],\n",
       "       [0.04160922, 0.95839078],\n",
       "       [0.11154808, 0.88845192],\n",
       "       [0.98914156, 0.01085844],\n",
       "       [0.14636141, 0.85363859],\n",
       "       [0.34520098, 0.65479902],\n",
       "       [0.14177254, 0.85822746],\n",
       "       [0.89637163, 0.10362837],\n",
       "       [0.40638183, 0.59361817],\n",
       "       [0.8358581 , 0.1641419 ],\n",
       "       [0.10442946, 0.89557054],\n",
       "       [0.47176487, 0.52823513],\n",
       "       [0.26435594, 0.73564406],\n",
       "       [0.06280561, 0.93719439],\n",
       "       [0.87481766, 0.12518234],\n",
       "       [0.04474687, 0.95525313],\n",
       "       [0.21916431, 0.78083569],\n",
       "       [0.32583764, 0.67416236],\n",
       "       [0.89632842, 0.10367158],\n",
       "       [0.63328648, 0.36671352],\n",
       "       [0.81392813, 0.18607187],\n",
       "       [0.88409974, 0.11590026],\n",
       "       [0.91757781, 0.08242219],\n",
       "       [0.50288725, 0.49711275],\n",
       "       [0.0893918 , 0.9106082 ],\n",
       "       [0.88962804, 0.11037196],\n",
       "       [0.88599095, 0.11400905],\n",
       "       [0.38570984, 0.61429016],\n",
       "       [0.88785726, 0.11214274],\n",
       "       [0.7676864 , 0.2323136 ],\n",
       "       [0.39675016, 0.60324984],\n",
       "       [0.04013878, 0.95986122],\n",
       "       [0.71965743, 0.28034257],\n",
       "       [0.32564498, 0.67435502],\n",
       "       [0.89300035, 0.10699965],\n",
       "       [0.0946766 , 0.9053234 ],\n",
       "       [0.62839939, 0.37160061],\n",
       "       [0.19987271, 0.80012729],\n",
       "       [0.70471522, 0.29528478],\n",
       "       [0.30848363, 0.69151637],\n",
       "       [0.41388576, 0.58611424],\n",
       "       [0.0787564 , 0.9212436 ],\n",
       "       [0.41070497, 0.58929503],\n",
       "       [0.41200304, 0.58799696],\n",
       "       [0.78627909, 0.21372091],\n",
       "       [0.75867805, 0.24132195],\n",
       "       [0.88237458, 0.11762542],\n",
       "       [0.80151705, 0.19848295],\n",
       "       [0.89632842, 0.10367158],\n",
       "       [0.24659409, 0.75340591],\n",
       "       [0.66967694, 0.33032306],\n",
       "       [0.89637163, 0.10362837],\n",
       "       [0.64703817, 0.35296183],\n",
       "       [0.62962316, 0.37037684],\n",
       "       [0.12341434, 0.87658566],\n",
       "       [0.39692629, 0.60307371],\n",
       "       [0.8573926 , 0.1426074 ],\n",
       "       [0.43980032, 0.56019968],\n",
       "       [0.58198169, 0.41801831],\n",
       "       [0.94077624, 0.05922376],\n",
       "       [0.888316  , 0.111684  ],\n",
       "       [0.71433404, 0.28566596],\n",
       "       [0.38913994, 0.61086006],\n",
       "       [0.8742818 , 0.1257182 ],\n",
       "       [0.09865088, 0.90134912],\n",
       "       [0.32098179, 0.67901821],\n",
       "       [0.58020365, 0.41979635],\n",
       "       [0.71453459, 0.28546541],\n",
       "       [0.83505147, 0.16494853],\n",
       "       [0.86882054, 0.13117946],\n",
       "       [0.3709291 , 0.6290709 ],\n",
       "       [0.57458198, 0.42541802],\n",
       "       [0.81563549, 0.18436451],\n",
       "       [0.41388576, 0.58611424],\n",
       "       [0.89282244, 0.10717756],\n",
       "       [0.81563549, 0.18436451],\n",
       "       [0.90283324, 0.09716676],\n",
       "       [0.22509706, 0.77490294],\n",
       "       [0.74689702, 0.25310298],\n",
       "       [0.08592788, 0.91407212],\n",
       "       [0.95855658, 0.04144342],\n",
       "       [0.3167888 , 0.6832112 ],\n",
       "       [0.66603394, 0.33396606],\n",
       "       [0.48355433, 0.51644567],\n",
       "       [0.92489286, 0.07510714],\n",
       "       [0.88962804, 0.11037196],\n",
       "       [0.26535679, 0.73464321],\n",
       "       [0.91359063, 0.08640937],\n",
       "       [0.88539161, 0.11460839],\n",
       "       [0.81940802, 0.18059198],\n",
       "       [0.88151876, 0.11848124],\n",
       "       [0.81161085, 0.18838915],\n",
       "       [0.96308004, 0.03691996],\n",
       "       [0.89637163, 0.10362837],\n",
       "       [0.05852596, 0.94147404],\n",
       "       [0.64172917, 0.35827083],\n",
       "       [0.89014306, 0.10985694],\n",
       "       [0.93875084, 0.06124916],\n",
       "       [0.04630929, 0.95369071],\n",
       "       [0.14362022, 0.85637978],\n",
       "       [0.89270387, 0.10729613],\n",
       "       [0.89637163, 0.10362837],\n",
       "       [0.62513708, 0.37486292],\n",
       "       [0.98914156, 0.01085844],\n",
       "       [0.1231729 , 0.8768271 ],\n",
       "       [0.57089436, 0.42910564],\n",
       "       [0.87855999, 0.12144001],\n",
       "       [0.91643029, 0.08356971],\n",
       "       [0.83575263, 0.16424737],\n",
       "       [0.78962428, 0.21037572],\n",
       "       [0.83466211, 0.16533789],\n",
       "       [0.67957891, 0.32042109],\n",
       "       [0.05455756, 0.94544244]])"
      ]
     },
     "execution_count": 59,
     "metadata": {},
     "output_type": "execute_result"
    }
   ],
   "source": [
    "probability = lr.predict_proba(X_test)\n",
    "probability"
   ]
  },
  {
   "cell_type": "markdown",
   "metadata": {},
   "source": [
    "[**EX21**] Medidas de AUC, Accuracy y Matriz de Confusion"
   ]
  },
  {
   "cell_type": "code",
   "execution_count": 62,
   "metadata": {},
   "outputs": [
    {
     "data": {
      "text/plain": [
       "0.7283549783549784"
      ]
     },
     "execution_count": 62,
     "metadata": {},
     "output_type": "execute_result"
    }
   ],
   "source": [
    "# ROC - AUC\n",
    "from sklearn import metrics\n",
    "metrics.roc_auc_score(y_test, predictions)"
   ]
  },
  {
   "cell_type": "code",
   "execution_count": 63,
   "metadata": {},
   "outputs": [
    {
     "data": {
      "text/plain": [
       "0.7099236641221374"
      ]
     },
     "execution_count": 63,
     "metadata": {},
     "output_type": "execute_result"
    }
   ],
   "source": [
    "# Accuracy\n",
    "metrics.accuracy_score(y_test, predictions)"
   ]
  },
  {
   "cell_type": "code",
   "execution_count": 64,
   "metadata": {},
   "outputs": [
    {
     "data": {
      "text/plain": [
       "0.6081081081081081"
      ]
     },
     "execution_count": 64,
     "metadata": {},
     "output_type": "execute_result"
    }
   ],
   "source": [
    "metrics.precision_score(y_test, predictions)"
   ]
  },
  {
   "cell_type": "code",
   "execution_count": 65,
   "metadata": {},
   "outputs": [
    {
     "data": {
      "text/plain": [
       "0.8333333333333334"
      ]
     },
     "execution_count": 65,
     "metadata": {},
     "output_type": "execute_result"
    }
   ],
   "source": [
    "metrics.recall_score(y_test, predictions)"
   ]
  },
  {
   "cell_type": "code",
   "execution_count": 66,
   "metadata": {},
   "outputs": [
    {
     "data": {
      "text/plain": [
       "0.7031250000000001"
      ]
     },
     "execution_count": 66,
     "metadata": {},
     "output_type": "execute_result"
    }
   ],
   "source": [
    "metrics.f1_score(y_test, predictions)"
   ]
  },
  {
   "cell_type": "code",
   "execution_count": 76,
   "metadata": {},
   "outputs": [
    {
     "name": "stdout",
     "output_type": "stream",
     "text": [
      "\u001b[1mConfusion Matrix for Logistic Regression \u001b[0m \n",
      "\n"
     ]
    },
    {
     "name": "stderr",
     "output_type": "stream",
     "text": [
      "C:\\Users\\Laura\\miniconda3\\lib\\site-packages\\sklearn\\utils\\deprecation.py:87: FutureWarning: Function plot_confusion_matrix is deprecated; Function `plot_confusion_matrix` is deprecated in 1.0 and will be removed in 1.2. Use one of the class methods: ConfusionMatrixDisplay.from_predictions or ConfusionMatrixDisplay.from_estimator.\n",
      "  warnings.warn(msg, category=FutureWarning)\n"
     ]
    },
    {
     "data": {
      "text/plain": [
       "<sklearn.metrics._plot.confusion_matrix.ConfusionMatrixDisplay at 0x18c994804f0>"
      ]
     },
     "execution_count": 76,
     "metadata": {},
     "output_type": "execute_result"
    },
    {
     "data": {
      "image/png": "[encoded data removed]",
      "text/plain": [
       "<Figure size 432x288 with 2 Axes>"
      ]
     },
     "metadata": {},
     "output_type": "display_data"
    }
   ],
   "source": [
    "print('\\033[1m' + 'Confusion Matrix for Logistic Regression','\\033[0m', '\\n')\n",
    "\n",
    "# The next plot is more beatiful than the commented one\n",
    "#cm_lr = metrics.confusion_matrix(y_test, predictions)\n",
    "#print(cm_lr)\n",
    "\n",
    "metrics.plot_confusion_matrix(lr, X_test, y_test)"
   ]
  },
  {
   "cell_type": "markdown",
   "metadata": {},
   "source": [
    "los falsos positivos son la esquina superior derecha\n",
    "\n",
    "los falsos negativos son la esquina inferior izquierda\n",
    "\n",
    "recall = bajar los falsos negative\n",
    "\n",
    "precision = mínimos false positive\n",
    "\n",
    "clase positiva = columna izquierda\n",
    "\n",
    "clase negativa = columna derecha\n",
    "\n",
    "recall se lee en filas\n",
    "\n",
    "precision se lee en columnas"
   ]
  },
  {
   "cell_type": "code",
   "execution_count": 78,
   "metadata": {},
   "outputs": [
    {
     "data": {
      "image/png": "[encoded data removed]",
      "text/plain": [
       "<Figure size 432x288 with 2 Axes>"
      ]
     },
     "metadata": {},
     "output_type": "display_data"
    }
   ],
   "source": [
    "from sklearn.metrics import confusion_matrix, ConfusionMatrixDisplay\n",
    "\n",
    "cm = confusion_matrix(y_test, predictions, labels=lr.classes_)\n",
    "disp = ConfusionMatrixDisplay(confusion_matrix=cm, display_labels=lr.classes_)\n",
    "disp.plot()\n",
    "\n",
    "plt.show()"
   ]
  },
  {
   "cell_type": "code",
   "execution_count": 79,
   "metadata": {},
   "outputs": [
    {
     "data": {
      "text/plain": [
       "<sklearn.metrics._plot.confusion_matrix.ConfusionMatrixDisplay at 0x18c9c71d9a0>"
      ]
     },
     "execution_count": 79,
     "metadata": {},
     "output_type": "execute_result"
    },
    {
     "data": {
      "image/png": "[encoded data removed]",
      "text/plain": [
       "<Figure size 432x288 with 2 Axes>"
      ]
     },
     "metadata": {},
     "output_type": "display_data"
    }
   ],
   "source": [
    "ConfusionMatrixDisplay.from_estimator(lr, X_test, y_test)"
   ]
  },
  {
   "cell_type": "markdown",
   "metadata": {},
   "source": [
    "from sklearn.metrics import classification_report\n",
    ">>> y_true = [0, 1, 2, 2, 0]\n",
    ">>> y_pred = [0, 0, 2, 1, 0]\n",
    ">>> target_names = ['class 0', 'class 1', 'class 2']\n",
    ">>> print(classification_report(y_true, y_pred, target_names=target_names))\n",
    "              precision    recall  f1-score   support\n",
    "\n",
    "     class 0       0.67      1.00      0.80         2\n",
    "     class 1       0.00      0.00      0.00         1\n",
    "     class 2       1.00      0.50      0.67         2\n",
    "\n",
    "    accuracy                           0.60         5\n",
    "   macro avg       0.56      0.50      0.49         5\n",
    "weighted avg       0.67      0.60      0.59         5"
   ]
  },
  {
   "cell_type": "code",
   "execution_count": 82,
   "metadata": {},
   "outputs": [],
   "source": [
    "from sklearn.feature_selection import RFE\n",
    "# Fijamos el número final de variables que vamos a emplear para el modelo logístico.\n",
    "n_features = 5\n",
    "lr = LogisticRegression(max_iter=1500)\n",
    "# Utilizamos el método RFE para elegir el número de variables que hemos seleccionado.\n",
    "rfe = RFE(lr, n_features_to_select=n_features)\n",
    "rfe = rfe.fit(X_train, y_train)"
   ]
  },
  {
   "cell_type": "code",
   "execution_count": 84,
   "metadata": {},
   "outputs": [
    {
     "data": {
      "text/plain": [
       "[('Age', False, 6),\n",
       " ('No of Siblings or Spouses on Board', False, 4),\n",
       " ('No of Parents or Children on Board', False, 7),\n",
       " ('Passenger Fare', False, 8),\n",
       " ('Passenger Class_First', True, 1),\n",
       " ('Passenger Class_Second', False, 5),\n",
       " ('Passenger Class_Third', True, 1),\n",
       " ('Sex_Female', True, 1),\n",
       " ('Sex_Male', True, 1),\n",
       " ('Port of Embarkation_Cherbourg', True, 1),\n",
       " ('Port of Embarkation_Queenstown', False, 3),\n",
       " ('Port of Embarkation_Southampton', False, 2)]"
      ]
     },
     "execution_count": 84,
     "metadata": {},
     "output_type": "execute_result"
    }
   ],
   "source": [
    "# Ranking de las variables que podríamos seleccionar como definitivas:\n",
    "ranking = zip(df_cleaned.columns, rfe.support_, rfe.ranking_)\n",
    "list(ranking)\n",
    "# Vemos con True las variables que han salido seleccionadas para nuestro modelo:\n",
    "# \"Age\", \"Passenger Class_First\", \"Passenger Class_Third\", \"Sex_Female\", \"Sex_Male\""
   ]
  },
  {
   "cell_type": "markdown",
   "metadata": {},
   "source": [
    "## 9.- Conclusiones"
   ]
  },
  {
   "cell_type": "code",
   "execution_count": null,
   "metadata": {},
   "outputs": [],
   "source": []
  },
  {
   "cell_type": "markdown",
   "metadata": {},
   "source": [
    "* Hay sobreajuste?\n",
    "* Es bueno el resultado obtenido?"
   ]
  }
 ],
 "metadata": {
  "kernelspec": {
   "display_name": "Python 3 (ipykernel)",
   "language": "python",
   "name": "python3"
  },
  "language_info": {
   "codemirror_mode": {
    "name": "ipython",
    "version": 3
   },
   "file_extension": ".py",
   "mimetype": "text/x-python",
   "name": "python",
   "nbconvert_exporter": "python",
   "pygments_lexer": "ipython3",
   "version": "3.9.7"
  },
  "toc": {
   "base_numbering": 1,
   "nav_menu": {},
   "number_sections": true,
   "sideBar": true,
   "skip_h1_title": false,
   "title_cell": "Table of Contents",
   "title_sidebar": "Contents",
   "toc_cell": true,
   "toc_position": {},
   "toc_section_display": true,
   "toc_window_display": true
  },
  "varInspector": {
   "cols": {
    "lenName": 16,
    "lenType": 16,
    "lenVar": 40
   },
   "kernels_config": {
    "python": {
     "delete_cmd_postfix": "",
     "delete_cmd_prefix": "del ",
     "library": "var_list.py",
     "varRefreshCmd": "print(var_dic_list())"
    },
    "r": {
     "delete_cmd_postfix": ") ",
     "delete_cmd_prefix": "rm(",
     "library": "var_list.r",
     "varRefreshCmd": "cat(var_dic_list()) "
    }
   },
   "position": {
    "height": "348.85px",
    "left": "1548px",
    "right": "20px",
    "top": "109px",
    "width": "350px"
   },
   "types_to_exclude": [
    "module",
    "function",
    "builtin_function_or_method",
    "instance",
    "_Feature"
   ],
   "window_display": true
  }
 },
 "nbformat": 4,
 "nbformat_minor": 4
}
