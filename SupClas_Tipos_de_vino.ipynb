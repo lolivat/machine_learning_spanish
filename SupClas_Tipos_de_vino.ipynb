{
 "cells": [
  {
   "cell_type": "markdown",
   "metadata": {
    "toc": true
   },
   "source": [
    "<h1>Table of Contents<span class=\"tocSkip\"></span></h1>\n",
    "<div class=\"toc\"><ul class=\"toc-item\"><li><span><a href=\"#Importar-las-librerías\" data-toc-modified-id=\"Importar-las-librerías-1\"><span class=\"toc-item-num\">1&nbsp;&nbsp;</span>Importar las librerías</a></span></li><li><span><a href=\"#Importar-los-datos\" data-toc-modified-id=\"Importar-los-datos-2\"><span class=\"toc-item-num\">2&nbsp;&nbsp;</span>Importar los datos</a></span></li><li><span><a href=\"#Limpieza-de-datos\" data-toc-modified-id=\"Limpieza-de-datos-3\"><span class=\"toc-item-num\">3&nbsp;&nbsp;</span>Limpieza de datos</a></span><ul class=\"toc-item\"><li><span><a href=\"#Análisis-exploratorio\" data-toc-modified-id=\"Análisis-exploratorio-3.1\"><span class=\"toc-item-num\">3.1&nbsp;&nbsp;</span>Análisis exploratorio</a></span></li><li><span><a href=\"#Análisis-estadístico\" data-toc-modified-id=\"Análisis-estadístico-3.2\"><span class=\"toc-item-num\">3.2&nbsp;&nbsp;</span>Análisis estadístico</a></span></li><li><span><a href=\"#Datos-de-entrenamiento-y-de-testeo\" data-toc-modified-id=\"Datos-de-entrenamiento-y-de-testeo-3.3\"><span class=\"toc-item-num\">3.3&nbsp;&nbsp;</span>Datos de entrenamiento y de testeo</a></span><ul class=\"toc-item\"><li><span><a href=\"#Primer-test:-sin-normalizar-y-con-Random-UnderSample\" data-toc-modified-id=\"Primer-test:-sin-normalizar-y-con-Random-UnderSample-3.3.1\"><span class=\"toc-item-num\">3.3.1&nbsp;&nbsp;</span>Primer test: sin normalizar y con Random UnderSample</a></span></li><li><span><a href=\"#Segundo-test:-sin-normalizar-y-con-SMOTE\" data-toc-modified-id=\"Segundo-test:-sin-normalizar-y-con-SMOTE-3.3.2\"><span class=\"toc-item-num\">3.3.2&nbsp;&nbsp;</span>Segundo test: sin normalizar y con SMOTE</a></span></li><li><span><a href=\"#Tercer-test:-con-normalización-y-undersampling\" data-toc-modified-id=\"Tercer-test:-con-normalización-y-undersampling-3.3.3\"><span class=\"toc-item-num\">3.3.3&nbsp;&nbsp;</span>Tercer test: con normalización y undersampling</a></span></li></ul></li></ul></li><li><span><a href=\"#Otros-modelos\" data-toc-modified-id=\"Otros-modelos-4\"><span class=\"toc-item-num\">4&nbsp;&nbsp;</span>Otros modelos</a></span><ul class=\"toc-item\"><li><span><a href=\"#KNN\" data-toc-modified-id=\"KNN-4.1\"><span class=\"toc-item-num\">4.1&nbsp;&nbsp;</span>KNN</a></span></li><li><span><a href=\"#Decision-Tree\" data-toc-modified-id=\"Decision-Tree-4.2\"><span class=\"toc-item-num\">4.2&nbsp;&nbsp;</span>Decision Tree</a></span></li></ul></li><li><span><a href=\"#Conclusiones\" data-toc-modified-id=\"Conclusiones-5\"><span class=\"toc-item-num\">5&nbsp;&nbsp;</span>Conclusiones</a></span></li></ul></div>"
   ]
  },
  {
   "cell_type": "markdown",
   "metadata": {},
   "source": [
    "## Importar las librerías"
   ]
  },
  {
   "cell_type": "code",
   "execution_count": 1,
   "metadata": {},
   "outputs": [],
   "source": [
    "import pandas as pd\n",
    "import numpy as np\n",
    "\n",
    "import seaborn as sns\n",
    "import matplotlib.pyplot as plt\n",
    "\n",
    "from scipy import stats\n",
    "\n",
    "import pickle\n",
    "\n",
    "from sklearn.model_selection import train_test_split\n",
    "from sklearn.preprocessing import StandardScaler\n",
    "from sklearn.linear_model import LogisticRegression\n",
    "from sklearn.neighbors import KNeighborsClassifier\n",
    "from sklearn.tree import DecisionTreeClassifier\n",
    "from sklearn import metrics\n",
    "from sklearn import tree\n",
    "from sklearn.feature_selection import RFE\n",
    "from sklearn.model_selection import cross_val_score\n",
    "\n",
    "import imblearn\n",
    "from imblearn.under_sampling import RandomUnderSampler\n",
    "from imblearn.over_sampling import SMOTE\n",
    "\n",
    "from collections import Counter"
   ]
  },
  {
   "cell_type": "markdown",
   "metadata": {},
   "source": [
    "## Importar los datos"
   ]
  },
  {
   "cell_type": "code",
   "execution_count": 2,
   "metadata": {},
   "outputs": [],
   "source": [
    "# Cargamos los datos desde Github\n",
    "\n",
    "df_red = pd.read_csv('https://raw.githubusercontent.com/M315/data_sience_EAE/master/3-3/data/winequality-red.csv?token=GHSAT0AAAAAABSP4J5IHN7Y2ROBKDVBKVA2YSJW2YQ', sep = ';', header = 0)\n",
    "df_white = pd.read_csv('https://raw.githubusercontent.com/M315/data_sience_EAE/master/3-3/data/winequality-white.csv?token=GHSAT0AAAAAABSP4J5I2RMNQJS4VEPJA5OEYSJW3ZA', sep = ';', header = 0)"
   ]
  },
  {
   "cell_type": "code",
   "execution_count": 3,
   "metadata": {},
   "outputs": [
    {
     "name": "stdout",
     "output_type": "stream",
     "text": [
      "<class 'pandas.core.frame.DataFrame'>\n",
      "RangeIndex: 1599 entries, 0 to 1598\n",
      "Data columns (total 12 columns):\n",
      " #   Column                Non-Null Count  Dtype  \n",
      "---  ------                --------------  -----  \n",
      " 0   fixed acidity         1599 non-null   float64\n",
      " 1   volatile acidity      1599 non-null   float64\n",
      " 2   citric acid           1599 non-null   float64\n",
      " 3   residual sugar        1599 non-null   float64\n",
      " 4   chlorides             1599 non-null   float64\n",
      " 5   free sulfur dioxide   1599 non-null   float64\n",
      " 6   total sulfur dioxide  1599 non-null   float64\n",
      " 7   density               1599 non-null   float64\n",
      " 8   pH                    1599 non-null   float64\n",
      " 9   sulphates             1599 non-null   float64\n",
      " 10  alcohol               1599 non-null   float64\n",
      " 11  quality               1599 non-null   int64  \n",
      "dtypes: float64(11), int64(1)\n",
      "memory usage: 150.0 KB\n"
     ]
    }
   ],
   "source": [
    "# Verificamos que se han subido bien\n",
    "\n",
    "df_red.info()"
   ]
  },
  {
   "cell_type": "markdown",
   "metadata": {},
   "source": [
    "## Limpieza de datos"
   ]
  },
  {
   "cell_type": "markdown",
   "metadata": {},
   "source": [
    "### Análisis exploratorio"
   ]
  },
  {
   "cell_type": "code",
   "execution_count": 4,
   "metadata": {},
   "outputs": [],
   "source": [
    "# Para ver toda la información de los datos en conjunto y ahorrar código, definimos una función:\n",
    "\n",
    "def show_df(df):\n",
    "    print(\"Data Frame:\\n\\n\", df.head())\n",
    "    print(\"\\nShape: \",df.shape)\n",
    "    print(\"\\nNulls:\\n\", df.isnull().values.sum())\n",
    "    print(\"\\nDuplicados:\\n\", df.duplicated().values.sum())\n",
    "    print(\"\\nTypes:\")\n",
    "    for column in df:\n",
    "        print(\"\\t\", '{:<20}'.format(column), '{:>8}'.format(str(df[column].dtype)))"
   ]
  },
  {
   "cell_type": "code",
   "execution_count": 5,
   "metadata": {},
   "outputs": [
    {
     "name": "stdout",
     "output_type": "stream",
     "text": [
      "Data Frame:\n",
      "\n",
      "    fixed acidity  volatile acidity  citric acid  residual sugar  chlorides  \\\n",
      "0            7.4              0.70         0.00             1.9      0.076   \n",
      "1            7.8              0.88         0.00             2.6      0.098   \n",
      "2            7.8              0.76         0.04             2.3      0.092   \n",
      "3           11.2              0.28         0.56             1.9      0.075   \n",
      "4            7.4              0.70         0.00             1.9      0.076   \n",
      "\n",
      "   free sulfur dioxide  total sulfur dioxide  density    pH  sulphates  \\\n",
      "0                 11.0                  34.0   0.9978  3.51       0.56   \n",
      "1                 25.0                  67.0   0.9968  3.20       0.68   \n",
      "2                 15.0                  54.0   0.9970  3.26       0.65   \n",
      "3                 17.0                  60.0   0.9980  3.16       0.58   \n",
      "4                 11.0                  34.0   0.9978  3.51       0.56   \n",
      "\n",
      "   alcohol  quality  \n",
      "0      9.4        5  \n",
      "1      9.8        5  \n",
      "2      9.8        5  \n",
      "3      9.8        6  \n",
      "4      9.4        5  \n",
      "\n",
      "Shape:  (1599, 12)\n",
      "\n",
      "Nulls:\n",
      " 0\n",
      "\n",
      "Duplicados:\n",
      " 240\n",
      "\n",
      "Types:\n",
      "\t fixed acidity         float64\n",
      "\t volatile acidity      float64\n",
      "\t citric acid           float64\n",
      "\t residual sugar        float64\n",
      "\t chlorides             float64\n",
      "\t free sulfur dioxide   float64\n",
      "\t total sulfur dioxide  float64\n",
      "\t density               float64\n",
      "\t pH                    float64\n",
      "\t sulphates             float64\n",
      "\t alcohol               float64\n",
      "\t quality                 int64\n",
      "Data Frame:\n",
      "\n",
      "    fixed acidity  volatile acidity  citric acid  residual sugar  chlorides  \\\n",
      "0            7.0              0.27         0.36            20.7      0.045   \n",
      "1            6.3              0.30         0.34             1.6      0.049   \n",
      "2            8.1              0.28         0.40             6.9      0.050   \n",
      "3            7.2              0.23         0.32             8.5      0.058   \n",
      "4            7.2              0.23         0.32             8.5      0.058   \n",
      "\n",
      "   free sulfur dioxide  total sulfur dioxide  density    pH  sulphates  \\\n",
      "0                 45.0                 170.0   1.0010  3.00       0.45   \n",
      "1                 14.0                 132.0   0.9940  3.30       0.49   \n",
      "2                 30.0                  97.0   0.9951  3.26       0.44   \n",
      "3                 47.0                 186.0   0.9956  3.19       0.40   \n",
      "4                 47.0                 186.0   0.9956  3.19       0.40   \n",
      "\n",
      "   alcohol  quality  \n",
      "0      8.8        6  \n",
      "1      9.5        6  \n",
      "2     10.1        6  \n",
      "3      9.9        6  \n",
      "4      9.9        6  \n",
      "\n",
      "Shape:  (4898, 12)\n",
      "\n",
      "Nulls:\n",
      " 0\n",
      "\n",
      "Duplicados:\n",
      " 937\n",
      "\n",
      "Types:\n",
      "\t fixed acidity         float64\n",
      "\t volatile acidity      float64\n",
      "\t citric acid           float64\n",
      "\t residual sugar        float64\n",
      "\t chlorides             float64\n",
      "\t free sulfur dioxide   float64\n",
      "\t total sulfur dioxide  float64\n",
      "\t density               float64\n",
      "\t pH                    float64\n",
      "\t sulphates             float64\n",
      "\t alcohol               float64\n",
      "\t quality                 int64\n"
     ]
    }
   ],
   "source": [
    "# Y aplicamos la función al dataset de vino rosado y de vino blanco:\n",
    "\n",
    "show_df(df_red)\n",
    "show_df(df_white)"
   ]
  },
  {
   "cell_type": "markdown",
   "metadata": {},
   "source": [
    "La función anterior nos permite ver que:\n",
    "\n",
    "* Tenemos datos desbalanceados: vino blanco = 4898 registros / vino rosado = 1599 registros. Cuando juntemos ambos datasets para elaborar el modelo clasificatorio, deberemos balancear las muestras. \n",
    "* No hay valores nulos en ninguno de los datasets.\n",
    "* Sí hay valores duplicados: hemos de analizarlos y decidir si los eliminamos. \n",
    "* Ambos datasets tienen las mismas columnas.\n",
    "* Vemos que todas las categorías son de tipo real, menos calidad, que es un entero. Entendemos que la calidad se puntúa en una escala tipo likert o similar y que debe de ser una variable subjetiva, mientras que las demás son variables objetivas; veremos qué rango de valores tiene."
   ]
  },
  {
   "cell_type": "code",
   "execution_count": 6,
   "metadata": {
    "scrolled": false
   },
   "outputs": [
    {
     "data": {
      "text/html": [
       "<div>\n",
       "<style scoped>\n",
       "    .dataframe tbody tr th:only-of-type {\n",
       "        vertical-align: middle;\n",
       "    }\n",
       "\n",
       "    .dataframe tbody tr th {\n",
       "        vertical-align: top;\n",
       "    }\n",
       "\n",
       "    .dataframe thead th {\n",
       "        text-align: right;\n",
       "    }\n",
       "</style>\n",
       "<table border=\"1\" class=\"dataframe\">\n",
       "  <thead>\n",
       "    <tr style=\"text-align: right;\">\n",
       "      <th></th>\n",
       "      <th>fixed acidity</th>\n",
       "      <th>volatile acidity</th>\n",
       "      <th>citric acid</th>\n",
       "      <th>residual sugar</th>\n",
       "      <th>chlorides</th>\n",
       "      <th>free sulfur dioxide</th>\n",
       "      <th>total sulfur dioxide</th>\n",
       "      <th>density</th>\n",
       "      <th>pH</th>\n",
       "      <th>sulphates</th>\n",
       "      <th>alcohol</th>\n",
       "      <th>quality</th>\n",
       "    </tr>\n",
       "  </thead>\n",
       "  <tbody>\n",
       "    <tr>\n",
       "      <th>0</th>\n",
       "      <td>7.4</td>\n",
       "      <td>0.700</td>\n",
       "      <td>0.00</td>\n",
       "      <td>1.9</td>\n",
       "      <td>0.076</td>\n",
       "      <td>11.0</td>\n",
       "      <td>34.0</td>\n",
       "      <td>0.99780</td>\n",
       "      <td>3.51</td>\n",
       "      <td>0.56</td>\n",
       "      <td>9.4</td>\n",
       "      <td>5</td>\n",
       "    </tr>\n",
       "    <tr>\n",
       "      <th>4</th>\n",
       "      <td>7.4</td>\n",
       "      <td>0.700</td>\n",
       "      <td>0.00</td>\n",
       "      <td>1.9</td>\n",
       "      <td>0.076</td>\n",
       "      <td>11.0</td>\n",
       "      <td>34.0</td>\n",
       "      <td>0.99780</td>\n",
       "      <td>3.51</td>\n",
       "      <td>0.56</td>\n",
       "      <td>9.4</td>\n",
       "      <td>5</td>\n",
       "    </tr>\n",
       "    <tr>\n",
       "      <th>9</th>\n",
       "      <td>7.5</td>\n",
       "      <td>0.500</td>\n",
       "      <td>0.36</td>\n",
       "      <td>6.1</td>\n",
       "      <td>0.071</td>\n",
       "      <td>17.0</td>\n",
       "      <td>102.0</td>\n",
       "      <td>0.99780</td>\n",
       "      <td>3.35</td>\n",
       "      <td>0.80</td>\n",
       "      <td>10.5</td>\n",
       "      <td>5</td>\n",
       "    </tr>\n",
       "    <tr>\n",
       "      <th>11</th>\n",
       "      <td>7.5</td>\n",
       "      <td>0.500</td>\n",
       "      <td>0.36</td>\n",
       "      <td>6.1</td>\n",
       "      <td>0.071</td>\n",
       "      <td>17.0</td>\n",
       "      <td>102.0</td>\n",
       "      <td>0.99780</td>\n",
       "      <td>3.35</td>\n",
       "      <td>0.80</td>\n",
       "      <td>10.5</td>\n",
       "      <td>5</td>\n",
       "    </tr>\n",
       "    <tr>\n",
       "      <th>22</th>\n",
       "      <td>7.9</td>\n",
       "      <td>0.430</td>\n",
       "      <td>0.21</td>\n",
       "      <td>1.6</td>\n",
       "      <td>0.106</td>\n",
       "      <td>10.0</td>\n",
       "      <td>37.0</td>\n",
       "      <td>0.99660</td>\n",
       "      <td>3.17</td>\n",
       "      <td>0.91</td>\n",
       "      <td>9.5</td>\n",
       "      <td>5</td>\n",
       "    </tr>\n",
       "    <tr>\n",
       "      <th>...</th>\n",
       "      <td>...</td>\n",
       "      <td>...</td>\n",
       "      <td>...</td>\n",
       "      <td>...</td>\n",
       "      <td>...</td>\n",
       "      <td>...</td>\n",
       "      <td>...</td>\n",
       "      <td>...</td>\n",
       "      <td>...</td>\n",
       "      <td>...</td>\n",
       "      <td>...</td>\n",
       "      <td>...</td>\n",
       "    </tr>\n",
       "    <tr>\n",
       "      <th>1567</th>\n",
       "      <td>7.2</td>\n",
       "      <td>0.695</td>\n",
       "      <td>0.13</td>\n",
       "      <td>2.0</td>\n",
       "      <td>0.076</td>\n",
       "      <td>12.0</td>\n",
       "      <td>20.0</td>\n",
       "      <td>0.99546</td>\n",
       "      <td>3.29</td>\n",
       "      <td>0.54</td>\n",
       "      <td>10.1</td>\n",
       "      <td>5</td>\n",
       "    </tr>\n",
       "    <tr>\n",
       "      <th>1579</th>\n",
       "      <td>6.2</td>\n",
       "      <td>0.560</td>\n",
       "      <td>0.09</td>\n",
       "      <td>1.7</td>\n",
       "      <td>0.053</td>\n",
       "      <td>24.0</td>\n",
       "      <td>32.0</td>\n",
       "      <td>0.99402</td>\n",
       "      <td>3.54</td>\n",
       "      <td>0.60</td>\n",
       "      <td>11.3</td>\n",
       "      <td>5</td>\n",
       "    </tr>\n",
       "    <tr>\n",
       "      <th>1581</th>\n",
       "      <td>6.2</td>\n",
       "      <td>0.560</td>\n",
       "      <td>0.09</td>\n",
       "      <td>1.7</td>\n",
       "      <td>0.053</td>\n",
       "      <td>24.0</td>\n",
       "      <td>32.0</td>\n",
       "      <td>0.99402</td>\n",
       "      <td>3.54</td>\n",
       "      <td>0.60</td>\n",
       "      <td>11.3</td>\n",
       "      <td>5</td>\n",
       "    </tr>\n",
       "    <tr>\n",
       "      <th>1592</th>\n",
       "      <td>6.3</td>\n",
       "      <td>0.510</td>\n",
       "      <td>0.13</td>\n",
       "      <td>2.3</td>\n",
       "      <td>0.076</td>\n",
       "      <td>29.0</td>\n",
       "      <td>40.0</td>\n",
       "      <td>0.99574</td>\n",
       "      <td>3.42</td>\n",
       "      <td>0.75</td>\n",
       "      <td>11.0</td>\n",
       "      <td>6</td>\n",
       "    </tr>\n",
       "    <tr>\n",
       "      <th>1596</th>\n",
       "      <td>6.3</td>\n",
       "      <td>0.510</td>\n",
       "      <td>0.13</td>\n",
       "      <td>2.3</td>\n",
       "      <td>0.076</td>\n",
       "      <td>29.0</td>\n",
       "      <td>40.0</td>\n",
       "      <td>0.99574</td>\n",
       "      <td>3.42</td>\n",
       "      <td>0.75</td>\n",
       "      <td>11.0</td>\n",
       "      <td>6</td>\n",
       "    </tr>\n",
       "  </tbody>\n",
       "</table>\n",
       "<p>460 rows × 12 columns</p>\n",
       "</div>"
      ],
      "text/plain": [
       "      fixed acidity  volatile acidity  citric acid  residual sugar  chlorides  \\\n",
       "0               7.4             0.700         0.00             1.9      0.076   \n",
       "4               7.4             0.700         0.00             1.9      0.076   \n",
       "9               7.5             0.500         0.36             6.1      0.071   \n",
       "11              7.5             0.500         0.36             6.1      0.071   \n",
       "22              7.9             0.430         0.21             1.6      0.106   \n",
       "...             ...               ...          ...             ...        ...   \n",
       "1567            7.2             0.695         0.13             2.0      0.076   \n",
       "1579            6.2             0.560         0.09             1.7      0.053   \n",
       "1581            6.2             0.560         0.09             1.7      0.053   \n",
       "1592            6.3             0.510         0.13             2.3      0.076   \n",
       "1596            6.3             0.510         0.13             2.3      0.076   \n",
       "\n",
       "      free sulfur dioxide  total sulfur dioxide  density    pH  sulphates  \\\n",
       "0                    11.0                  34.0  0.99780  3.51       0.56   \n",
       "4                    11.0                  34.0  0.99780  3.51       0.56   \n",
       "9                    17.0                 102.0  0.99780  3.35       0.80   \n",
       "11                   17.0                 102.0  0.99780  3.35       0.80   \n",
       "22                   10.0                  37.0  0.99660  3.17       0.91   \n",
       "...                   ...                   ...      ...   ...        ...   \n",
       "1567                 12.0                  20.0  0.99546  3.29       0.54   \n",
       "1579                 24.0                  32.0  0.99402  3.54       0.60   \n",
       "1581                 24.0                  32.0  0.99402  3.54       0.60   \n",
       "1592                 29.0                  40.0  0.99574  3.42       0.75   \n",
       "1596                 29.0                  40.0  0.99574  3.42       0.75   \n",
       "\n",
       "      alcohol  quality  \n",
       "0         9.4        5  \n",
       "4         9.4        5  \n",
       "9        10.5        5  \n",
       "11       10.5        5  \n",
       "22        9.5        5  \n",
       "...       ...      ...  \n",
       "1567     10.1        5  \n",
       "1579     11.3        5  \n",
       "1581     11.3        5  \n",
       "1592     11.0        6  \n",
       "1596     11.0        6  \n",
       "\n",
       "[460 rows x 12 columns]"
      ]
     },
     "execution_count": 6,
     "metadata": {},
     "output_type": "execute_result"
    }
   ],
   "source": [
    "# Empezamos por ver los duplicados del datast de vino rosado:\n",
    "\n",
    "df_red[df_red.duplicated(keep=False)]"
   ]
  },
  {
   "cell_type": "code",
   "execution_count": 7,
   "metadata": {},
   "outputs": [
    {
     "data": {
      "text/html": [
       "<div>\n",
       "<style scoped>\n",
       "    .dataframe tbody tr th:only-of-type {\n",
       "        vertical-align: middle;\n",
       "    }\n",
       "\n",
       "    .dataframe tbody tr th {\n",
       "        vertical-align: top;\n",
       "    }\n",
       "\n",
       "    .dataframe thead th {\n",
       "        text-align: right;\n",
       "    }\n",
       "</style>\n",
       "<table border=\"1\" class=\"dataframe\">\n",
       "  <thead>\n",
       "    <tr style=\"text-align: right;\">\n",
       "      <th></th>\n",
       "      <th>fixed acidity</th>\n",
       "      <th>volatile acidity</th>\n",
       "      <th>citric acid</th>\n",
       "      <th>residual sugar</th>\n",
       "      <th>chlorides</th>\n",
       "      <th>free sulfur dioxide</th>\n",
       "      <th>total sulfur dioxide</th>\n",
       "      <th>density</th>\n",
       "      <th>pH</th>\n",
       "      <th>sulphates</th>\n",
       "      <th>alcohol</th>\n",
       "      <th>quality</th>\n",
       "    </tr>\n",
       "  </thead>\n",
       "  <tbody>\n",
       "    <tr>\n",
       "      <th>0</th>\n",
       "      <td>7.4</td>\n",
       "      <td>0.700</td>\n",
       "      <td>0.00</td>\n",
       "      <td>1.9</td>\n",
       "      <td>0.076</td>\n",
       "      <td>11.0</td>\n",
       "      <td>34.0</td>\n",
       "      <td>0.99780</td>\n",
       "      <td>3.51</td>\n",
       "      <td>0.56</td>\n",
       "      <td>9.4</td>\n",
       "      <td>5</td>\n",
       "    </tr>\n",
       "    <tr>\n",
       "      <th>4</th>\n",
       "      <td>7.4</td>\n",
       "      <td>0.700</td>\n",
       "      <td>0.00</td>\n",
       "      <td>1.9</td>\n",
       "      <td>0.076</td>\n",
       "      <td>11.0</td>\n",
       "      <td>34.0</td>\n",
       "      <td>0.99780</td>\n",
       "      <td>3.51</td>\n",
       "      <td>0.56</td>\n",
       "      <td>9.4</td>\n",
       "      <td>5</td>\n",
       "    </tr>\n",
       "    <tr>\n",
       "      <th>9</th>\n",
       "      <td>7.5</td>\n",
       "      <td>0.500</td>\n",
       "      <td>0.36</td>\n",
       "      <td>6.1</td>\n",
       "      <td>0.071</td>\n",
       "      <td>17.0</td>\n",
       "      <td>102.0</td>\n",
       "      <td>0.99780</td>\n",
       "      <td>3.35</td>\n",
       "      <td>0.80</td>\n",
       "      <td>10.5</td>\n",
       "      <td>5</td>\n",
       "    </tr>\n",
       "    <tr>\n",
       "      <th>11</th>\n",
       "      <td>7.5</td>\n",
       "      <td>0.500</td>\n",
       "      <td>0.36</td>\n",
       "      <td>6.1</td>\n",
       "      <td>0.071</td>\n",
       "      <td>17.0</td>\n",
       "      <td>102.0</td>\n",
       "      <td>0.99780</td>\n",
       "      <td>3.35</td>\n",
       "      <td>0.80</td>\n",
       "      <td>10.5</td>\n",
       "      <td>5</td>\n",
       "    </tr>\n",
       "    <tr>\n",
       "      <th>22</th>\n",
       "      <td>7.9</td>\n",
       "      <td>0.430</td>\n",
       "      <td>0.21</td>\n",
       "      <td>1.6</td>\n",
       "      <td>0.106</td>\n",
       "      <td>10.0</td>\n",
       "      <td>37.0</td>\n",
       "      <td>0.99660</td>\n",
       "      <td>3.17</td>\n",
       "      <td>0.91</td>\n",
       "      <td>9.5</td>\n",
       "      <td>5</td>\n",
       "    </tr>\n",
       "    <tr>\n",
       "      <th>...</th>\n",
       "      <td>...</td>\n",
       "      <td>...</td>\n",
       "      <td>...</td>\n",
       "      <td>...</td>\n",
       "      <td>...</td>\n",
       "      <td>...</td>\n",
       "      <td>...</td>\n",
       "      <td>...</td>\n",
       "      <td>...</td>\n",
       "      <td>...</td>\n",
       "      <td>...</td>\n",
       "      <td>...</td>\n",
       "    </tr>\n",
       "    <tr>\n",
       "      <th>1567</th>\n",
       "      <td>7.2</td>\n",
       "      <td>0.695</td>\n",
       "      <td>0.13</td>\n",
       "      <td>2.0</td>\n",
       "      <td>0.076</td>\n",
       "      <td>12.0</td>\n",
       "      <td>20.0</td>\n",
       "      <td>0.99546</td>\n",
       "      <td>3.29</td>\n",
       "      <td>0.54</td>\n",
       "      <td>10.1</td>\n",
       "      <td>5</td>\n",
       "    </tr>\n",
       "    <tr>\n",
       "      <th>1579</th>\n",
       "      <td>6.2</td>\n",
       "      <td>0.560</td>\n",
       "      <td>0.09</td>\n",
       "      <td>1.7</td>\n",
       "      <td>0.053</td>\n",
       "      <td>24.0</td>\n",
       "      <td>32.0</td>\n",
       "      <td>0.99402</td>\n",
       "      <td>3.54</td>\n",
       "      <td>0.60</td>\n",
       "      <td>11.3</td>\n",
       "      <td>5</td>\n",
       "    </tr>\n",
       "    <tr>\n",
       "      <th>1581</th>\n",
       "      <td>6.2</td>\n",
       "      <td>0.560</td>\n",
       "      <td>0.09</td>\n",
       "      <td>1.7</td>\n",
       "      <td>0.053</td>\n",
       "      <td>24.0</td>\n",
       "      <td>32.0</td>\n",
       "      <td>0.99402</td>\n",
       "      <td>3.54</td>\n",
       "      <td>0.60</td>\n",
       "      <td>11.3</td>\n",
       "      <td>5</td>\n",
       "    </tr>\n",
       "    <tr>\n",
       "      <th>1592</th>\n",
       "      <td>6.3</td>\n",
       "      <td>0.510</td>\n",
       "      <td>0.13</td>\n",
       "      <td>2.3</td>\n",
       "      <td>0.076</td>\n",
       "      <td>29.0</td>\n",
       "      <td>40.0</td>\n",
       "      <td>0.99574</td>\n",
       "      <td>3.42</td>\n",
       "      <td>0.75</td>\n",
       "      <td>11.0</td>\n",
       "      <td>6</td>\n",
       "    </tr>\n",
       "    <tr>\n",
       "      <th>1596</th>\n",
       "      <td>6.3</td>\n",
       "      <td>0.510</td>\n",
       "      <td>0.13</td>\n",
       "      <td>2.3</td>\n",
       "      <td>0.076</td>\n",
       "      <td>29.0</td>\n",
       "      <td>40.0</td>\n",
       "      <td>0.99574</td>\n",
       "      <td>3.42</td>\n",
       "      <td>0.75</td>\n",
       "      <td>11.0</td>\n",
       "      <td>6</td>\n",
       "    </tr>\n",
       "  </tbody>\n",
       "</table>\n",
       "<p>460 rows × 12 columns</p>\n",
       "</div>"
      ],
      "text/plain": [
       "      fixed acidity  volatile acidity  citric acid  residual sugar  chlorides  \\\n",
       "0               7.4             0.700         0.00             1.9      0.076   \n",
       "4               7.4             0.700         0.00             1.9      0.076   \n",
       "9               7.5             0.500         0.36             6.1      0.071   \n",
       "11              7.5             0.500         0.36             6.1      0.071   \n",
       "22              7.9             0.430         0.21             1.6      0.106   \n",
       "...             ...               ...          ...             ...        ...   \n",
       "1567            7.2             0.695         0.13             2.0      0.076   \n",
       "1579            6.2             0.560         0.09             1.7      0.053   \n",
       "1581            6.2             0.560         0.09             1.7      0.053   \n",
       "1592            6.3             0.510         0.13             2.3      0.076   \n",
       "1596            6.3             0.510         0.13             2.3      0.076   \n",
       "\n",
       "      free sulfur dioxide  total sulfur dioxide  density    pH  sulphates  \\\n",
       "0                    11.0                  34.0  0.99780  3.51       0.56   \n",
       "4                    11.0                  34.0  0.99780  3.51       0.56   \n",
       "9                    17.0                 102.0  0.99780  3.35       0.80   \n",
       "11                   17.0                 102.0  0.99780  3.35       0.80   \n",
       "22                   10.0                  37.0  0.99660  3.17       0.91   \n",
       "...                   ...                   ...      ...   ...        ...   \n",
       "1567                 12.0                  20.0  0.99546  3.29       0.54   \n",
       "1579                 24.0                  32.0  0.99402  3.54       0.60   \n",
       "1581                 24.0                  32.0  0.99402  3.54       0.60   \n",
       "1592                 29.0                  40.0  0.99574  3.42       0.75   \n",
       "1596                 29.0                  40.0  0.99574  3.42       0.75   \n",
       "\n",
       "      alcohol  quality  \n",
       "0         9.4        5  \n",
       "4         9.4        5  \n",
       "9        10.5        5  \n",
       "11       10.5        5  \n",
       "22        9.5        5  \n",
       "...       ...      ...  \n",
       "1567     10.1        5  \n",
       "1579     11.3        5  \n",
       "1581     11.3        5  \n",
       "1592     11.0        6  \n",
       "1596     11.0        6  \n",
       "\n",
       "[460 rows x 12 columns]"
      ]
     },
     "execution_count": 7,
     "metadata": {},
     "output_type": "execute_result"
    }
   ],
   "source": [
    "# Ahora vemos los duplicados del datast de vino blanco:\n",
    "\n",
    "df_red[df_red.duplicated(keep=False)]"
   ]
  },
  {
   "cell_type": "code",
   "execution_count": 8,
   "metadata": {},
   "outputs": [],
   "source": [
    "# Vemos que, efectivamente, son puramente duplicados. Los eliminamos en ambos datasets. \n",
    "\n",
    "df_white = df_white.drop_duplicates()\n",
    "df_red = df_red.drop_duplicates()"
   ]
  },
  {
   "cell_type": "code",
   "execution_count": 9,
   "metadata": {},
   "outputs": [
    {
     "name": "stdout",
     "output_type": "stream",
     "text": [
      "0\n",
      "0\n"
     ]
    }
   ],
   "source": [
    "# Verificamos que ya no tenemos duplicados:\n",
    "\n",
    "print(df_red.duplicated().sum())\n",
    "print(df_white.duplicated().sum())"
   ]
  },
  {
   "cell_type": "code",
   "execution_count": 10,
   "metadata": {},
   "outputs": [
    {
     "name": "stdout",
     "output_type": "stream",
     "text": [
      "5    577\n",
      "6    535\n",
      "7    167\n",
      "4     53\n",
      "8     17\n",
      "3     10\n",
      "Name: quality, dtype: int64\n",
      "6    1788\n",
      "5    1175\n",
      "7     689\n",
      "4     153\n",
      "8     131\n",
      "3      20\n",
      "9       5\n",
      "Name: quality, dtype: int64\n"
     ]
    }
   ],
   "source": [
    "# Vamos a ver en qué rango de valores se mueve la categoría \"quality\"\n",
    "\n",
    "print(df_red['quality'].value_counts())\n",
    "print(df_white['quality'].value_counts())"
   ]
  },
  {
   "cell_type": "markdown",
   "metadata": {},
   "source": [
    "Por el momento, vemos que:\n",
    "* Ya no tenemos datos duplicados\n",
    "* Seguimos teniendo muestras desbalanceadas\n",
    "* La columna quality, que es un entero, mientras todas las demás son reales, tiene valores en el rango 3 a 8 en el dataset de vino rosado, y en el rango de 3 a 9 en el dataset de vino blanco. Parece que cada valor se encuentra en una proporción similar en ambos datasets (excepto el 9), pero habremos de vigilar si, por el hecho de tener un valor más en el dataset de vino blanco, esta variable nos da problemas en nuestro modelo. \n",
    "* Por otra parte, es posible que la calidad de vino no sea una buena variable para predecir el tipo del mismo, puesto que no es una propiedad química del vino. Así, a no ser que uno de los dos tipos de vino sea más bueno que el otro por el hecho de ser de ese tipo (ej.: que el vino blanco sea siempre mejor que el rosado), es posible que la calidad sea una variable contaminadora para nuestro modelo. Lo verificaremos más adelante."
   ]
  },
  {
   "cell_type": "markdown",
   "metadata": {},
   "source": [
    "### Análisis estadístico"
   ]
  },
  {
   "cell_type": "code",
   "execution_count": 11,
   "metadata": {},
   "outputs": [],
   "source": [
    "# El siguiente paso es mirar los estadísticos de nuestra muestra. \n",
    "# Especialmente importante será ver si tenemos outliers. Como en el paso anterior, definimos una función.\n",
    "\n",
    "def estadisticas(df):\n",
    "    print('{:<23}'.format('Column'), '{:<23}'.format('Mean'), '{:<23}'.format('Std'), '{:<10}'.format('Median'), '{:<10}'.format('Min'), '{:<10}'.format('Max'),'\\n')\n",
    "    for col in df:\n",
    "        print('{:<23}'.format(col), '{:<23}'.format(df[col].mean()), '{:<23}'.format(df[col].std()), '{:<10}'.format(df[col].median()), '{:<10}'.format(df[col].min()), '{:<10}'.format(df[col].max()))"
   ]
  },
  {
   "cell_type": "code",
   "execution_count": 12,
   "metadata": {},
   "outputs": [
    {
     "name": "stdout",
     "output_type": "stream",
     "text": [
      "Column                  Mean                    Std                     Median     Min        Max        \n",
      "\n",
      "fixed acidity           8.310596026490087       1.736989807532466       7.9        4.6        15.9      \n",
      "volatile acidity        0.5294775570272258      0.18303131761907185     0.52       0.12       1.58      \n",
      "citric acid             0.27233259749815975     0.1955365445504639      0.26       0.0        1.0       \n",
      "residual sugar          2.523399558498897       1.3523137577104198      2.2        0.9        15.5      \n",
      "chlorides               0.0881236203090504      0.04937686244348626     0.079      0.012      0.611     \n",
      "free sulfur dioxide     15.893303899926417      10.447270259048695      14.0       1.0        72.0      \n",
      "total sulfur dioxide    46.82597498160412       33.40894570661654       38.0       6.0        289.0     \n",
      "density                 0.9967089477557026      0.0018689171325591398   0.9967     0.99007    1.00369   \n",
      "pH                      3.309786607799856       0.15503631128729595     3.31       2.74       4.01      \n",
      "sulphates               0.6587049300956593      0.17066689057420695     0.62       0.33       2.0       \n",
      "alcohol                 10.432315428010774      1.0820654499402564      10.2       8.4        14.9      \n",
      "quality                 5.6232523914643116      0.8235780017165619      6.0        3          8         \n"
     ]
    }
   ],
   "source": [
    "# Y la aplicamos primero al dataset de vino rosado:\n",
    "\n",
    "estadisticas(df_red)"
   ]
  },
  {
   "cell_type": "markdown",
   "metadata": {},
   "source": [
    "* Vemos que hay columnas cuyos rango son mucho más elevados que otras: la mayoría tienen datos por debajo de 10, pero free sulfur llega hasta 72 y total sulfur hasta 289. Es probable que necesitemos normalizar los datos para que estas dos columnas no tengan un peso excesivo en la clasificación.\n",
    "* Vemos que hay dos columnas en las desviación típica es casi tan grande como la media: en free sulfur dioxide y en total sulfur dioxide. Ello nos indica que son parámetros con una gran dispersión. \n",
    "* Vemos también que en estas dos columnas, la mediana se halla muy lejos de los valores máximos. \n",
    "* Sobre todo en el caso de total sulfur dioxide, vemos que, además, hay una diferencia importante entre la media y la mediana, lo que en conjunto con lo anterior, nos puede estar indicando que hay outliers que puedan distorsionar los datos. En cambio, en la variable de free sulfur dioxide, la media y la mediana se hallan próximas, lo cuál parece indicar que, pese a tener una importante dispersión, es posible que no hayan outliers importantes. \n",
    "* Así, para **analizar los outliers**, vamos a crear un boxplot para poder visualizarlo."
   ]
  },
  {
   "cell_type": "code",
   "execution_count": 13,
   "metadata": {
    "scrolled": false
   },
   "outputs": [
    {
     "data": {
      "image/png": "[encoded data removed]",
      "text/plain": [
       "<Figure size 720x360 with 1 Axes>"
      ]
     },
     "metadata": {
      "needs_background": "light"
     },
     "output_type": "display_data"
    },
    {
     "data": {
      "image/png": "[encoded data removed]",
      "text/plain": [
       "<Figure size 720x360 with 1 Axes>"
      ]
     },
     "metadata": {
      "needs_background": "light"
     },
     "output_type": "display_data"
    },
    {
     "data": {
      "image/png": "[encoded data removed]",
      "text/plain": [
       "<Figure size 720x360 with 1 Axes>"
      ]
     },
     "metadata": {
      "needs_background": "light"
     },
     "output_type": "display_data"
    },
    {
     "data": {
      "image/png": "[encoded data removed]",
      "text/plain": [
       "<Figure size 720x360 with 1 Axes>"
      ]
     },
     "metadata": {
      "needs_background": "light"
     },
     "output_type": "display_data"
    },
    {
     "data": {
      "image/png": "[encoded data removed]",
      "text/plain": [
       "<Figure size 720x360 with 1 Axes>"
      ]
     },
     "metadata": {
      "needs_background": "light"
     },
     "output_type": "display_data"
    },
    {
     "data": {
      "image/png": "[encoded data removed]",
      "text/plain": [
       "<Figure size 720x360 with 1 Axes>"
      ]
     },
     "metadata": {
      "needs_background": "light"
     },
     "output_type": "display_data"
    },
    {
     "data": {
      "image/png": "[encoded data removed]",
      "text/plain": [
       "<Figure size 720x360 with 1 Axes>"
      ]
     },
     "metadata": {
      "needs_background": "light"
     },
     "output_type": "display_data"
    },
    {
     "data": {
      "image/png": "[encoded data removed]",
      "text/plain": [
       "<Figure size 720x360 with 1 Axes>"
      ]
     },
     "metadata": {
      "needs_background": "light"
     },
     "output_type": "display_data"
    },
    {
     "data": {
      "image/png": "[encoded data removed]",
      "text/plain": [
       "<Figure size 720x360 with 1 Axes>"
      ]
     },
     "metadata": {
      "needs_background": "light"
     },
     "output_type": "display_data"
    },
    {
     "data": {
      "image/png": "[encoded data removed]",
      "text/plain": [
       "<Figure size 720x360 with 1 Axes>"
      ]
     },
     "metadata": {
      "needs_background": "light"
     },
     "output_type": "display_data"
    },
    {
     "data": {
      "image/png": "[encoded data removed]",
      "text/plain": [
       "<Figure size 720x360 with 1 Axes>"
      ]
     },
     "metadata": {
      "needs_background": "light"
     },
     "output_type": "display_data"
    },
    {
     "data": {
      "image/png": "[encoded data removed]",
      "text/plain": [
       "<Figure size 720x360 with 1 Axes>"
      ]
     },
     "metadata": {
      "needs_background": "light"
     },
     "output_type": "display_data"
    }
   ],
   "source": [
    "# Usamos matplotlib para visualizar los datos en box plot, y definimos un bucle para que itere por cada columna\n",
    "\n",
    "for column in df_red:\n",
    "    fig = plt.figure(figsize = (10,5))\n",
    "    red_square = dict(markerfacecolor = 'r', marker = 's')\n",
    "    df_red.boxplot([column], vert = False, flierprops = red_square)"
   ]
  },
  {
   "cell_type": "markdown",
   "metadata": {},
   "source": [
    "* El mínimo y el máximo de cada caja señalan la posición (-3) y 3 desviaciones típicas. \n",
    "* Como vemos en el boxplot, casi todas las variables tienen datos a tres o más desviaciones típicas, no solamente las dos variables que a priori sospechábamos. \n",
    "* También hay variables con mucha más variabilidad que otras (por ejemplo, el citric acid tiene mucha variabilidad, comparado por ejemplo con los sulfatos). \n",
    "* Podemos considerar dichos datos outliers, y decidimos eliminarlos. "
   ]
  },
  {
   "cell_type": "code",
   "execution_count": 1,
   "metadata": {},
   "outputs": [],
   "source": [
    "# Definimos una función que crea un objeto con los datos situados por debajo de tres desviaciones típicas\n",
    "# Usamos el modulo stats de Scipy\n",
    "\n",
    "def clean_outliers(df):\n",
    "    new = df.copy()\n",
    "    for col in new:\n",
    "        new = new[(np.abs(stats.zscore(new[col])) < 3)]\n",
    "  \n",
    "    return new"
   ]
  },
  {
   "cell_type": "code",
   "execution_count": 15,
   "metadata": {},
   "outputs": [
    {
     "name": "stdout",
     "output_type": "stream",
     "text": [
      "Column                  Mean                    Std                     Median     Min        Max        \n",
      "\n",
      "fixed acidity           8.29205298013247        1.6484543006354677      7.9        5.0        13.5      \n",
      "volatile acidity        0.5238534768211917      0.17239020271718672     0.52       0.12       1.07      \n",
      "citric acid             0.2644205298013235      0.19132337791962487     0.25       0.0        0.79      \n",
      "residual sugar          2.3739238410596033      0.8201246702332786      2.2        1.2        6.55      \n",
      "chlorides               0.08153973509933744     0.02217233272844194     0.079      0.038      0.23      \n",
      "free sulfur dioxide     14.984271523178808      9.168888588288198       13.0       1.0        45.0      \n",
      "total sulfur dioxide    42.94619205298013       28.034974938234644      35.5       6.0        135.0     \n",
      "density                 0.9966531208609278      0.001708772999893527    0.9966550000000001 0.9915     1.0018    \n",
      "pH                      3.314966887417219       0.1413703752397949      3.31       2.88       3.75      \n",
      "sulphates               0.6402649006622517      0.1258881133921905      0.62       0.33       1.1       \n",
      "alcohol                 10.43672737306841       1.0386973037105178      10.2       8.5        13.6      \n",
      "quality                 5.654801324503311       0.7930164075432962      6.0        4          8         \n",
      "número de registros con outliers:  (1359, 12)\n",
      "número de resgistros sin outliers:  (1208, 12)\n"
     ]
    }
   ],
   "source": [
    "# La aplicamos al dataset de vino rosado, y verificamos que los estadísticos están más ajustados. \n",
    "# Vemos que hemos eliminado 151 registros que se situaban a +/-3 desviacones típicas de la media en alguna de las variables\n",
    "\n",
    "df_red_cleaned = clean_outliers(df_red)\n",
    "estadisticas(df_red_cleaned)\n",
    "\n",
    "print('número de registros con outliers: ', df_red.shape)\n",
    "print('número de resgistros sin outliers: ', df_red_cleaned.shape)"
   ]
  },
  {
   "cell_type": "code",
   "execution_count": 16,
   "metadata": {},
   "outputs": [
    {
     "name": "stdout",
     "output_type": "stream",
     "text": [
      "Column                  Mean                    Std                     Median     Min        Max        \n",
      "\n",
      "fixed acidity           6.839346124715964       0.8668597405075802      6.8        3.8        14.2      \n",
      "volatile acidity        0.2805377429941933      0.10343708697305004     0.26       0.08       1.1       \n",
      "citric acid             0.33433223933349726     0.12244609076939166     0.32       0.0        1.66      \n",
      "residual sugar          5.914819490027788       4.861646307806205       4.7        0.6        65.8      \n",
      "chlorides               0.04590507447614268     0.02310271480397705     0.042      0.009      0.346     \n",
      "free sulfur dioxide     34.889169401666244      17.21002061114961       33.0       2.0        289.0     \n",
      "total sulfur dioxide    137.19351173945972      43.1290652402519        133.0      9.0        440.0     \n",
      "density                 0.9937895304216049      0.0029045957783314807   0.9935     0.98711    1.03898   \n",
      "pH                      3.195458217621807       0.15154556715055545     3.18       2.72       3.82      \n",
      "sulphates               0.49035092148447523     0.11352280532150684     0.48       0.22       1.08      \n",
      "alcohol                 10.589357906252669      1.2170763113067946      10.4       8.0        14.2      \n",
      "quality                 5.854834637717748       0.8906826794808556      6.0        3          9         \n"
     ]
    }
   ],
   "source": [
    "# Hacemos el mismo proceso con el dataset de vino blanco. Empezando por ver los estadísticos:\n",
    "\n",
    "estadisticas(df_white)"
   ]
  },
  {
   "cell_type": "code",
   "execution_count": 17,
   "metadata": {
    "scrolled": false
   },
   "outputs": [
    {
     "data": {
      "image/png": "[encoded data removed]",
      "text/plain": [
       "<Figure size 720x360 with 1 Axes>"
      ]
     },
     "metadata": {
      "needs_background": "light"
     },
     "output_type": "display_data"
    },
    {
     "data": {
      "image/png": "[encoded data removed]",
      "text/plain": [
       "<Figure size 720x360 with 1 Axes>"
      ]
     },
     "metadata": {
      "needs_background": "light"
     },
     "output_type": "display_data"
    },
    {
     "data": {
      "image/png": "[encoded data removed]",
      "text/plain": [
       "<Figure size 720x360 with 1 Axes>"
      ]
     },
     "metadata": {
      "needs_background": "light"
     },
     "output_type": "display_data"
    },
    {
     "data": {
      "image/png": "[encoded data removed]",
      "text/plain": [
       "<Figure size 720x360 with 1 Axes>"
      ]
     },
     "metadata": {
      "needs_background": "light"
     },
     "output_type": "display_data"
    },
    {
     "data": {
      "image/png": "[encoded data removed]",
      "text/plain": [
       "<Figure size 720x360 with 1 Axes>"
      ]
     },
     "metadata": {
      "needs_background": "light"
     },
     "output_type": "display_data"
    },
    {
     "data": {
      "image/png": "[encoded data removed]",
      "text/plain": [
       "<Figure size 720x360 with 1 Axes>"
      ]
     },
     "metadata": {
      "needs_background": "light"
     },
     "output_type": "display_data"
    },
    {
     "data": {
      "image/png": "[encoded data removed]",
      "text/plain": [
       "<Figure size 720x360 with 1 Axes>"
      ]
     },
     "metadata": {
      "needs_background": "light"
     },
     "output_type": "display_data"
    },
    {
     "data": {
      "image/png": "[encoded data removed]",
      "text/plain": [
       "<Figure size 720x360 with 1 Axes>"
      ]
     },
     "metadata": {
      "needs_background": "light"
     },
     "output_type": "display_data"
    },
    {
     "data": {
      "image/png": "[encoded data removed]",
      "text/plain": [
       "<Figure size 720x360 with 1 Axes>"
      ]
     },
     "metadata": {
      "needs_background": "light"
     },
     "output_type": "display_data"
    },
    {
     "data": {
      "image/png": "[encoded data removed]",
      "text/plain": [
       "<Figure size 720x360 with 1 Axes>"
      ]
     },
     "metadata": {
      "needs_background": "light"
     },
     "output_type": "display_data"
    },
    {
     "data": {
      "image/png": "[encoded data removed]",
      "text/plain": [
       "<Figure size 720x360 with 1 Axes>"
      ]
     },
     "metadata": {
      "needs_background": "light"
     },
     "output_type": "display_data"
    },
    {
     "data": {
      "image/png": "[encoded data removed]",
      "text/plain": [
       "<Figure size 720x360 with 1 Axes>"
      ]
     },
     "metadata": {
      "needs_background": "light"
     },
     "output_type": "display_data"
    }
   ],
   "source": [
    "# Visualizamos la distribución, variabilidad y outliers con boxplot. \n",
    "\n",
    "for column in df_white:\n",
    "    fig = plt.figure(figsize = (10,5))\n",
    "    red_square = dict(markerfacecolor = 'r', marker = 's')\n",
    "    df_white.boxplot([column], vert = False, flierprops = red_square)"
   ]
  },
  {
   "cell_type": "code",
   "execution_count": 18,
   "metadata": {},
   "outputs": [
    {
     "name": "stdout",
     "output_type": "stream",
     "text": [
      "Column                  Mean                    Std                     Median     Min        Max        \n",
      "\n",
      "fixed acidity           6.826901721265953       0.8096557363057317      6.8        4.4        9.4       \n",
      "volatile acidity        0.2725083287062744      0.0869290189302074      0.26       0.08       0.585     \n",
      "citric acid             0.3262104386451943      0.10099666133357754     0.32       0.0        0.69      \n",
      "residual sugar          5.8887978900610864      4.675664945348618       4.8        0.6        19.95     \n",
      "chlorides               0.042891171571349584    0.011729731367791693    0.042      0.012      0.108     \n",
      "free sulfur dioxide     34.3964464186563        15.4951943577677        33.0       2.0        86.0      \n",
      "total sulfur dioxide    136.21779566907273      41.6737100419869        132.0      21.0       260.0     \n",
      "density                 0.9937048722931664      0.002780394633607502    0.9934     0.98711    1.00182   \n",
      "pH                      3.195433092726258       0.14326631101580184     3.19       2.79       3.64      \n",
      "sulphates               0.4859605774569693      0.10512753445682821     0.47       0.22       0.82      \n",
      "alcohol                 10.619229131963756      1.2038410995933273      10.5       8.4        14.2      \n",
      "quality                 5.897834536368684       0.8536969132614738      6.0        4          8         \n",
      "número de registros con outliers:  (3961, 12)\n",
      "número de resgistros sin outliers:  (3602, 12)\n"
     ]
    }
   ],
   "source": [
    "# Vemos que también tenemos muchos outliers, que eliminamos usando la función antes creada. \n",
    "# Hemos eliminado 359 registros considerados outliers en alguna de las variables. \n",
    "\n",
    "df_white_cleaned = clean_outliers(df_white)\n",
    "estadisticas(df_white_cleaned)\n",
    "\n",
    "print('número de registros con outliers: ', df_white.shape)\n",
    "print('número de resgistros sin outliers: ', df_white_cleaned.shape)"
   ]
  },
  {
   "cell_type": "markdown",
   "metadata": {},
   "source": [
    "Una vez eliminados los outliers, vamos a analizar si hay **correlación entre variables**"
   ]
  },
  {
   "cell_type": "code",
   "execution_count": 19,
   "metadata": {},
   "outputs": [
    {
     "data": {
      "text/plain": [
       "<AxesSubplot:>"
      ]
     },
     "execution_count": 19,
     "metadata": {},
     "output_type": "execute_result"
    },
    {
     "data": {
      "image/png": "[encoded data removed]",
      "text/plain": [
       "<Figure size 1152x360 with 2 Axes>"
      ]
     },
     "metadata": {
      "needs_background": "light"
     },
     "output_type": "display_data"
    }
   ],
   "source": [
    "# Usamos la función heatmap de Seaborn en el dataset de vino rosado:\n",
    "\n",
    "plt.figure(figsize = (16, 5))\n",
    "sns.heatmap(df_red_cleaned.corr(), annot = True)"
   ]
  },
  {
   "cell_type": "code",
   "execution_count": 20,
   "metadata": {},
   "outputs": [
    {
     "data": {
      "text/plain": [
       "<AxesSubplot:>"
      ]
     },
     "execution_count": 20,
     "metadata": {},
     "output_type": "execute_result"
    },
    {
     "data": {
      "image/png": "[encoded data removed]",
      "text/plain": [
       "<Figure size 1152x360 with 2 Axes>"
      ]
     },
     "metadata": {
      "needs_background": "light"
     },
     "output_type": "display_data"
    }
   ],
   "source": [
    "# Y ahora en el de vino blanco:\n",
    "\n",
    "plt.figure(figsize = (16, 5))\n",
    "sns.heatmap(df_white_cleaned.corr(), annot = True)"
   ]
  },
  {
   "cell_type": "markdown",
   "metadata": {},
   "source": [
    "* Vemos que hay una correlación negativa relativamente alta entre la densidad y el acohol, y una correlación positiva entre la densidad y el azúcar residual en el vino blanco.\n",
    "* En cambio, en el vino rosado hay una correlación negativa relativamente alta entre la acidez y el pH.\n",
    "* No obstante, ninguna de ellas supera el valor de 0.85, por lo que decidimos no eliminar variables por el momento. "
   ]
  },
  {
   "cell_type": "markdown",
   "metadata": {},
   "source": [
    "**Definir la variable objetivo**\n",
    "\n",
    "Para construir nuestro modelo de clasificación de vino rosado .vs vino blanco, tendremos que juntar ambos datasets ya limpios. No obstante, no tenemos una variable objetivo, por lo que tenemos que crearla. \n",
    "\n",
    "Para establecer nuestra variable objetivo, vamos a crear una nueva columna llaman *target* en cada uno de los datasets, y vamos a darle el valor 0 para el vino rosado, y el valor 1 para el vino rosado. \n",
    "\n",
    "Así, el vino rosado será nuestra clase negativa y el blanco nuestra clase positiva. "
   ]
  },
  {
   "cell_type": "code",
   "execution_count": 21,
   "metadata": {},
   "outputs": [
    {
     "data": {
      "text/html": [
       "<div>\n",
       "<style scoped>\n",
       "    .dataframe tbody tr th:only-of-type {\n",
       "        vertical-align: middle;\n",
       "    }\n",
       "\n",
       "    .dataframe tbody tr th {\n",
       "        vertical-align: top;\n",
       "    }\n",
       "\n",
       "    .dataframe thead th {\n",
       "        text-align: right;\n",
       "    }\n",
       "</style>\n",
       "<table border=\"1\" class=\"dataframe\">\n",
       "  <thead>\n",
       "    <tr style=\"text-align: right;\">\n",
       "      <th></th>\n",
       "      <th>fixed acidity</th>\n",
       "      <th>volatile acidity</th>\n",
       "      <th>citric acid</th>\n",
       "      <th>residual sugar</th>\n",
       "      <th>chlorides</th>\n",
       "      <th>free sulfur dioxide</th>\n",
       "      <th>total sulfur dioxide</th>\n",
       "      <th>density</th>\n",
       "      <th>pH</th>\n",
       "      <th>sulphates</th>\n",
       "      <th>alcohol</th>\n",
       "      <th>quality</th>\n",
       "      <th>target</th>\n",
       "    </tr>\n",
       "  </thead>\n",
       "  <tbody>\n",
       "    <tr>\n",
       "      <th>0</th>\n",
       "      <td>7.4</td>\n",
       "      <td>0.700</td>\n",
       "      <td>0.00</td>\n",
       "      <td>1.9</td>\n",
       "      <td>0.076</td>\n",
       "      <td>11.0</td>\n",
       "      <td>34.0</td>\n",
       "      <td>0.99780</td>\n",
       "      <td>3.51</td>\n",
       "      <td>0.56</td>\n",
       "      <td>9.4</td>\n",
       "      <td>5</td>\n",
       "      <td>0</td>\n",
       "    </tr>\n",
       "    <tr>\n",
       "      <th>1</th>\n",
       "      <td>7.8</td>\n",
       "      <td>0.880</td>\n",
       "      <td>0.00</td>\n",
       "      <td>2.6</td>\n",
       "      <td>0.098</td>\n",
       "      <td>25.0</td>\n",
       "      <td>67.0</td>\n",
       "      <td>0.99680</td>\n",
       "      <td>3.20</td>\n",
       "      <td>0.68</td>\n",
       "      <td>9.8</td>\n",
       "      <td>5</td>\n",
       "      <td>0</td>\n",
       "    </tr>\n",
       "    <tr>\n",
       "      <th>2</th>\n",
       "      <td>7.8</td>\n",
       "      <td>0.760</td>\n",
       "      <td>0.04</td>\n",
       "      <td>2.3</td>\n",
       "      <td>0.092</td>\n",
       "      <td>15.0</td>\n",
       "      <td>54.0</td>\n",
       "      <td>0.99700</td>\n",
       "      <td>3.26</td>\n",
       "      <td>0.65</td>\n",
       "      <td>9.8</td>\n",
       "      <td>5</td>\n",
       "      <td>0</td>\n",
       "    </tr>\n",
       "    <tr>\n",
       "      <th>3</th>\n",
       "      <td>11.2</td>\n",
       "      <td>0.280</td>\n",
       "      <td>0.56</td>\n",
       "      <td>1.9</td>\n",
       "      <td>0.075</td>\n",
       "      <td>17.0</td>\n",
       "      <td>60.0</td>\n",
       "      <td>0.99800</td>\n",
       "      <td>3.16</td>\n",
       "      <td>0.58</td>\n",
       "      <td>9.8</td>\n",
       "      <td>6</td>\n",
       "      <td>0</td>\n",
       "    </tr>\n",
       "    <tr>\n",
       "      <th>5</th>\n",
       "      <td>7.4</td>\n",
       "      <td>0.660</td>\n",
       "      <td>0.00</td>\n",
       "      <td>1.8</td>\n",
       "      <td>0.075</td>\n",
       "      <td>13.0</td>\n",
       "      <td>40.0</td>\n",
       "      <td>0.99780</td>\n",
       "      <td>3.51</td>\n",
       "      <td>0.56</td>\n",
       "      <td>9.4</td>\n",
       "      <td>5</td>\n",
       "      <td>0</td>\n",
       "    </tr>\n",
       "    <tr>\n",
       "      <th>...</th>\n",
       "      <td>...</td>\n",
       "      <td>...</td>\n",
       "      <td>...</td>\n",
       "      <td>...</td>\n",
       "      <td>...</td>\n",
       "      <td>...</td>\n",
       "      <td>...</td>\n",
       "      <td>...</td>\n",
       "      <td>...</td>\n",
       "      <td>...</td>\n",
       "      <td>...</td>\n",
       "      <td>...</td>\n",
       "      <td>...</td>\n",
       "    </tr>\n",
       "    <tr>\n",
       "      <th>1593</th>\n",
       "      <td>6.8</td>\n",
       "      <td>0.620</td>\n",
       "      <td>0.08</td>\n",
       "      <td>1.9</td>\n",
       "      <td>0.068</td>\n",
       "      <td>28.0</td>\n",
       "      <td>38.0</td>\n",
       "      <td>0.99651</td>\n",
       "      <td>3.42</td>\n",
       "      <td>0.82</td>\n",
       "      <td>9.5</td>\n",
       "      <td>6</td>\n",
       "      <td>0</td>\n",
       "    </tr>\n",
       "    <tr>\n",
       "      <th>1594</th>\n",
       "      <td>6.2</td>\n",
       "      <td>0.600</td>\n",
       "      <td>0.08</td>\n",
       "      <td>2.0</td>\n",
       "      <td>0.090</td>\n",
       "      <td>32.0</td>\n",
       "      <td>44.0</td>\n",
       "      <td>0.99490</td>\n",
       "      <td>3.45</td>\n",
       "      <td>0.58</td>\n",
       "      <td>10.5</td>\n",
       "      <td>5</td>\n",
       "      <td>0</td>\n",
       "    </tr>\n",
       "    <tr>\n",
       "      <th>1595</th>\n",
       "      <td>5.9</td>\n",
       "      <td>0.550</td>\n",
       "      <td>0.10</td>\n",
       "      <td>2.2</td>\n",
       "      <td>0.062</td>\n",
       "      <td>39.0</td>\n",
       "      <td>51.0</td>\n",
       "      <td>0.99512</td>\n",
       "      <td>3.52</td>\n",
       "      <td>0.76</td>\n",
       "      <td>11.2</td>\n",
       "      <td>6</td>\n",
       "      <td>0</td>\n",
       "    </tr>\n",
       "    <tr>\n",
       "      <th>1597</th>\n",
       "      <td>5.9</td>\n",
       "      <td>0.645</td>\n",
       "      <td>0.12</td>\n",
       "      <td>2.0</td>\n",
       "      <td>0.075</td>\n",
       "      <td>32.0</td>\n",
       "      <td>44.0</td>\n",
       "      <td>0.99547</td>\n",
       "      <td>3.57</td>\n",
       "      <td>0.71</td>\n",
       "      <td>10.2</td>\n",
       "      <td>5</td>\n",
       "      <td>0</td>\n",
       "    </tr>\n",
       "    <tr>\n",
       "      <th>1598</th>\n",
       "      <td>6.0</td>\n",
       "      <td>0.310</td>\n",
       "      <td>0.47</td>\n",
       "      <td>3.6</td>\n",
       "      <td>0.067</td>\n",
       "      <td>18.0</td>\n",
       "      <td>42.0</td>\n",
       "      <td>0.99549</td>\n",
       "      <td>3.39</td>\n",
       "      <td>0.66</td>\n",
       "      <td>11.0</td>\n",
       "      <td>6</td>\n",
       "      <td>0</td>\n",
       "    </tr>\n",
       "  </tbody>\n",
       "</table>\n",
       "<p>1208 rows × 13 columns</p>\n",
       "</div>"
      ],
      "text/plain": [
       "      fixed acidity  volatile acidity  citric acid  residual sugar  chlorides  \\\n",
       "0               7.4             0.700         0.00             1.9      0.076   \n",
       "1               7.8             0.880         0.00             2.6      0.098   \n",
       "2               7.8             0.760         0.04             2.3      0.092   \n",
       "3              11.2             0.280         0.56             1.9      0.075   \n",
       "5               7.4             0.660         0.00             1.8      0.075   \n",
       "...             ...               ...          ...             ...        ...   \n",
       "1593            6.8             0.620         0.08             1.9      0.068   \n",
       "1594            6.2             0.600         0.08             2.0      0.090   \n",
       "1595            5.9             0.550         0.10             2.2      0.062   \n",
       "1597            5.9             0.645         0.12             2.0      0.075   \n",
       "1598            6.0             0.310         0.47             3.6      0.067   \n",
       "\n",
       "      free sulfur dioxide  total sulfur dioxide  density    pH  sulphates  \\\n",
       "0                    11.0                  34.0  0.99780  3.51       0.56   \n",
       "1                    25.0                  67.0  0.99680  3.20       0.68   \n",
       "2                    15.0                  54.0  0.99700  3.26       0.65   \n",
       "3                    17.0                  60.0  0.99800  3.16       0.58   \n",
       "5                    13.0                  40.0  0.99780  3.51       0.56   \n",
       "...                   ...                   ...      ...   ...        ...   \n",
       "1593                 28.0                  38.0  0.99651  3.42       0.82   \n",
       "1594                 32.0                  44.0  0.99490  3.45       0.58   \n",
       "1595                 39.0                  51.0  0.99512  3.52       0.76   \n",
       "1597                 32.0                  44.0  0.99547  3.57       0.71   \n",
       "1598                 18.0                  42.0  0.99549  3.39       0.66   \n",
       "\n",
       "      alcohol  quality  target  \n",
       "0         9.4        5       0  \n",
       "1         9.8        5       0  \n",
       "2         9.8        5       0  \n",
       "3         9.8        6       0  \n",
       "5         9.4        5       0  \n",
       "...       ...      ...     ...  \n",
       "1593      9.5        6       0  \n",
       "1594     10.5        5       0  \n",
       "1595     11.2        6       0  \n",
       "1597     10.2        5       0  \n",
       "1598     11.0        6       0  \n",
       "\n",
       "[1208 rows x 13 columns]"
      ]
     },
     "execution_count": 21,
     "metadata": {},
     "output_type": "execute_result"
    }
   ],
   "source": [
    "# Usamos la función insert de pandas, especificando la posición de la columna, el nombre y el valor\n",
    "df_red_cleaned.insert(12, 'target', 0)\n",
    "df_red_cleaned"
   ]
  },
  {
   "cell_type": "code",
   "execution_count": 22,
   "metadata": {},
   "outputs": [
    {
     "data": {
      "text/html": [
       "<div>\n",
       "<style scoped>\n",
       "    .dataframe tbody tr th:only-of-type {\n",
       "        vertical-align: middle;\n",
       "    }\n",
       "\n",
       "    .dataframe tbody tr th {\n",
       "        vertical-align: top;\n",
       "    }\n",
       "\n",
       "    .dataframe thead th {\n",
       "        text-align: right;\n",
       "    }\n",
       "</style>\n",
       "<table border=\"1\" class=\"dataframe\">\n",
       "  <thead>\n",
       "    <tr style=\"text-align: right;\">\n",
       "      <th></th>\n",
       "      <th>fixed acidity</th>\n",
       "      <th>volatile acidity</th>\n",
       "      <th>citric acid</th>\n",
       "      <th>residual sugar</th>\n",
       "      <th>chlorides</th>\n",
       "      <th>free sulfur dioxide</th>\n",
       "      <th>total sulfur dioxide</th>\n",
       "      <th>density</th>\n",
       "      <th>pH</th>\n",
       "      <th>sulphates</th>\n",
       "      <th>alcohol</th>\n",
       "      <th>quality</th>\n",
       "      <th>target</th>\n",
       "    </tr>\n",
       "  </thead>\n",
       "  <tbody>\n",
       "    <tr>\n",
       "      <th>1</th>\n",
       "      <td>6.3</td>\n",
       "      <td>0.30</td>\n",
       "      <td>0.34</td>\n",
       "      <td>1.6</td>\n",
       "      <td>0.049</td>\n",
       "      <td>14.0</td>\n",
       "      <td>132.0</td>\n",
       "      <td>0.99400</td>\n",
       "      <td>3.30</td>\n",
       "      <td>0.49</td>\n",
       "      <td>9.5</td>\n",
       "      <td>6</td>\n",
       "      <td>1</td>\n",
       "    </tr>\n",
       "    <tr>\n",
       "      <th>2</th>\n",
       "      <td>8.1</td>\n",
       "      <td>0.28</td>\n",
       "      <td>0.40</td>\n",
       "      <td>6.9</td>\n",
       "      <td>0.050</td>\n",
       "      <td>30.0</td>\n",
       "      <td>97.0</td>\n",
       "      <td>0.99510</td>\n",
       "      <td>3.26</td>\n",
       "      <td>0.44</td>\n",
       "      <td>10.1</td>\n",
       "      <td>6</td>\n",
       "      <td>1</td>\n",
       "    </tr>\n",
       "    <tr>\n",
       "      <th>3</th>\n",
       "      <td>7.2</td>\n",
       "      <td>0.23</td>\n",
       "      <td>0.32</td>\n",
       "      <td>8.5</td>\n",
       "      <td>0.058</td>\n",
       "      <td>47.0</td>\n",
       "      <td>186.0</td>\n",
       "      <td>0.99560</td>\n",
       "      <td>3.19</td>\n",
       "      <td>0.40</td>\n",
       "      <td>9.9</td>\n",
       "      <td>6</td>\n",
       "      <td>1</td>\n",
       "    </tr>\n",
       "    <tr>\n",
       "      <th>6</th>\n",
       "      <td>6.2</td>\n",
       "      <td>0.32</td>\n",
       "      <td>0.16</td>\n",
       "      <td>7.0</td>\n",
       "      <td>0.045</td>\n",
       "      <td>30.0</td>\n",
       "      <td>136.0</td>\n",
       "      <td>0.99490</td>\n",
       "      <td>3.18</td>\n",
       "      <td>0.47</td>\n",
       "      <td>9.6</td>\n",
       "      <td>6</td>\n",
       "      <td>1</td>\n",
       "    </tr>\n",
       "    <tr>\n",
       "      <th>9</th>\n",
       "      <td>8.1</td>\n",
       "      <td>0.22</td>\n",
       "      <td>0.43</td>\n",
       "      <td>1.5</td>\n",
       "      <td>0.044</td>\n",
       "      <td>28.0</td>\n",
       "      <td>129.0</td>\n",
       "      <td>0.99380</td>\n",
       "      <td>3.22</td>\n",
       "      <td>0.45</td>\n",
       "      <td>11.0</td>\n",
       "      <td>6</td>\n",
       "      <td>1</td>\n",
       "    </tr>\n",
       "    <tr>\n",
       "      <th>...</th>\n",
       "      <td>...</td>\n",
       "      <td>...</td>\n",
       "      <td>...</td>\n",
       "      <td>...</td>\n",
       "      <td>...</td>\n",
       "      <td>...</td>\n",
       "      <td>...</td>\n",
       "      <td>...</td>\n",
       "      <td>...</td>\n",
       "      <td>...</td>\n",
       "      <td>...</td>\n",
       "      <td>...</td>\n",
       "      <td>...</td>\n",
       "    </tr>\n",
       "    <tr>\n",
       "      <th>4893</th>\n",
       "      <td>6.2</td>\n",
       "      <td>0.21</td>\n",
       "      <td>0.29</td>\n",
       "      <td>1.6</td>\n",
       "      <td>0.039</td>\n",
       "      <td>24.0</td>\n",
       "      <td>92.0</td>\n",
       "      <td>0.99114</td>\n",
       "      <td>3.27</td>\n",
       "      <td>0.50</td>\n",
       "      <td>11.2</td>\n",
       "      <td>6</td>\n",
       "      <td>1</td>\n",
       "    </tr>\n",
       "    <tr>\n",
       "      <th>4894</th>\n",
       "      <td>6.6</td>\n",
       "      <td>0.32</td>\n",
       "      <td>0.36</td>\n",
       "      <td>8.0</td>\n",
       "      <td>0.047</td>\n",
       "      <td>57.0</td>\n",
       "      <td>168.0</td>\n",
       "      <td>0.99490</td>\n",
       "      <td>3.15</td>\n",
       "      <td>0.46</td>\n",
       "      <td>9.6</td>\n",
       "      <td>5</td>\n",
       "      <td>1</td>\n",
       "    </tr>\n",
       "    <tr>\n",
       "      <th>4895</th>\n",
       "      <td>6.5</td>\n",
       "      <td>0.24</td>\n",
       "      <td>0.19</td>\n",
       "      <td>1.2</td>\n",
       "      <td>0.041</td>\n",
       "      <td>30.0</td>\n",
       "      <td>111.0</td>\n",
       "      <td>0.99254</td>\n",
       "      <td>2.99</td>\n",
       "      <td>0.46</td>\n",
       "      <td>9.4</td>\n",
       "      <td>6</td>\n",
       "      <td>1</td>\n",
       "    </tr>\n",
       "    <tr>\n",
       "      <th>4896</th>\n",
       "      <td>5.5</td>\n",
       "      <td>0.29</td>\n",
       "      <td>0.30</td>\n",
       "      <td>1.1</td>\n",
       "      <td>0.022</td>\n",
       "      <td>20.0</td>\n",
       "      <td>110.0</td>\n",
       "      <td>0.98869</td>\n",
       "      <td>3.34</td>\n",
       "      <td>0.38</td>\n",
       "      <td>12.8</td>\n",
       "      <td>7</td>\n",
       "      <td>1</td>\n",
       "    </tr>\n",
       "    <tr>\n",
       "      <th>4897</th>\n",
       "      <td>6.0</td>\n",
       "      <td>0.21</td>\n",
       "      <td>0.38</td>\n",
       "      <td>0.8</td>\n",
       "      <td>0.020</td>\n",
       "      <td>22.0</td>\n",
       "      <td>98.0</td>\n",
       "      <td>0.98941</td>\n",
       "      <td>3.26</td>\n",
       "      <td>0.32</td>\n",
       "      <td>11.8</td>\n",
       "      <td>6</td>\n",
       "      <td>1</td>\n",
       "    </tr>\n",
       "  </tbody>\n",
       "</table>\n",
       "<p>3602 rows × 13 columns</p>\n",
       "</div>"
      ],
      "text/plain": [
       "      fixed acidity  volatile acidity  citric acid  residual sugar  chlorides  \\\n",
       "1               6.3              0.30         0.34             1.6      0.049   \n",
       "2               8.1              0.28         0.40             6.9      0.050   \n",
       "3               7.2              0.23         0.32             8.5      0.058   \n",
       "6               6.2              0.32         0.16             7.0      0.045   \n",
       "9               8.1              0.22         0.43             1.5      0.044   \n",
       "...             ...               ...          ...             ...        ...   \n",
       "4893            6.2              0.21         0.29             1.6      0.039   \n",
       "4894            6.6              0.32         0.36             8.0      0.047   \n",
       "4895            6.5              0.24         0.19             1.2      0.041   \n",
       "4896            5.5              0.29         0.30             1.1      0.022   \n",
       "4897            6.0              0.21         0.38             0.8      0.020   \n",
       "\n",
       "      free sulfur dioxide  total sulfur dioxide  density    pH  sulphates  \\\n",
       "1                    14.0                 132.0  0.99400  3.30       0.49   \n",
       "2                    30.0                  97.0  0.99510  3.26       0.44   \n",
       "3                    47.0                 186.0  0.99560  3.19       0.40   \n",
       "6                    30.0                 136.0  0.99490  3.18       0.47   \n",
       "9                    28.0                 129.0  0.99380  3.22       0.45   \n",
       "...                   ...                   ...      ...   ...        ...   \n",
       "4893                 24.0                  92.0  0.99114  3.27       0.50   \n",
       "4894                 57.0                 168.0  0.99490  3.15       0.46   \n",
       "4895                 30.0                 111.0  0.99254  2.99       0.46   \n",
       "4896                 20.0                 110.0  0.98869  3.34       0.38   \n",
       "4897                 22.0                  98.0  0.98941  3.26       0.32   \n",
       "\n",
       "      alcohol  quality  target  \n",
       "1         9.5        6       1  \n",
       "2        10.1        6       1  \n",
       "3         9.9        6       1  \n",
       "6         9.6        6       1  \n",
       "9        11.0        6       1  \n",
       "...       ...      ...     ...  \n",
       "4893     11.2        6       1  \n",
       "4894      9.6        5       1  \n",
       "4895      9.4        6       1  \n",
       "4896     12.8        7       1  \n",
       "4897     11.8        6       1  \n",
       "\n",
       "[3602 rows x 13 columns]"
      ]
     },
     "execution_count": 22,
     "metadata": {},
     "output_type": "execute_result"
    }
   ],
   "source": [
    "df_white_cleaned.insert(12, 'target', 1)\n",
    "df_white_cleaned"
   ]
  },
  {
   "cell_type": "code",
   "execution_count": 23,
   "metadata": {},
   "outputs": [
    {
     "data": {
      "text/html": [
       "<div>\n",
       "<style scoped>\n",
       "    .dataframe tbody tr th:only-of-type {\n",
       "        vertical-align: middle;\n",
       "    }\n",
       "\n",
       "    .dataframe tbody tr th {\n",
       "        vertical-align: top;\n",
       "    }\n",
       "\n",
       "    .dataframe thead th {\n",
       "        text-align: right;\n",
       "    }\n",
       "</style>\n",
       "<table border=\"1\" class=\"dataframe\">\n",
       "  <thead>\n",
       "    <tr style=\"text-align: right;\">\n",
       "      <th></th>\n",
       "      <th>fixed acidity</th>\n",
       "      <th>volatile acidity</th>\n",
       "      <th>citric acid</th>\n",
       "      <th>residual sugar</th>\n",
       "      <th>chlorides</th>\n",
       "      <th>free sulfur dioxide</th>\n",
       "      <th>total sulfur dioxide</th>\n",
       "      <th>density</th>\n",
       "      <th>pH</th>\n",
       "      <th>sulphates</th>\n",
       "      <th>alcohol</th>\n",
       "      <th>quality</th>\n",
       "      <th>target</th>\n",
       "    </tr>\n",
       "  </thead>\n",
       "  <tbody>\n",
       "    <tr>\n",
       "      <th>0</th>\n",
       "      <td>7.4</td>\n",
       "      <td>0.70</td>\n",
       "      <td>0.00</td>\n",
       "      <td>1.9</td>\n",
       "      <td>0.076</td>\n",
       "      <td>11.0</td>\n",
       "      <td>34.0</td>\n",
       "      <td>0.99780</td>\n",
       "      <td>3.51</td>\n",
       "      <td>0.56</td>\n",
       "      <td>9.4</td>\n",
       "      <td>5</td>\n",
       "      <td>0</td>\n",
       "    </tr>\n",
       "    <tr>\n",
       "      <th>1</th>\n",
       "      <td>7.8</td>\n",
       "      <td>0.88</td>\n",
       "      <td>0.00</td>\n",
       "      <td>2.6</td>\n",
       "      <td>0.098</td>\n",
       "      <td>25.0</td>\n",
       "      <td>67.0</td>\n",
       "      <td>0.99680</td>\n",
       "      <td>3.20</td>\n",
       "      <td>0.68</td>\n",
       "      <td>9.8</td>\n",
       "      <td>5</td>\n",
       "      <td>0</td>\n",
       "    </tr>\n",
       "    <tr>\n",
       "      <th>2</th>\n",
       "      <td>7.8</td>\n",
       "      <td>0.76</td>\n",
       "      <td>0.04</td>\n",
       "      <td>2.3</td>\n",
       "      <td>0.092</td>\n",
       "      <td>15.0</td>\n",
       "      <td>54.0</td>\n",
       "      <td>0.99700</td>\n",
       "      <td>3.26</td>\n",
       "      <td>0.65</td>\n",
       "      <td>9.8</td>\n",
       "      <td>5</td>\n",
       "      <td>0</td>\n",
       "    </tr>\n",
       "    <tr>\n",
       "      <th>3</th>\n",
       "      <td>11.2</td>\n",
       "      <td>0.28</td>\n",
       "      <td>0.56</td>\n",
       "      <td>1.9</td>\n",
       "      <td>0.075</td>\n",
       "      <td>17.0</td>\n",
       "      <td>60.0</td>\n",
       "      <td>0.99800</td>\n",
       "      <td>3.16</td>\n",
       "      <td>0.58</td>\n",
       "      <td>9.8</td>\n",
       "      <td>6</td>\n",
       "      <td>0</td>\n",
       "    </tr>\n",
       "    <tr>\n",
       "      <th>5</th>\n",
       "      <td>7.4</td>\n",
       "      <td>0.66</td>\n",
       "      <td>0.00</td>\n",
       "      <td>1.8</td>\n",
       "      <td>0.075</td>\n",
       "      <td>13.0</td>\n",
       "      <td>40.0</td>\n",
       "      <td>0.99780</td>\n",
       "      <td>3.51</td>\n",
       "      <td>0.56</td>\n",
       "      <td>9.4</td>\n",
       "      <td>5</td>\n",
       "      <td>0</td>\n",
       "    </tr>\n",
       "    <tr>\n",
       "      <th>...</th>\n",
       "      <td>...</td>\n",
       "      <td>...</td>\n",
       "      <td>...</td>\n",
       "      <td>...</td>\n",
       "      <td>...</td>\n",
       "      <td>...</td>\n",
       "      <td>...</td>\n",
       "      <td>...</td>\n",
       "      <td>...</td>\n",
       "      <td>...</td>\n",
       "      <td>...</td>\n",
       "      <td>...</td>\n",
       "      <td>...</td>\n",
       "    </tr>\n",
       "    <tr>\n",
       "      <th>4893</th>\n",
       "      <td>6.2</td>\n",
       "      <td>0.21</td>\n",
       "      <td>0.29</td>\n",
       "      <td>1.6</td>\n",
       "      <td>0.039</td>\n",
       "      <td>24.0</td>\n",
       "      <td>92.0</td>\n",
       "      <td>0.99114</td>\n",
       "      <td>3.27</td>\n",
       "      <td>0.50</td>\n",
       "      <td>11.2</td>\n",
       "      <td>6</td>\n",
       "      <td>1</td>\n",
       "    </tr>\n",
       "    <tr>\n",
       "      <th>4894</th>\n",
       "      <td>6.6</td>\n",
       "      <td>0.32</td>\n",
       "      <td>0.36</td>\n",
       "      <td>8.0</td>\n",
       "      <td>0.047</td>\n",
       "      <td>57.0</td>\n",
       "      <td>168.0</td>\n",
       "      <td>0.99490</td>\n",
       "      <td>3.15</td>\n",
       "      <td>0.46</td>\n",
       "      <td>9.6</td>\n",
       "      <td>5</td>\n",
       "      <td>1</td>\n",
       "    </tr>\n",
       "    <tr>\n",
       "      <th>4895</th>\n",
       "      <td>6.5</td>\n",
       "      <td>0.24</td>\n",
       "      <td>0.19</td>\n",
       "      <td>1.2</td>\n",
       "      <td>0.041</td>\n",
       "      <td>30.0</td>\n",
       "      <td>111.0</td>\n",
       "      <td>0.99254</td>\n",
       "      <td>2.99</td>\n",
       "      <td>0.46</td>\n",
       "      <td>9.4</td>\n",
       "      <td>6</td>\n",
       "      <td>1</td>\n",
       "    </tr>\n",
       "    <tr>\n",
       "      <th>4896</th>\n",
       "      <td>5.5</td>\n",
       "      <td>0.29</td>\n",
       "      <td>0.30</td>\n",
       "      <td>1.1</td>\n",
       "      <td>0.022</td>\n",
       "      <td>20.0</td>\n",
       "      <td>110.0</td>\n",
       "      <td>0.98869</td>\n",
       "      <td>3.34</td>\n",
       "      <td>0.38</td>\n",
       "      <td>12.8</td>\n",
       "      <td>7</td>\n",
       "      <td>1</td>\n",
       "    </tr>\n",
       "    <tr>\n",
       "      <th>4897</th>\n",
       "      <td>6.0</td>\n",
       "      <td>0.21</td>\n",
       "      <td>0.38</td>\n",
       "      <td>0.8</td>\n",
       "      <td>0.020</td>\n",
       "      <td>22.0</td>\n",
       "      <td>98.0</td>\n",
       "      <td>0.98941</td>\n",
       "      <td>3.26</td>\n",
       "      <td>0.32</td>\n",
       "      <td>11.8</td>\n",
       "      <td>6</td>\n",
       "      <td>1</td>\n",
       "    </tr>\n",
       "  </tbody>\n",
       "</table>\n",
       "<p>4810 rows × 13 columns</p>\n",
       "</div>"
      ],
      "text/plain": [
       "      fixed acidity  volatile acidity  citric acid  residual sugar  chlorides  \\\n",
       "0               7.4              0.70         0.00             1.9      0.076   \n",
       "1               7.8              0.88         0.00             2.6      0.098   \n",
       "2               7.8              0.76         0.04             2.3      0.092   \n",
       "3              11.2              0.28         0.56             1.9      0.075   \n",
       "5               7.4              0.66         0.00             1.8      0.075   \n",
       "...             ...               ...          ...             ...        ...   \n",
       "4893            6.2              0.21         0.29             1.6      0.039   \n",
       "4894            6.6              0.32         0.36             8.0      0.047   \n",
       "4895            6.5              0.24         0.19             1.2      0.041   \n",
       "4896            5.5              0.29         0.30             1.1      0.022   \n",
       "4897            6.0              0.21         0.38             0.8      0.020   \n",
       "\n",
       "      free sulfur dioxide  total sulfur dioxide  density    pH  sulphates  \\\n",
       "0                    11.0                  34.0  0.99780  3.51       0.56   \n",
       "1                    25.0                  67.0  0.99680  3.20       0.68   \n",
       "2                    15.0                  54.0  0.99700  3.26       0.65   \n",
       "3                    17.0                  60.0  0.99800  3.16       0.58   \n",
       "5                    13.0                  40.0  0.99780  3.51       0.56   \n",
       "...                   ...                   ...      ...   ...        ...   \n",
       "4893                 24.0                  92.0  0.99114  3.27       0.50   \n",
       "4894                 57.0                 168.0  0.99490  3.15       0.46   \n",
       "4895                 30.0                 111.0  0.99254  2.99       0.46   \n",
       "4896                 20.0                 110.0  0.98869  3.34       0.38   \n",
       "4897                 22.0                  98.0  0.98941  3.26       0.32   \n",
       "\n",
       "      alcohol  quality  target  \n",
       "0         9.4        5       0  \n",
       "1         9.8        5       0  \n",
       "2         9.8        5       0  \n",
       "3         9.8        6       0  \n",
       "5         9.4        5       0  \n",
       "...       ...      ...     ...  \n",
       "4893     11.2        6       1  \n",
       "4894      9.6        5       1  \n",
       "4895      9.4        6       1  \n",
       "4896     12.8        7       1  \n",
       "4897     11.8        6       1  \n",
       "\n",
       "[4810 rows x 13 columns]"
      ]
     },
     "execution_count": 23,
     "metadata": {},
     "output_type": "execute_result"
    }
   ],
   "source": [
    "# Y ahora ya podemos combinar ambos datasets sobre los que aplicaremos el modelo. \n",
    "\n",
    "df_cleaned = pd.concat([df_red_cleaned, df_white_cleaned], axis = 0)\n",
    "df_cleaned"
   ]
  },
  {
   "cell_type": "code",
   "execution_count": 24,
   "metadata": {},
   "outputs": [
    {
     "data": {
      "text/plain": [
       "<AxesSubplot:>"
      ]
     },
     "execution_count": 24,
     "metadata": {},
     "output_type": "execute_result"
    },
    {
     "data": {
      "image/png": "[encoded data removed]",
      "text/plain": [
       "<Figure size 1152x360 with 2 Axes>"
      ]
     },
     "metadata": {
      "needs_background": "light"
     },
     "output_type": "display_data"
    }
   ],
   "source": [
    "# Comprovamos que despues del merge no haya alguna variable que esta demasiado correlacionada con el objetivo\n",
    "\n",
    "plt.figure(figsize = (16, 5))\n",
    "sns.heatmap(df_cleaned.corr(), annot = True)"
   ]
  },
  {
   "cell_type": "markdown",
   "metadata": {},
   "source": [
    "Vemos que el total sulfur dioxide y los chlorides tiene una correlación relativamente alta con el target, pero no consideramos que se lo suficiente como para haberla de descartar."
   ]
  },
  {
   "cell_type": "code",
   "execution_count": 25,
   "metadata": {},
   "outputs": [
    {
     "data": {
      "text/html": [
       "<div>\n",
       "<style scoped>\n",
       "    .dataframe tbody tr th:only-of-type {\n",
       "        vertical-align: middle;\n",
       "    }\n",
       "\n",
       "    .dataframe tbody tr th {\n",
       "        vertical-align: top;\n",
       "    }\n",
       "\n",
       "    .dataframe thead th {\n",
       "        text-align: right;\n",
       "    }\n",
       "</style>\n",
       "<table border=\"1\" class=\"dataframe\">\n",
       "  <thead>\n",
       "    <tr style=\"text-align: right;\">\n",
       "      <th></th>\n",
       "      <th>fixed acidity</th>\n",
       "      <th>volatile acidity</th>\n",
       "      <th>citric acid</th>\n",
       "      <th>residual sugar</th>\n",
       "      <th>chlorides</th>\n",
       "      <th>free sulfur dioxide</th>\n",
       "      <th>total sulfur dioxide</th>\n",
       "      <th>density</th>\n",
       "      <th>pH</th>\n",
       "      <th>sulphates</th>\n",
       "      <th>alcohol</th>\n",
       "      <th>quality</th>\n",
       "      <th>target</th>\n",
       "    </tr>\n",
       "  </thead>\n",
       "  <tbody>\n",
       "    <tr>\n",
       "      <th>0</th>\n",
       "      <td>7.4</td>\n",
       "      <td>0.70</td>\n",
       "      <td>0.00</td>\n",
       "      <td>1.9</td>\n",
       "      <td>0.076</td>\n",
       "      <td>11.0</td>\n",
       "      <td>34.0</td>\n",
       "      <td>0.99780</td>\n",
       "      <td>3.51</td>\n",
       "      <td>0.56</td>\n",
       "      <td>9.4</td>\n",
       "      <td>5</td>\n",
       "      <td>0</td>\n",
       "    </tr>\n",
       "    <tr>\n",
       "      <th>1</th>\n",
       "      <td>7.8</td>\n",
       "      <td>0.88</td>\n",
       "      <td>0.00</td>\n",
       "      <td>2.6</td>\n",
       "      <td>0.098</td>\n",
       "      <td>25.0</td>\n",
       "      <td>67.0</td>\n",
       "      <td>0.99680</td>\n",
       "      <td>3.20</td>\n",
       "      <td>0.68</td>\n",
       "      <td>9.8</td>\n",
       "      <td>5</td>\n",
       "      <td>0</td>\n",
       "    </tr>\n",
       "    <tr>\n",
       "      <th>2</th>\n",
       "      <td>7.8</td>\n",
       "      <td>0.76</td>\n",
       "      <td>0.04</td>\n",
       "      <td>2.3</td>\n",
       "      <td>0.092</td>\n",
       "      <td>15.0</td>\n",
       "      <td>54.0</td>\n",
       "      <td>0.99700</td>\n",
       "      <td>3.26</td>\n",
       "      <td>0.65</td>\n",
       "      <td>9.8</td>\n",
       "      <td>5</td>\n",
       "      <td>0</td>\n",
       "    </tr>\n",
       "    <tr>\n",
       "      <th>3</th>\n",
       "      <td>11.2</td>\n",
       "      <td>0.28</td>\n",
       "      <td>0.56</td>\n",
       "      <td>1.9</td>\n",
       "      <td>0.075</td>\n",
       "      <td>17.0</td>\n",
       "      <td>60.0</td>\n",
       "      <td>0.99800</td>\n",
       "      <td>3.16</td>\n",
       "      <td>0.58</td>\n",
       "      <td>9.8</td>\n",
       "      <td>6</td>\n",
       "      <td>0</td>\n",
       "    </tr>\n",
       "    <tr>\n",
       "      <th>5</th>\n",
       "      <td>7.4</td>\n",
       "      <td>0.66</td>\n",
       "      <td>0.00</td>\n",
       "      <td>1.8</td>\n",
       "      <td>0.075</td>\n",
       "      <td>13.0</td>\n",
       "      <td>40.0</td>\n",
       "      <td>0.99780</td>\n",
       "      <td>3.51</td>\n",
       "      <td>0.56</td>\n",
       "      <td>9.4</td>\n",
       "      <td>5</td>\n",
       "      <td>0</td>\n",
       "    </tr>\n",
       "    <tr>\n",
       "      <th>...</th>\n",
       "      <td>...</td>\n",
       "      <td>...</td>\n",
       "      <td>...</td>\n",
       "      <td>...</td>\n",
       "      <td>...</td>\n",
       "      <td>...</td>\n",
       "      <td>...</td>\n",
       "      <td>...</td>\n",
       "      <td>...</td>\n",
       "      <td>...</td>\n",
       "      <td>...</td>\n",
       "      <td>...</td>\n",
       "      <td>...</td>\n",
       "    </tr>\n",
       "    <tr>\n",
       "      <th>4893</th>\n",
       "      <td>6.2</td>\n",
       "      <td>0.21</td>\n",
       "      <td>0.29</td>\n",
       "      <td>1.6</td>\n",
       "      <td>0.039</td>\n",
       "      <td>24.0</td>\n",
       "      <td>92.0</td>\n",
       "      <td>0.99114</td>\n",
       "      <td>3.27</td>\n",
       "      <td>0.50</td>\n",
       "      <td>11.2</td>\n",
       "      <td>6</td>\n",
       "      <td>1</td>\n",
       "    </tr>\n",
       "    <tr>\n",
       "      <th>4894</th>\n",
       "      <td>6.6</td>\n",
       "      <td>0.32</td>\n",
       "      <td>0.36</td>\n",
       "      <td>8.0</td>\n",
       "      <td>0.047</td>\n",
       "      <td>57.0</td>\n",
       "      <td>168.0</td>\n",
       "      <td>0.99490</td>\n",
       "      <td>3.15</td>\n",
       "      <td>0.46</td>\n",
       "      <td>9.6</td>\n",
       "      <td>5</td>\n",
       "      <td>1</td>\n",
       "    </tr>\n",
       "    <tr>\n",
       "      <th>4895</th>\n",
       "      <td>6.5</td>\n",
       "      <td>0.24</td>\n",
       "      <td>0.19</td>\n",
       "      <td>1.2</td>\n",
       "      <td>0.041</td>\n",
       "      <td>30.0</td>\n",
       "      <td>111.0</td>\n",
       "      <td>0.99254</td>\n",
       "      <td>2.99</td>\n",
       "      <td>0.46</td>\n",
       "      <td>9.4</td>\n",
       "      <td>6</td>\n",
       "      <td>1</td>\n",
       "    </tr>\n",
       "    <tr>\n",
       "      <th>4896</th>\n",
       "      <td>5.5</td>\n",
       "      <td>0.29</td>\n",
       "      <td>0.30</td>\n",
       "      <td>1.1</td>\n",
       "      <td>0.022</td>\n",
       "      <td>20.0</td>\n",
       "      <td>110.0</td>\n",
       "      <td>0.98869</td>\n",
       "      <td>3.34</td>\n",
       "      <td>0.38</td>\n",
       "      <td>12.8</td>\n",
       "      <td>7</td>\n",
       "      <td>1</td>\n",
       "    </tr>\n",
       "    <tr>\n",
       "      <th>4897</th>\n",
       "      <td>6.0</td>\n",
       "      <td>0.21</td>\n",
       "      <td>0.38</td>\n",
       "      <td>0.8</td>\n",
       "      <td>0.020</td>\n",
       "      <td>22.0</td>\n",
       "      <td>98.0</td>\n",
       "      <td>0.98941</td>\n",
       "      <td>3.26</td>\n",
       "      <td>0.32</td>\n",
       "      <td>11.8</td>\n",
       "      <td>6</td>\n",
       "      <td>1</td>\n",
       "    </tr>\n",
       "  </tbody>\n",
       "</table>\n",
       "<p>4810 rows × 13 columns</p>\n",
       "</div>"
      ],
      "text/plain": [
       "      fixed acidity  volatile acidity  citric acid  residual sugar  chlorides  \\\n",
       "0               7.4              0.70         0.00             1.9      0.076   \n",
       "1               7.8              0.88         0.00             2.6      0.098   \n",
       "2               7.8              0.76         0.04             2.3      0.092   \n",
       "3              11.2              0.28         0.56             1.9      0.075   \n",
       "5               7.4              0.66         0.00             1.8      0.075   \n",
       "...             ...               ...          ...             ...        ...   \n",
       "4893            6.2              0.21         0.29             1.6      0.039   \n",
       "4894            6.6              0.32         0.36             8.0      0.047   \n",
       "4895            6.5              0.24         0.19             1.2      0.041   \n",
       "4896            5.5              0.29         0.30             1.1      0.022   \n",
       "4897            6.0              0.21         0.38             0.8      0.020   \n",
       "\n",
       "      free sulfur dioxide  total sulfur dioxide  density    pH  sulphates  \\\n",
       "0                    11.0                  34.0  0.99780  3.51       0.56   \n",
       "1                    25.0                  67.0  0.99680  3.20       0.68   \n",
       "2                    15.0                  54.0  0.99700  3.26       0.65   \n",
       "3                    17.0                  60.0  0.99800  3.16       0.58   \n",
       "5                    13.0                  40.0  0.99780  3.51       0.56   \n",
       "...                   ...                   ...      ...   ...        ...   \n",
       "4893                 24.0                  92.0  0.99114  3.27       0.50   \n",
       "4894                 57.0                 168.0  0.99490  3.15       0.46   \n",
       "4895                 30.0                 111.0  0.99254  2.99       0.46   \n",
       "4896                 20.0                 110.0  0.98869  3.34       0.38   \n",
       "4897                 22.0                  98.0  0.98941  3.26       0.32   \n",
       "\n",
       "      alcohol  quality  target  \n",
       "0         9.4        5       0  \n",
       "1         9.8        5       0  \n",
       "2         9.8        5       0  \n",
       "3         9.8        6       0  \n",
       "5         9.4        5       0  \n",
       "...       ...      ...     ...  \n",
       "4893     11.2        6       1  \n",
       "4894      9.6        5       1  \n",
       "4895      9.4        6       1  \n",
       "4896     12.8        7       1  \n",
       "4897     11.8        6       1  \n",
       "\n",
       "[4810 rows x 13 columns]"
      ]
     },
     "execution_count": 25,
     "metadata": {},
     "output_type": "execute_result"
    }
   ],
   "source": [
    "# guardamos los datos limpios usando la libreria Pickle y verificamos que se han guardado bien subiéndolos de nuevo\n",
    "\n",
    "with open('data/winequality/df_cleaned.pkl', 'wb') as f:\n",
    "    pickle.dump(df_cleaned, f)\n",
    "\n",
    "with open('data/winequality/df_cleaned.pkl', 'rb') as f:\n",
    "    df = pickle.load(f)\n",
    "\n",
    "df"
   ]
  },
  {
   "cell_type": "markdown",
   "metadata": {},
   "source": [
    "### Datos de entrenamiento y de testeo"
   ]
  },
  {
   "cell_type": "code",
   "execution_count": 26,
   "metadata": {},
   "outputs": [
    {
     "name": "stdout",
     "output_type": "stream",
     "text": [
      "class 0:  (1208, 13)\n",
      "class 1:  (3602, 13)\n"
     ]
    }
   ],
   "source": [
    "# Comprobamos el desbalanceo de nuestros datos antes de seguir:\n",
    "# Primero contamos el número de registros para cada clase con .value_counts(),\n",
    "# Y luego separamos las clases\n",
    "\n",
    "class_0, class_1 = df['target'].value_counts()\n",
    "\n",
    "class_0 = df[df['target'] == 0]\n",
    "class_1 = df[df['target'] == 1]\n",
    "\n",
    "print('class 0: ', class_0.shape)\n",
    "print('class 1: ', class_1.shape)"
   ]
  },
  {
   "cell_type": "code",
   "execution_count": 27,
   "metadata": {},
   "outputs": [],
   "source": [
    "# extraemos nuestra variable objetivo de las variables predictoras\n",
    "\n",
    "y = df.pop('target')"
   ]
  },
  {
   "cell_type": "code",
   "execution_count": 28,
   "metadata": {},
   "outputs": [],
   "source": [
    "# Dividimos los datos en entrenamiento y testeo, estableciendo un 25% para test y un 75% para train\n",
    "# Usamos la función train_test_split de scikit learn\n",
    "\n",
    "X_train, X_test, y_train, y_test = train_test_split (df, y, test_size = 0.25)\n"
   ]
  },
  {
   "cell_type": "code",
   "execution_count": 29,
   "metadata": {},
   "outputs": [
    {
     "name": "stdout",
     "output_type": "stream",
     "text": [
      "Antes de balancear:  Counter({1: 2715, 0: 892})\n"
     ]
    }
   ],
   "source": [
    "# Miramos la distribución de las clases antes de balancearlas\n",
    "\n",
    "print(\"Antes de balancear: \", Counter(y_train))"
   ]
  },
  {
   "cell_type": "markdown",
   "metadata": {},
   "source": [
    "#### Primer test: sin normalizar y con Random UnderSample"
   ]
  },
  {
   "cell_type": "code",
   "execution_count": 30,
   "metadata": {},
   "outputs": [],
   "source": [
    "# definimos una primera estrategia de balanceo: undersample de la clase mayoritaria\n",
    "# vamos a usar la función RandomUnderSample del paquete imblearn (imbalanced-learn)\n",
    "\n",
    "undersample = RandomUnderSampler(sampling_strategy = 'majority')"
   ]
  },
  {
   "cell_type": "code",
   "execution_count": 31,
   "metadata": {},
   "outputs": [],
   "source": [
    "# Aplicamos la transformación a nuestros dos grupos de datos:\n",
    "\n",
    "X_train_under, y_train_under = undersample.fit_resample(X_train, y_train)"
   ]
  },
  {
   "cell_type": "code",
   "execution_count": 32,
   "metadata": {},
   "outputs": [
    {
     "name": "stdout",
     "output_type": "stream",
     "text": [
      "Antes de balancear:  Counter({1: 2715, 0: 892})\n",
      "Después de balancear:  Counter({0: 892, 1: 892})\n"
     ]
    }
   ],
   "source": [
    "# Miramos de nuevo la distribución de clases:\n",
    "# Comprobamos que tenemos mismos registros de ambas clases\n",
    "\n",
    "print(\"Antes de balancear: \", Counter(y_train))\n",
    "print ('Después de balancear: ', Counter(y_train_under))"
   ]
  },
  {
   "cell_type": "code",
   "execution_count": 33,
   "metadata": {},
   "outputs": [
    {
     "data": {
      "text/plain": [
       "LogisticRegression(max_iter=1000)"
      ]
     },
     "execution_count": 33,
     "metadata": {},
     "output_type": "execute_result"
    }
   ],
   "source": [
    "# Aplicamos el modelo de regresión logística.\n",
    "# Primero vamos a aplicarla sin normalizar los datos\n",
    "\n",
    "lr_under = LogisticRegression(max_iter = 1000)\n",
    "lr_under.fit(X_train_under, y_train_under)"
   ]
  },
  {
   "cell_type": "code",
   "execution_count": 34,
   "metadata": {},
   "outputs": [
    {
     "data": {
      "text/plain": [
       "0.984304932735426"
      ]
     },
     "execution_count": 34,
     "metadata": {},
     "output_type": "execute_result"
    }
   ],
   "source": [
    "lr_under.score(X_train_under, y_train_under)"
   ]
  },
  {
   "cell_type": "code",
   "execution_count": 35,
   "metadata": {},
   "outputs": [
    {
     "data": {
      "text/plain": [
       "array([1, 1, 1, ..., 1, 1, 0])"
      ]
     },
     "execution_count": 35,
     "metadata": {},
     "output_type": "execute_result"
    }
   ],
   "source": [
    "# Evaluación del modelo: lo aplicamos a X test\n",
    "\n",
    "predictions_under = lr_under.predict(X_test)\n",
    "predictions_under"
   ]
  },
  {
   "cell_type": "code",
   "execution_count": 36,
   "metadata": {},
   "outputs": [
    {
     "data": {
      "text/plain": [
       "array([[2.66657539e-03, 9.97333425e-01],\n",
       "       [1.39094241e-01, 8.60905759e-01],\n",
       "       [7.91513771e-04, 9.99208486e-01],\n",
       "       ...,\n",
       "       [1.86936388e-02, 9.81306361e-01],\n",
       "       [1.16913520e-02, 9.88308648e-01],\n",
       "       [9.47221700e-01, 5.27783001e-02]])"
      ]
     },
     "execution_count": 36,
     "metadata": {},
     "output_type": "execute_result"
    }
   ],
   "source": [
    "# Extraemos las probabilidad que predice el modelo a partir de las cuales clasifica. \n",
    "\n",
    "probability_under = lr_under.predict_proba(X_test)\n",
    "probability_under"
   ]
  },
  {
   "cell_type": "code",
   "execution_count": 37,
   "metadata": {},
   "outputs": [
    {
     "name": "stdout",
     "output_type": "stream",
     "text": [
      "ROC-AUC:  0.9841968375836628\n",
      "AUC:  0.9842061512884456\n",
      "Precision:  0.9943052391799544\n",
      "Recall:  0.9842164599774521\n",
      "F-1 Score:  0.9892351274787535\n"
     ]
    }
   ],
   "source": [
    "# Obtenemos el ROC, AUC y la Matríz de Confusión\n",
    "\n",
    "print('ROC-AUC: ', metrics.roc_auc_score(y_test, predictions_under))\n",
    "print('AUC: ', metrics.accuracy_score(y_test, predictions_under))\n",
    "print('Precision: ', metrics.precision_score(y_test, predictions_under))\n",
    "print('Recall: ', metrics.recall_score(y_test, predictions_under))\n",
    "print('F-1 Score: ', metrics.f1_score(y_test, predictions_under))"
   ]
  },
  {
   "cell_type": "code",
   "execution_count": 38,
   "metadata": {},
   "outputs": [
    {
     "name": "stdout",
     "output_type": "stream",
     "text": [
      "\u001b[1mConfusion Matrix for Logistic Regression \u001b[0m \n",
      "\n"
     ]
    },
    {
     "name": "stderr",
     "output_type": "stream",
     "text": [
      "/home/m315/anaconda3/lib/python3.9/site-packages/sklearn/utils/deprecation.py:87: FutureWarning: Function plot_confusion_matrix is deprecated; Function `plot_confusion_matrix` is deprecated in 1.0 and will be removed in 1.2. Use one of the class methods: ConfusionMatrixDisplay.from_predictions or ConfusionMatrixDisplay.from_estimator.\n",
      "  warnings.warn(msg, category=FutureWarning)\n"
     ]
    },
    {
     "data": {
      "text/plain": [
       "<sklearn.metrics._plot.confusion_matrix.ConfusionMatrixDisplay at 0x7f65cd9c59d0>"
      ]
     },
     "execution_count": 38,
     "metadata": {},
     "output_type": "execute_result"
    },
    {
     "data": {
      "image/png": "[encoded data removed]",
      "text/plain": [
       "<Figure size 432x288 with 2 Axes>"
      ]
     },
     "metadata": {
      "needs_background": "light"
     },
     "output_type": "display_data"
    }
   ],
   "source": [
    "# \"Pintamos\" la matriz de confusión\n",
    "\n",
    "print('\\033[1m' + 'Confusion Matrix for Logistic Regression','\\033[0m', '\\n')\n",
    "metrics.plot_confusion_matrix(lr_under, X_test, y_test)"
   ]
  },
  {
   "cell_type": "markdown",
   "metadata": {},
   "source": [
    "#### Segundo test: sin normalizar y con SMOTE\n",
    "\n",
    "Probamos el modelo añadiendo datos artificiales de la clase minoritaria, utilizando el algoritmo SMOTE."
   ]
  },
  {
   "cell_type": "code",
   "execution_count": 39,
   "metadata": {},
   "outputs": [
    {
     "name": "stdout",
     "output_type": "stream",
     "text": [
      "Antes de balancear:  Counter({1: 2715, 0: 892})\n",
      "Después de balancear:  Counter({0: 2715, 1: 2715})\n"
     ]
    }
   ],
   "source": [
    "# A partir del mismo split realizado anteriormente,\n",
    "# Primero definimos el método de balanceado (SMOTE)\n",
    "# luego lo aplicamos a los datos splitados, y vemos cómo queda la distribución de clases antes y después\n",
    "# Vemos que hemos \"creado\" unos 1.600 registros artificiales de la clase minoritaria\n",
    "\n",
    "SMOTE = SMOTE()\n",
    "\n",
    "X_train_smote, y_train_smote = SMOTE.fit_resample(X_train, y_train)\n",
    "\n",
    "print('Antes de balancear: ', Counter(y_train))\n",
    "print('Después de balancear: ', Counter(y_train_smote))"
   ]
  },
  {
   "cell_type": "code",
   "execution_count": 58,
   "metadata": {},
   "outputs": [
    {
     "name": "stderr",
     "output_type": "stream",
     "text": [
      "/home/m315/anaconda3/lib/python3.9/site-packages/sklearn/linear_model/_logistic.py:814: ConvergenceWarning: lbfgs failed to converge (status=1):\n",
      "STOP: TOTAL NO. of ITERATIONS REACHED LIMIT.\n",
      "\n",
      "Increase the number of iterations (max_iter) or scale the data as shown in:\n",
      "    https://scikit-learn.org/stable/modules/preprocessing.html\n",
      "Please also refer to the documentation for alternative solver options:\n",
      "    https://scikit-learn.org/stable/modules/linear_model.html#logistic-regression\n",
      "  n_iter_i = _check_optimize_result(\n"
     ]
    },
    {
     "data": {
      "text/plain": [
       "0.9913443830570903"
      ]
     },
     "execution_count": 58,
     "metadata": {},
     "output_type": "execute_result"
    }
   ],
   "source": [
    "# Aplicamos el modelo de regresión logística\n",
    "\n",
    "lr_smote = LogisticRegression(max_iter = 1000)\n",
    "lr_smote.fit(X_train_smote, y_train_smote)\n",
    "lr_smote.score(X_train_smote, y_train_smote)"
   ]
  },
  {
   "cell_type": "code",
   "execution_count": 41,
   "metadata": {},
   "outputs": [
    {
     "data": {
      "text/plain": [
       "array([[8.80188480e-04, 9.99119812e-01],\n",
       "       [8.35728829e-02, 9.16427117e-01],\n",
       "       [1.38899552e-04, 9.99861100e-01],\n",
       "       ...,\n",
       "       [1.06980614e-02, 9.89301939e-01],\n",
       "       [2.38975253e-03, 9.97610247e-01],\n",
       "       [9.16906135e-01, 8.30938651e-02]])"
      ]
     },
     "execution_count": 41,
     "metadata": {},
     "output_type": "execute_result"
    }
   ],
   "source": [
    "# Evaluación del modelo: lo aplicamos a X test\n",
    "# y extraemos las probabilidades que predice el modelo a partir de las cuales clasifica\n",
    "\n",
    "predictions_smote = lr_smote.predict(X_test)\n",
    "probability_smote = lr_smote.predict_proba(X_test)\n",
    "probability_smote"
   ]
  },
  {
   "cell_type": "code",
   "execution_count": 42,
   "metadata": {},
   "outputs": [
    {
     "name": "stdout",
     "output_type": "stream",
     "text": [
      "ROC-AUC smote:  0.9859967462503391 / ROC-AUC undersampling:  0.9859967462503391\n",
      "AUC smote:  0.9883624272651704 / AUC undersmapling:  0.9883624272651704\n",
      "Precision smote:  0.9932203389830508 / Precision undersampling:  0.9932203389830508\n",
      "Recall smote:  0.9909808342728298 / Recall undersampling:  0.9909808342728298\n",
      "F-1 Score smote:  0.9920993227990971 / F-1 Score:  0.9920993227990971\n"
     ]
    }
   ],
   "source": [
    "# Vemos el rendimiento del modelo. \n",
    "# Comparado a la versión con undersampling, obtenemos un rendimiento muy similar\n",
    "\n",
    "print('ROC-AUC smote: ', metrics.roc_auc_score(y_test, predictions_smote), '/', 'ROC-AUC undersampling: ', metrics.roc_auc_score(y_test, predictions_smote))\n",
    "print('AUC smote: ', metrics.accuracy_score(y_test, predictions_smote), '/', 'AUC undersmapling: ', metrics.accuracy_score(y_test, predictions_smote))\n",
    "print('Precision smote: ', metrics.precision_score(y_test, predictions_smote), '/', 'Precision undersampling: ', metrics.precision_score(y_test, predictions_smote))\n",
    "print('Recall smote: ', metrics.recall_score(y_test, predictions_smote), '/', 'Recall undersampling: ', metrics.recall_score(y_test, predictions_smote))\n",
    "print('F-1 Score smote: ', metrics.f1_score(y_test, predictions_smote), '/', 'F-1 Score: ', metrics.f1_score(y_test, predictions_smote))"
   ]
  },
  {
   "cell_type": "code",
   "execution_count": 43,
   "metadata": {},
   "outputs": [
    {
     "name": "stdout",
     "output_type": "stream",
     "text": [
      "\u001b[1mConfusion Matrix for Logistic Regression \u001b[0m \n",
      "\n"
     ]
    },
    {
     "name": "stderr",
     "output_type": "stream",
     "text": [
      "/home/m315/anaconda3/lib/python3.9/site-packages/sklearn/utils/deprecation.py:87: FutureWarning: Function plot_confusion_matrix is deprecated; Function `plot_confusion_matrix` is deprecated in 1.0 and will be removed in 1.2. Use one of the class methods: ConfusionMatrixDisplay.from_predictions or ConfusionMatrixDisplay.from_estimator.\n",
      "  warnings.warn(msg, category=FutureWarning)\n"
     ]
    },
    {
     "data": {
      "text/plain": [
       "<sklearn.metrics._plot.confusion_matrix.ConfusionMatrixDisplay at 0x7f657f36afa0>"
      ]
     },
     "execution_count": 43,
     "metadata": {},
     "output_type": "execute_result"
    },
    {
     "data": {
      "image/png": "[encoded data removed]",
      "text/plain": [
       "<Figure size 432x288 with 2 Axes>"
      ]
     },
     "metadata": {
      "needs_background": "light"
     },
     "output_type": "display_data"
    }
   ],
   "source": [
    "print('\\033[1m' + 'Confusion Matrix for Logistic Regression','\\033[0m', '\\n')\n",
    "metrics.plot_confusion_matrix(lr_smote, X_test, y_test)"
   ]
  },
  {
   "cell_type": "markdown",
   "metadata": {},
   "source": [
    "#### Tercer test: con normalización y undersampling\n",
    "\n",
    "Vamos a probar ambos procedimientos, normalizando los datos previamente. "
   ]
  },
  {
   "cell_type": "code",
   "execution_count": 44,
   "metadata": {},
   "outputs": [
    {
     "data": {
      "text/html": [
       "<div>\n",
       "<style scoped>\n",
       "    .dataframe tbody tr th:only-of-type {\n",
       "        vertical-align: middle;\n",
       "    }\n",
       "\n",
       "    .dataframe tbody tr th {\n",
       "        vertical-align: top;\n",
       "    }\n",
       "\n",
       "    .dataframe thead th {\n",
       "        text-align: right;\n",
       "    }\n",
       "</style>\n",
       "<table border=\"1\" class=\"dataframe\">\n",
       "  <thead>\n",
       "    <tr style=\"text-align: right;\">\n",
       "      <th></th>\n",
       "      <th>fixed acidity</th>\n",
       "      <th>volatile acidity</th>\n",
       "      <th>citric acid</th>\n",
       "      <th>residual sugar</th>\n",
       "      <th>chlorides</th>\n",
       "      <th>free sulfur dioxide</th>\n",
       "      <th>total sulfur dioxide</th>\n",
       "      <th>density</th>\n",
       "      <th>pH</th>\n",
       "      <th>sulphates</th>\n",
       "      <th>alcohol</th>\n",
       "      <th>quality</th>\n",
       "    </tr>\n",
       "  </thead>\n",
       "  <tbody>\n",
       "    <tr>\n",
       "      <th>0</th>\n",
       "      <td>0.573200</td>\n",
       "      <td>-0.986784</td>\n",
       "      <td>0.689005</td>\n",
       "      <td>-0.738781</td>\n",
       "      <td>0.410076</td>\n",
       "      <td>-1.373232</td>\n",
       "      <td>-1.670208</td>\n",
       "      <td>-0.114120</td>\n",
       "      <td>0.363221</td>\n",
       "      <td>1.370640</td>\n",
       "      <td>0.450867</td>\n",
       "      <td>-0.992001</td>\n",
       "    </tr>\n",
       "    <tr>\n",
       "      <th>1</th>\n",
       "      <td>-0.874681</td>\n",
       "      <td>-0.733685</td>\n",
       "      <td>1.378988</td>\n",
       "      <td>-0.808160</td>\n",
       "      <td>-0.070307</td>\n",
       "      <td>-0.698849</td>\n",
       "      <td>-0.467386</td>\n",
       "      <td>-0.565961</td>\n",
       "      <td>0.495907</td>\n",
       "      <td>-0.495217</td>\n",
       "      <td>-0.832562</td>\n",
       "      <td>-0.992001</td>\n",
       "    </tr>\n",
       "    <tr>\n",
       "      <th>2</th>\n",
       "      <td>0.894952</td>\n",
       "      <td>-0.860235</td>\n",
       "      <td>0.305681</td>\n",
       "      <td>-0.946919</td>\n",
       "      <td>-0.113979</td>\n",
       "      <td>-1.066694</td>\n",
       "      <td>-0.700769</td>\n",
       "      <td>-0.844018</td>\n",
       "      <td>-0.631921</td>\n",
       "      <td>-1.117169</td>\n",
       "      <td>-0.062504</td>\n",
       "      <td>0.192816</td>\n",
       "    </tr>\n",
       "    <tr>\n",
       "      <th>3</th>\n",
       "      <td>-0.633367</td>\n",
       "      <td>0.341985</td>\n",
       "      <td>-0.767626</td>\n",
       "      <td>-0.877539</td>\n",
       "      <td>-0.507020</td>\n",
       "      <td>0.343378</td>\n",
       "      <td>0.412289</td>\n",
       "      <td>-0.757125</td>\n",
       "      <td>-0.499236</td>\n",
       "      <td>-0.495217</td>\n",
       "      <td>-0.319190</td>\n",
       "      <td>-0.992001</td>\n",
       "    </tr>\n",
       "    <tr>\n",
       "      <th>4</th>\n",
       "      <td>0.331887</td>\n",
       "      <td>-0.164213</td>\n",
       "      <td>1.378988</td>\n",
       "      <td>1.943889</td>\n",
       "      <td>0.410076</td>\n",
       "      <td>1.262991</td>\n",
       "      <td>1.399680</td>\n",
       "      <td>1.554218</td>\n",
       "      <td>-0.034836</td>\n",
       "      <td>0.048991</td>\n",
       "      <td>-1.345933</td>\n",
       "      <td>-2.176817</td>\n",
       "    </tr>\n",
       "    <tr>\n",
       "      <th>...</th>\n",
       "      <td>...</td>\n",
       "      <td>...</td>\n",
       "      <td>...</td>\n",
       "      <td>...</td>\n",
       "      <td>...</td>\n",
       "      <td>...</td>\n",
       "      <td>...</td>\n",
       "      <td>...</td>\n",
       "      <td>...</td>\n",
       "      <td>...</td>\n",
       "      <td>...</td>\n",
       "      <td>...</td>\n",
       "    </tr>\n",
       "    <tr>\n",
       "      <th>3602</th>\n",
       "      <td>-2.000810</td>\n",
       "      <td>-0.006026</td>\n",
       "      <td>-1.304279</td>\n",
       "      <td>-0.854413</td>\n",
       "      <td>-0.725377</td>\n",
       "      <td>2.427833</td>\n",
       "      <td>0.986771</td>\n",
       "      <td>-0.802309</td>\n",
       "      <td>1.623735</td>\n",
       "      <td>-0.495217</td>\n",
       "      <td>-0.062504</td>\n",
       "      <td>-0.992001</td>\n",
       "    </tr>\n",
       "    <tr>\n",
       "      <th>3603</th>\n",
       "      <td>0.010136</td>\n",
       "      <td>-0.986784</td>\n",
       "      <td>-0.000978</td>\n",
       "      <td>-0.900666</td>\n",
       "      <td>-0.332335</td>\n",
       "      <td>-0.576234</td>\n",
       "      <td>-0.718722</td>\n",
       "      <td>-0.670233</td>\n",
       "      <td>0.628592</td>\n",
       "      <td>-0.961681</td>\n",
       "      <td>0.194182</td>\n",
       "      <td>1.377633</td>\n",
       "    </tr>\n",
       "    <tr>\n",
       "      <th>3604</th>\n",
       "      <td>0.010136</td>\n",
       "      <td>2.050403</td>\n",
       "      <td>-2.147592</td>\n",
       "      <td>-0.623148</td>\n",
       "      <td>1.108817</td>\n",
       "      <td>-0.821464</td>\n",
       "      <td>-0.485339</td>\n",
       "      <td>1.043289</td>\n",
       "      <td>2.021792</td>\n",
       "      <td>0.359968</td>\n",
       "      <td>-0.747000</td>\n",
       "      <td>-0.992001</td>\n",
       "    </tr>\n",
       "    <tr>\n",
       "      <th>3605</th>\n",
       "      <td>-1.035556</td>\n",
       "      <td>-0.986784</td>\n",
       "      <td>-0.230972</td>\n",
       "      <td>-0.923792</td>\n",
       "      <td>-0.681705</td>\n",
       "      <td>-0.331004</td>\n",
       "      <td>-0.449434</td>\n",
       "      <td>-1.212442</td>\n",
       "      <td>0.429564</td>\n",
       "      <td>0.204480</td>\n",
       "      <td>0.065839</td>\n",
       "      <td>1.377633</td>\n",
       "    </tr>\n",
       "    <tr>\n",
       "      <th>3606</th>\n",
       "      <td>0.090573</td>\n",
       "      <td>-0.607136</td>\n",
       "      <td>0.765670</td>\n",
       "      <td>1.990142</td>\n",
       "      <td>-0.113979</td>\n",
       "      <td>0.711223</td>\n",
       "      <td>1.166297</td>\n",
       "      <td>1.519461</td>\n",
       "      <td>0.960306</td>\n",
       "      <td>-0.728449</td>\n",
       "      <td>-0.747000</td>\n",
       "      <td>-0.992001</td>\n",
       "    </tr>\n",
       "  </tbody>\n",
       "</table>\n",
       "<p>3607 rows × 12 columns</p>\n",
       "</div>"
      ],
      "text/plain": [
       "      fixed acidity  volatile acidity  citric acid  residual sugar  chlorides  \\\n",
       "0          0.573200         -0.986784     0.689005       -0.738781   0.410076   \n",
       "1         -0.874681         -0.733685     1.378988       -0.808160  -0.070307   \n",
       "2          0.894952         -0.860235     0.305681       -0.946919  -0.113979   \n",
       "3         -0.633367          0.341985    -0.767626       -0.877539  -0.507020   \n",
       "4          0.331887         -0.164213     1.378988        1.943889   0.410076   \n",
       "...             ...               ...          ...             ...        ...   \n",
       "3602      -2.000810         -0.006026    -1.304279       -0.854413  -0.725377   \n",
       "3603       0.010136         -0.986784    -0.000978       -0.900666  -0.332335   \n",
       "3604       0.010136          2.050403    -2.147592       -0.623148   1.108817   \n",
       "3605      -1.035556         -0.986784    -0.230972       -0.923792  -0.681705   \n",
       "3606       0.090573         -0.607136     0.765670        1.990142  -0.113979   \n",
       "\n",
       "      free sulfur dioxide  total sulfur dioxide   density        pH  \\\n",
       "0               -1.373232             -1.670208 -0.114120  0.363221   \n",
       "1               -0.698849             -0.467386 -0.565961  0.495907   \n",
       "2               -1.066694             -0.700769 -0.844018 -0.631921   \n",
       "3                0.343378              0.412289 -0.757125 -0.499236   \n",
       "4                1.262991              1.399680  1.554218 -0.034836   \n",
       "...                   ...                   ...       ...       ...   \n",
       "3602             2.427833              0.986771 -0.802309  1.623735   \n",
       "3603            -0.576234             -0.718722 -0.670233  0.628592   \n",
       "3604            -0.821464             -0.485339  1.043289  2.021792   \n",
       "3605            -0.331004             -0.449434 -1.212442  0.429564   \n",
       "3606             0.711223              1.166297  1.519461  0.960306   \n",
       "\n",
       "      sulphates   alcohol   quality  \n",
       "0      1.370640  0.450867 -0.992001  \n",
       "1     -0.495217 -0.832562 -0.992001  \n",
       "2     -1.117169 -0.062504  0.192816  \n",
       "3     -0.495217 -0.319190 -0.992001  \n",
       "4      0.048991 -1.345933 -2.176817  \n",
       "...         ...       ...       ...  \n",
       "3602  -0.495217 -0.062504 -0.992001  \n",
       "3603  -0.961681  0.194182  1.377633  \n",
       "3604   0.359968 -0.747000 -0.992001  \n",
       "3605   0.204480  0.065839  1.377633  \n",
       "3606  -0.728449 -0.747000 -0.992001  \n",
       "\n",
       "[3607 rows x 12 columns]"
      ]
     },
     "execution_count": 44,
     "metadata": {},
     "output_type": "execute_result"
    }
   ],
   "source": [
    "# Normalizamos con el módulo StandardScaler de Scikit Learn, y luego aplicamos el undersampling\n",
    "# Para mantener esta versión de los datos separa de la anterior, la atribuimos a un nuevo dataframe\n",
    "# y lo visualizamos\n",
    "\n",
    "modelo_normalizacion = StandardScaler().fit(X_train)\n",
    "features = modelo_normalizacion.transform(X_train)\n",
    "df_normalized = pd.DataFrame(features, columns = df.columns)\n",
    "df_normalized"
   ]
  },
  {
   "cell_type": "code",
   "execution_count": 45,
   "metadata": {},
   "outputs": [
    {
     "data": {
      "text/plain": [
       "0.9854260089686099"
      ]
     },
     "execution_count": 45,
     "metadata": {},
     "output_type": "execute_result"
    }
   ],
   "source": [
    "# Balanceamos los datos con undersampling y aplicamos el modelo\n",
    "\n",
    "X_train_under_norma, y_train_under_norma = undersample.fit_resample(X_train, y_train)\n",
    "lr_normalized = LogisticRegression(max_iter = 1000)\n",
    "lr_normalized.fit(X_train_under_norma, y_train_under_norma)\n",
    "lr_normalized.score(X_train_under, y_train_under)"
   ]
  },
  {
   "cell_type": "code",
   "execution_count": 46,
   "metadata": {},
   "outputs": [
    {
     "data": {
      "text/plain": [
       "array([[4.10175652e-03, 9.95898243e-01],\n",
       "       [1.44092676e-01, 8.55907324e-01],\n",
       "       [6.12631621e-04, 9.99387368e-01],\n",
       "       ...,\n",
       "       [3.23092103e-02, 9.67690790e-01],\n",
       "       [6.99108206e-03, 9.93008918e-01],\n",
       "       [9.31124061e-01, 6.88759391e-02]])"
      ]
     },
     "execution_count": 46,
     "metadata": {},
     "output_type": "execute_result"
    }
   ],
   "source": [
    "# Evaluación del modelo: lo aplicamos a X test\n",
    "# y extraemos las probabilidades que predice el modelo a partir de las cuales clasifica\n",
    "\n",
    "predictions_under_norma = lr_normalized.predict(X_test)\n",
    "probability_under_norma = lr_normalized.predict_proba(X_test)\n",
    "probability_under_norma"
   ]
  },
  {
   "cell_type": "code",
   "execution_count": 47,
   "metadata": {},
   "outputs": [
    {
     "name": "stdout",
     "output_type": "stream",
     "text": [
      "ROC-AUC under normalized:  0.9864516290154552\n",
      "AUC under normalized:  0.9875311720698254\n",
      "Precision under normalized:  0.9943310657596371\n",
      "Recall under normalized:  0.9887260428410372\n",
      "F-1 Score under normalized:  0.9915206331260599\n"
     ]
    }
   ],
   "source": [
    "# Vemos las métricas del modelo.\n",
    "# Seguimos con rendimientos muy similares \n",
    "\n",
    "print('ROC-AUC under normalized: ', metrics.roc_auc_score(y_test, predictions_under_norma))\n",
    "print('AUC under normalized: ', metrics.accuracy_score(y_test, predictions_under_norma))\n",
    "print('Precision under normalized: ', metrics.precision_score(y_test, predictions_under_norma))\n",
    "print('Recall under normalized: ', metrics.recall_score(y_test, predictions_under_norma))\n",
    "print('F-1 Score under normalized: ', metrics.f1_score(y_test, predictions_under_norma))"
   ]
  },
  {
   "cell_type": "code",
   "execution_count": 48,
   "metadata": {},
   "outputs": [
    {
     "name": "stdout",
     "output_type": "stream",
     "text": [
      "\u001b[1mConfusion Matrix for Logistic Regression \u001b[0m \n",
      "\n"
     ]
    },
    {
     "name": "stderr",
     "output_type": "stream",
     "text": [
      "/home/m315/anaconda3/lib/python3.9/site-packages/sklearn/utils/deprecation.py:87: FutureWarning: Function plot_confusion_matrix is deprecated; Function `plot_confusion_matrix` is deprecated in 1.0 and will be removed in 1.2. Use one of the class methods: ConfusionMatrixDisplay.from_predictions or ConfusionMatrixDisplay.from_estimator.\n",
      "  warnings.warn(msg, category=FutureWarning)\n"
     ]
    },
    {
     "data": {
      "text/plain": [
       "<sklearn.metrics._plot.confusion_matrix.ConfusionMatrixDisplay at 0x7f657f6f2160>"
      ]
     },
     "execution_count": 48,
     "metadata": {},
     "output_type": "execute_result"
    },
    {
     "data": {
      "image/png": "[encoded data removed]",
      "text/plain": [
       "<Figure size 432x288 with 2 Axes>"
      ]
     },
     "metadata": {
      "needs_background": "light"
     },
     "output_type": "display_data"
    }
   ],
   "source": [
    "print('\\033[1m' + 'Confusion Matrix for Logistic Regression','\\033[0m', '\\n')\n",
    "metrics.plot_confusion_matrix(lr_normalized, X_test, y_test)"
   ]
  },
  {
   "cell_type": "markdown",
   "metadata": {},
   "source": [
    "## Otros modelos"
   ]
  },
  {
   "cell_type": "markdown",
   "metadata": {},
   "source": [
    "### KNN"
   ]
  },
  {
   "cell_type": "code",
   "execution_count": 49,
   "metadata": {},
   "outputs": [
    {
     "data": {
      "text/plain": [
       "KNeighborsClassifier(n_neighbors=10)"
      ]
     },
     "execution_count": 49,
     "metadata": {},
     "output_type": "execute_result"
    }
   ],
   "source": [
    "# Generamos el modelo knn fijando k\n",
    "\n",
    "knn = KNeighborsClassifier(n_neighbors = 10)\n",
    "knn.fit(X_train, y_train)"
   ]
  },
  {
   "cell_type": "code",
   "execution_count": 50,
   "metadata": {},
   "outputs": [
    {
     "data": {
      "text/plain": [
       "array([[0., 1.],\n",
       "       [0., 1.],\n",
       "       [0., 1.],\n",
       "       ...,\n",
       "       [0., 1.],\n",
       "       [0., 1.],\n",
       "       [1., 0.]])"
      ]
     },
     "execution_count": 50,
     "metadata": {},
     "output_type": "execute_result"
    }
   ],
   "source": [
    "# Evaluación del modelo: lo aplicamos a X test\n",
    "# y extraemos las probabilidades que predice el modelo a partir de las cuales clasifica\n",
    "\n",
    "predictions_knn = knn.predict(X_test)\n",
    "probability_knn = knn.predict_proba(X_test)\n",
    "probability_knn"
   ]
  },
  {
   "cell_type": "code",
   "execution_count": 51,
   "metadata": {},
   "outputs": [
    {
     "name": "stdout",
     "output_type": "stream",
     "text": [
      "ROC-AUC under normalized:  0.9308542519943487\n",
      "AUC under normalized:  0.9551122194513716\n",
      "Precision under normalized:  0.9581958195819582\n",
      "Recall under normalized:  0.9819616685456595\n",
      "F-1 Score under normalized:  0.9699331848552338\n"
     ]
    }
   ],
   "source": [
    "print('ROC-AUC under normalized: ', metrics.roc_auc_score(y_test, predictions_knn))\n",
    "print('AUC under normalized: ', metrics.accuracy_score(y_test, predictions_knn))\n",
    "print('Precision under normalized: ', metrics.precision_score(y_test, predictions_knn))\n",
    "print('Recall under normalized: ', metrics.recall_score(y_test, predictions_knn))\n",
    "print('F-1 Score under normalized: ', metrics.f1_score(y_test, predictions_knn))"
   ]
  },
  {
   "cell_type": "markdown",
   "metadata": {},
   "source": [
    "Con el modelo knn obtenemos peores resultados que con la regresion logistica, aunque siguen siendo buenos."
   ]
  },
  {
   "cell_type": "markdown",
   "metadata": {},
   "source": [
    "### Decision Tree"
   ]
  },
  {
   "cell_type": "code",
   "execution_count": 52,
   "metadata": {},
   "outputs": [],
   "source": [
    "# Generamos el modelo de Decision Tree\n",
    "\n",
    "dt = DecisionTreeClassifier(max_leaf_nodes=4)"
   ]
  },
  {
   "cell_type": "code",
   "execution_count": 53,
   "metadata": {},
   "outputs": [
    {
     "data": {
      "text/plain": [
       "array([0.97505198, 0.96257796, 0.97089397, 0.98128898, 0.98128898,\n",
       "       0.97297297, 0.97920998, 0.96673597, 0.96673597, 0.96465696])"
      ]
     },
     "execution_count": 53,
     "metadata": {},
     "output_type": "execute_result"
    }
   ],
   "source": [
    "# Aplicamos cross validation para evaluar el modelo\n",
    "\n",
    "cross_val_score(dt, df, y, cv=10)"
   ]
  },
  {
   "cell_type": "code",
   "execution_count": 54,
   "metadata": {},
   "outputs": [
    {
     "data": {
      "image/png": "[encoded data removed]",
      "text/plain": [
       "<Figure size 432x288 with 1 Axes>"
      ]
     },
     "metadata": {
      "needs_background": "light"
     },
     "output_type": "display_data"
    },
    {
     "name": "stdout",
     "output_type": "stream",
     "text": [
      "X[4] =  chlorides \t X[6] =  total sulfur dioxide\n"
     ]
    }
   ],
   "source": [
    "dt.fit(X_train, y_train)\n",
    "tree.plot_tree(dt)\n",
    "plt.show()\n",
    "print('X[4] = ', X_train.columns[4], '\\t X[6] = ', X_train.columns[6])"
   ]
  },
  {
   "cell_type": "code",
   "execution_count": 55,
   "metadata": {},
   "outputs": [
    {
     "data": {
      "text/plain": [
       "array([[0.00923432, 0.99076568],\n",
       "       [0.00923432, 0.99076568],\n",
       "       [0.00923432, 0.99076568],\n",
       "       ...,\n",
       "       [0.00923432, 0.99076568],\n",
       "       [0.00923432, 0.99076568],\n",
       "       [0.80821918, 0.19178082]])"
      ]
     },
     "execution_count": 55,
     "metadata": {},
     "output_type": "execute_result"
    }
   ],
   "source": [
    "# Evaluación del modelo: lo aplicamos a X test\n",
    "# y extraemos las probabilidades que predice el modelo a partir de las cuales clasifica\n",
    "\n",
    "predictions_dt = dt.predict(X_test)\n",
    "probability_st = dt.predict_proba(X_test)\n",
    "probability_st"
   ]
  },
  {
   "cell_type": "code",
   "execution_count": 56,
   "metadata": {},
   "outputs": [
    {
     "name": "stdout",
     "output_type": "stream",
     "text": [
      "ROC-AUC under normalized:  0.959790147417693\n",
      "AUC under normalized:  0.969243557772236\n",
      "Precision under normalized:  0.9786036036036037\n",
      "Recall under normalized:  0.979706877113867\n",
      "F-1 Score under normalized:  0.9791549295774647\n"
     ]
    }
   ],
   "source": [
    "print('ROC-AUC under normalized: ', metrics.roc_auc_score(y_test, predictions_dt))\n",
    "print('AUC under normalized: ', metrics.accuracy_score(y_test, predictions_dt))\n",
    "print('Precision under normalized: ', metrics.precision_score(y_test, predictions_dt))\n",
    "print('Recall under normalized: ', metrics.recall_score(y_test, predictions_dt))\n",
    "print('F-1 Score under normalized: ', metrics.f1_score(y_test, predictions_dt))"
   ]
  },
  {
   "cell_type": "markdown",
   "metadata": {},
   "source": [
    "Vemos que los resultados son un poco peores que con la regresion logistica, aunque si no limitamos el numero de hojas son mejores aun.\n",
    "\n",
    "Gracias al grafico podemos ver que las dos variables más determinantes para saber si un vino es blanco o rosado son chlorides y el total sulfur dioxide. "
   ]
  },
  {
   "cell_type": "code",
   "execution_count": 57,
   "metadata": {},
   "outputs": [
    {
     "data": {
      "image/png": "[encoded data removed]",
      "text/plain": [
       "<Figure size 432x288 with 1 Axes>"
      ]
     },
     "metadata": {
      "needs_background": "light"
     },
     "output_type": "display_data"
    }
   ],
   "source": [
    "# Podemos ver cómo se distribuyen estas dos variables en función del tipo de vino\n",
    "# Usamos un diagrama de dispersión de MatPlotLib.\n",
    "# Recordar que nuestra clase negativa es el vino rosado, y la positiva el blanco.\n",
    "\n",
    "scatter = plt.scatter(x = df_cleaned['chlorides'], y = df_cleaned['total sulfur dioxide'], c = df_cleaned['target'], alpha = 0.4)\n",
    "plt.legend(*scatter.legend_elements(), loc=\"upper right\", title=\"Wine\")\n",
    "plt.xlabel(\"chlorides\")\n",
    "plt.ylabel(\"total sulfur dioxide\")\n",
    "plt.show()"
   ]
  },
  {
   "cell_type": "markdown",
   "metadata": {},
   "source": [
    "## Conclusiones\n",
    "\n",
    "* Todos los modelos han dado muy buenos resultados, siendo el mejor la regresión logística. \n",
    "* Como podemos ver en los datos de ROC, AUC, Precision, Recall y F-1 Score, obtenemos unos aciertos en la clasificación notablemente altos, tanto si usamos una muestra *oversampled* o *undersampled*. \n",
    "* Así, atendiendo a la recall y la precision de la regresión logística, estaremos acertando en aproximadamente el 98-99% de los casos. Son resultados tal vez demasiado elevados, pero hemos comprobado los datos varias veces y no parece que hayan variables contaminadores que puedan estar enturbiando el modelo. \n",
    "* Viendo los resultados del decision tree, y el hecho de que considere como más relevantes únicamente dos variables, podríamos pensar que, realmente, el vino blanco y el rosado pudieran tener diferencias notables en esas dos variables, lo que hace que los modelos obtengan muy buenos resultados en la clasificación. \n",
    "* De hecho, viendo cómo se distribuyen estas dos variables en el vino rosado y el vino blanco, en el diagrama de dispersión, vemos que éstos se diferencias claramente por sus niveles de *chlorides* y por el *total sulfure dioxide*. \n",
    "* Por tanto, podemos concluir que este es el motivo por el que obtenemos tan buenos resultados. "
   ]
  }
 ],
 "metadata": {
  "kernelspec": {
   "display_name": "Python 3 (ipykernel)",
   "language": "python",
   "name": "python3"
  },
  "language_info": {
   "codemirror_mode": {
    "name": "ipython",
    "version": 3
   },
   "file_extension": ".py",
   "mimetype": "text/x-python",
   "name": "python",
   "nbconvert_exporter": "python",
   "pygments_lexer": "ipython3",
   "version": "3.9.7"
  },
  "toc": {
   "base_numbering": 1,
   "nav_menu": {},
   "number_sections": true,
   "sideBar": true,
   "skip_h1_title": false,
   "title_cell": "Table of Contents",
   "title_sidebar": "Contents",
   "toc_cell": true,
   "toc_position": {
    "height": "calc(100% - 180px)",
    "left": "10px",
    "top": "150px",
    "width": "428.8px"
   },
   "toc_section_display": true,
   "toc_window_display": true
  },
  "varInspector": {
   "cols": {
    "lenName": 16,
    "lenType": 16,
    "lenVar": 40
   },
   "kernels_config": {
    "python": {
     "delete_cmd_postfix": "",
     "delete_cmd_prefix": "del ",
     "library": "var_list.py",
     "varRefreshCmd": "print(var_dic_list())"
    },
    "r": {
     "delete_cmd_postfix": ") ",
     "delete_cmd_prefix": "rm(",
     "library": "var_list.r",
     "varRefreshCmd": "cat(var_dic_list()) "
    }
   },
   "position": {
    "height": "151.85px",
    "left": "922px",
    "right": "20px",
    "top": "-1px",
    "width": "372px"
   },
   "types_to_exclude": [
    "module",
    "function",
    "builtin_function_or_method",
    "instance",
    "_Feature"
   ],
   "window_display": true
  }
 },
 "nbformat": 4,
 "nbformat_minor": 4
}
